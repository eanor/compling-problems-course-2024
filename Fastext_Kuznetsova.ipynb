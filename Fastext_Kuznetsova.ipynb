{
  "cells": [
    {
      "cell_type": "markdown",
      "id": "ca9018a8-98d3-43e9-aadb-e7a7bee17a85",
      "metadata": {
        "id": "ca9018a8-98d3-43e9-aadb-e7a7bee17a85"
      },
      "source": [
        "## Fastext своими руками\n",
        "\n",
        "Fastext использует те же самые алгоритмы, что и word2vec. Единственное (но очень значимое) отличие в том, что в fastext используются не только слова, но и символьные нграммы. Это частично помогает решить проблему с несловарными словами. Если в словаре word2vec модели нет нужного слова, то никакого вектора для него создать не получится. В fastext же, если слова нет в словаре целиком, то можно проверить по словарю символьные нграммы этого слова и составить итоговый вектор из них. Большинство несловарных слов сильно пересекаются со словарными (основами, аффиксами) и за счет этого найденный вектор получается достаточно хороший.\n",
        "Реализовать простую версию fastext немного сложнее, поэтому я вынес его в отдельный ноутбук."
      ]
    },
    {
      "cell_type": "code",
      "execution_count": 1,
      "id": "9be38530-a130-4f1f-baf6-d9d4f56396e3",
      "metadata": {
        "id": "9be38530-a130-4f1f-baf6-d9d4f56396e3"
      },
      "outputs": [],
      "source": [
        "# import tensorflow as tf\n",
        "import numpy as np\n",
        "import pandas as pd\n",
        "from string import punctuation\n",
        "from sklearn.model_selection import train_test_split\n",
        "from collections import Counter\n",
        "import matplotlib.pyplot as plt\n",
        "from sklearn.decomposition import TruncatedSVD\n",
        "from sklearn.feature_extraction.text import CountVectorizer\n",
        "from sklearn.metrics.pairwise import cosine_distances\n",
        "\n",
        "from IPython.display import Image\n",
        "from IPython.core.display import HTML\n",
        "%matplotlib inline\n"
      ]
    },
    {
      "cell_type": "code",
      "execution_count": 2,
      "id": "b83e8611-49e4-4001-8046-cda52b85e965",
      "metadata": {
        "colab": {
          "base_uri": "https://localhost:8080/"
        },
        "id": "b83e8611-49e4-4001-8046-cda52b85e965",
        "outputId": "dd2f5838-4e04-49b3-f7ab-fbc728ab0b75"
      },
      "outputs": [
        {
          "output_type": "stream",
          "name": "stdout",
          "text": [
            "3.8.0\n"
          ]
        }
      ],
      "source": [
        "import os\n",
        "os.environ[\"KERAS_BACKEND\"] = \"torch\"\n",
        "# os.environ[\"PYTORCH_ENABLE_MPS_FALLBACK\"] = \"1\"\n",
        "\n",
        "import torch\n",
        "# torch.set_default_device('cpu')\n",
        "\n",
        "import keras\n",
        "print(keras.__version__)"
      ]
    },
    {
      "cell_type": "markdown",
      "id": "d9e201b4-924b-4b88-ab5f-facca2e9e511",
      "metadata": {
        "id": "d9e201b4-924b-4b88-ab5f-facca2e9e511"
      },
      "source": [
        "Возьмем тот же небольшой кусок википедии"
      ]
    },
    {
      "cell_type": "code",
      "execution_count": 4,
      "id": "73b1f1d1-53c4-424b-b34b-4e5e772e1c99",
      "metadata": {
        "id": "73b1f1d1-53c4-424b-b34b-4e5e772e1c99"
      },
      "outputs": [],
      "source": [
        "# в нашем корпусе 20к текстов\n",
        "wiki = open('wiki_data.txt').read().split('\\n')"
      ]
    },
    {
      "cell_type": "code",
      "execution_count": 5,
      "id": "f156ffec-37a8-4860-8489-53ea24f4761f",
      "metadata": {
        "colab": {
          "base_uri": "https://localhost:8080/",
          "height": 145
        },
        "id": "f156ffec-37a8-4860-8489-53ea24f4761f",
        "outputId": "9b2ee2ed-039c-4321-b085-dc90e8824b37"
      },
      "outputs": [
        {
          "output_type": "execute_result",
          "data": {
            "text/plain": [
              "'######Новостройка (Нижегородская область)############Новостро́йка — сельский посёлок в Дивеевском районе Нижегородской области. Входит в состав Сатисского сельсовета.############Посёлок расположен в 12,5 км к югу от села Дивеева и 1 км к западу от города Сарова, на правом берегу реки Вичкинза (правый приток реки Сатис). Окружён смешанными лесами. Соединён асфальтовой дорогой с посёлком Цыгановка (1,5 км) и грунтовыми просёлочными дорогами с посёлком Сатис (3,5 км). Название Новостройка является сугубо официальным, местное население использует исключительно альтернативное название — Хитрый. Употребляется языковой оборот «…на Хитром». Ранее используемые названия — Песчаный, Известковый.############Основан в 1920-х годах переселенцами из соседних сёл Аламасово и Нарышкино (расположенных соответственно в 8 и 14 км к западу в Вознесенском районе).############Традиционно в посёлке жили рабочие совхоза «Вперёд» (центр в посёлке Сатис). Возле посёлка расположен карьер где активно добывали доломитовую муку и бутовый камень (в настоящее время официально закрыт).############По данным 1978 года посёлок Новостройка характеризовался как неперспективный, здесь насчитывалось 24 хозяйства и 43 жителя. Водоснабжение осуществлялось из колодцев и родников, учреждения соцкультбыта отсутствовали. В 1992 году в посёлке насчитывалось 7 хозяйств и 16 жителей, из которых 7 трудоспособного возраста. На 1 января 1995 года в посёлке имелось 6 хозяйств и 12 жителей.############В настоящее время посёлок не только остаётся жилым, но и получил развитие благодаря своей близости к святым источникам. В полукилометре расположен Казанский родник, а в 1,2 км — источник святого Серафима Саровского.############В посёлке расположен скит Дивеевского монастыря.######В 2012 году был освящён домовой храм в честь Серафима Саровского.##############################'"
            ],
            "application/vnd.google.colaboratory.intrinsic+json": {
              "type": "string"
            }
          },
          "metadata": {},
          "execution_count": 5
        }
      ],
      "source": [
        "wiki[0]"
      ]
    },
    {
      "cell_type": "code",
      "execution_count": 6,
      "id": "3d2fac88-447a-4392-9614-b532a6a7016e",
      "metadata": {
        "colab": {
          "base_uri": "https://localhost:8080/"
        },
        "id": "3d2fac88-447a-4392-9614-b532a6a7016e",
        "outputId": "6a13ae05-6abf-42bd-fbfd-7f4b0e401e1d"
      },
      "outputs": [
        {
          "output_type": "execute_result",
          "data": {
            "text/plain": [
              "20003"
            ]
          },
          "metadata": {},
          "execution_count": 6
        }
      ],
      "source": [
        "len(wiki)"
      ]
    },
    {
      "cell_type": "markdown",
      "id": "d088a22e-fa9e-4647-926b-15aead479c97",
      "metadata": {
        "id": "d088a22e-fa9e-4647-926b-15aead479c97"
      },
      "source": [
        "Базовая токенизация остается точно такой же"
      ]
    },
    {
      "cell_type": "code",
      "execution_count": 7,
      "id": "0ff1c5d7-08b0-4cc2-90f5-cfe01709f04f",
      "metadata": {
        "id": "0ff1c5d7-08b0-4cc2-90f5-cfe01709f04f"
      },
      "outputs": [],
      "source": [
        "import re\n",
        "from collections import Counter\n",
        "def tokenize(text):\n",
        "    tokens = re.sub('#+', ' ', text.lower()).split()\n",
        "    tokens = [token.strip(punctuation) for token in tokens]\n",
        "    tokens = [token for token in tokens if token]\n",
        "    return tokens\n"
      ]
    },
    {
      "cell_type": "markdown",
      "id": "b34852d5-d923-4d7b-8a51-73e3bda4d59a",
      "metadata": {
        "id": "b34852d5-d923-4d7b-8a51-73e3bda4d59a"
      },
      "source": [
        "Второй базовый элемент - это нграммер, чтобы разбивать токен на символьные нграммы\n",
        "Обратите внимание что к токену добавляются <> чтобы учесть в нграммах, что они стоят в начале или в конце"
      ]
    },
    {
      "cell_type": "code",
      "execution_count": 8,
      "id": "040c32c0-c661-4351-bf18-996db0c6dbd5",
      "metadata": {
        "id": "040c32c0-c661-4351-bf18-996db0c6dbd5"
      },
      "outputs": [],
      "source": [
        "def ngrammer(raw_string, n=2):\n",
        "    ngrams = []\n",
        "    raw_string = ''.join(['<', raw_string, '>'])\n",
        "    for i in range(0,len(raw_string)-n+1):\n",
        "        ngram = ''.join(raw_string[i:i+n])\n",
        "        if ngram == '<' or ngram == '>': # сами по себе <> как токены не нужны\n",
        "            continue\n",
        "        ngrams.append(ngram)\n",
        "    return ngrams"
      ]
    },
    {
      "cell_type": "markdown",
      "id": "4b514cd9-1860-4988-b3d0-554aad49164f",
      "metadata": {
        "id": "4b514cd9-1860-4988-b3d0-554aad49164f"
      },
      "source": [
        "Следующая функция проходится по токенам и разбивает каждый токен на подсимвольные нграммы в заданном интервале"
      ]
    },
    {
      "cell_type": "code",
      "execution_count": 9,
      "id": "540eb690-03a5-4153-b6c3-3fbd0a1d374b",
      "metadata": {
        "id": "540eb690-03a5-4153-b6c3-3fbd0a1d374b"
      },
      "outputs": [],
      "source": [
        "def split_tokens(tokens, min_ngram_size, max_ngram_size):\n",
        "    tokens_with_subwords = []\n",
        "    for token in tokens:\n",
        "        subtokens = []\n",
        "        for i in range(min_ngram_size, max_ngram_size+1):\n",
        "            if len(token) > i:\n",
        "                subtokens.extend(ngrammer(token, i))\n",
        "        tokens_with_subwords.append(subtokens)\n",
        "    return tokens_with_subwords\n"
      ]
    },
    {
      "cell_type": "code",
      "execution_count": 10,
      "id": "04670a7c-b998-4e9d-95df-f671496d2920",
      "metadata": {
        "scrolled": true,
        "colab": {
          "base_uri": "https://localhost:8080/"
        },
        "id": "04670a7c-b998-4e9d-95df-f671496d2920",
        "outputId": "55588716-fab5-47fe-bd1b-4a103c24d61a"
      },
      "outputs": [
        {
          "output_type": "execute_result",
          "data": {
            "text/plain": [
              "[['<по',\n",
              "  'под',\n",
              "  'одс',\n",
              "  'дси',\n",
              "  'сим',\n",
              "  'имв',\n",
              "  'мво',\n",
              "  'вол',\n",
              "  'оль',\n",
              "  'льн',\n",
              "  'ьны',\n",
              "  'ные',\n",
              "  'ые>',\n",
              "  '<под',\n",
              "  'подс',\n",
              "  'одси',\n",
              "  'дсим',\n",
              "  'симв',\n",
              "  'имво',\n",
              "  'мвол',\n",
              "  'воль',\n",
              "  'ольн',\n",
              "  'льны',\n",
              "  'ьные',\n",
              "  'ные>'],\n",
              " ['<нг',\n",
              "  'нгр',\n",
              "  'гра',\n",
              "  'рам',\n",
              "  'амм',\n",
              "  'ммы',\n",
              "  'мы>',\n",
              "  '<нгр',\n",
              "  'нгра',\n",
              "  'грам',\n",
              "  'рамм',\n",
              "  'аммы',\n",
              "  'ммы>']]"
            ]
          },
          "metadata": {},
          "execution_count": 10
        }
      ],
      "source": [
        "split_tokens(['подсимвольные', 'нграммы'], 3, 4)"
      ]
    },
    {
      "cell_type": "markdown",
      "id": "270f33a1-5b42-40ec-814d-16df7917ea70",
      "metadata": {
        "id": "270f33a1-5b42-40ec-814d-16df7917ea70"
      },
      "source": [
        "Теперь нам нужно спаппить токены и подсимвольные нграммы в индексы и для этого нужно построить словарь. Это немного сложнее чем раньше потому что мы хотим иметь в словаре и полные слова и символьные нграммы, но нам нужно иметь отдельный список только полных слов, чтобы потом иметь возможность находить ближайшие слова.\n",
        "\n",
        "Чтобы было удобнее со всеми переменными напишем класс для токенизации"
      ]
    },
    {
      "cell_type": "code",
      "execution_count": 11,
      "id": "4b1c4056-c3da-43bb-816f-264b92e89fd5",
      "metadata": {
        "id": "4b1c4056-c3da-43bb-816f-264b92e89fd5"
      },
      "outputs": [],
      "source": [
        "class SubwordTokenizer:\n",
        "    def __init__(self, ngram_range=(1,1), min_count=5):\n",
        "        self.min_ngram_size, self.max_ngram_size = ngram_range\n",
        "        self.min_count = min_count\n",
        "        self.subword_vocab = None\n",
        "        self.fullword_vocab = None\n",
        "        self.vocab = None\n",
        "        self.id2word = None\n",
        "        self.word2id = None\n",
        "\n",
        "    def build_vocab(self, texts):\n",
        "        # чтобы построить словарь нужно пройти по всему корпусу и собрать частоты всех уникальных слов и нграммов\n",
        "        unfiltered_subword_vocab = Counter()\n",
        "        unfiltered_fullword_vocab = Counter()\n",
        "        for text in texts:\n",
        "            tokens = tokenize(text)\n",
        "            unfiltered_fullword_vocab.update(tokens)\n",
        "            subwords_per_token = split_tokens(tokens, self.min_ngram_size, self.max_ngram_size)\n",
        "            for subwords in subwords_per_token:\n",
        "                # в одном слове могут быть одинаковые нграммы поэтому возьмем только уникальные\n",
        "                unfiltered_subword_vocab.update(set(subwords))\n",
        "\n",
        "        self.fullword_vocab = set()\n",
        "        self.subword_vocab = set()\n",
        "\n",
        "        # теперь отфильтруем по частоте\n",
        "        for word, count in unfiltered_fullword_vocab.items():\n",
        "            if count >= self.min_count:\n",
        "                self.fullword_vocab.add(word)\n",
        "        # для нграммов сделаем порог побольше чтобы не создавать слишком много нграммов\n",
        "        # и учитывать только действительно частотные\n",
        "        for word, count in unfiltered_subword_vocab.items():\n",
        "            if count >= (self.min_count * 100):\n",
        "                self.subword_vocab.add(word)\n",
        "\n",
        "        # общий словарь\n",
        "        self.vocab = self.fullword_vocab | self.subword_vocab\n",
        "        self.id2word = {i:word for i,word in enumerate(self.vocab)}\n",
        "        self.word2id = {word:i for i,word in self.id2word.items()}\n",
        "\n",
        "    def subword_tokenize(self, text):\n",
        "        if self.vocab is None:\n",
        "            raise AttributeError('Vocabulary is not built!')\n",
        "        # разбиваем на токены\n",
        "        tokens = tokenize(text)\n",
        "        # каждый токен разбиваем на символьные нграммы\n",
        "        tokens_with_subwords = split_tokens(tokens, self.min_ngram_size, self.max_ngram_size)\n",
        "        # оставляет только токены и нграммы которые есть в словаре\n",
        "        only_vocab_tokens_with_subwords = []\n",
        "        for full_token, sub_tokens in zip(tokens, tokens_with_subwords):\n",
        "            filtered = []\n",
        "            if full_token in self.vocab:\n",
        "                # само слово и нграммы хранятся в одном списке\n",
        "                # но слово будет всегда первым в списке\n",
        "                filtered.append(full_token)\n",
        "            filtered.extend([subtoken for subtoken in set(sub_tokens) if subtoken in self.vocab])\n",
        "            only_vocab_tokens_with_subwords.append(filtered)\n",
        "\n",
        "        return only_vocab_tokens_with_subwords\n",
        "\n",
        "    def encode(self, subword_tokenized_text):\n",
        "        # маппим токены и нграммы в их индексы в словаре\n",
        "        encoded_text = []\n",
        "        for token in subword_tokenized_text:\n",
        "            if not token:\n",
        "                continue\n",
        "            encoded_text.append([self.word2id[token[0]]] + [self.word2id[t] for t in set(token[1:]) if t in self.word2id and t != token[0]])\n",
        "        return encoded_text\n",
        "\n",
        "    def __call__(self, text):\n",
        "        return self.encode(self.subword_tokenize(text))\n"
      ]
    },
    {
      "cell_type": "code",
      "execution_count": 12,
      "id": "2964f47c-1ab8-4b3a-8af1-b845d6a4cd7a",
      "metadata": {
        "id": "2964f47c-1ab8-4b3a-8af1-b845d6a4cd7a"
      },
      "outputs": [],
      "source": [
        "tokenizer = SubwordTokenizer(ngram_range=(2,4), min_count=10)"
      ]
    },
    {
      "cell_type": "code",
      "execution_count": 13,
      "id": "8e2445c1-7e68-401a-bad8-2d19d822c15b",
      "metadata": {
        "id": "8e2445c1-7e68-401a-bad8-2d19d822c15b"
      },
      "outputs": [],
      "source": [
        "tokenizer.build_vocab(wiki)"
      ]
    },
    {
      "cell_type": "code",
      "execution_count": 14,
      "id": "318cf75d-086f-41f5-88d8-9c771201e2ea",
      "metadata": {
        "colab": {
          "base_uri": "https://localhost:8080/"
        },
        "id": "318cf75d-086f-41f5-88d8-9c771201e2ea",
        "outputId": "74d4efb6-c4af-4039-9c05-1aa613cc940e"
      },
      "outputs": [
        {
          "output_type": "execute_result",
          "data": {
            "text/plain": [
              "[['текст',\n",
              "  'ст',\n",
              "  '<тек',\n",
              "  'ек',\n",
              "  'тек',\n",
              "  'кст',\n",
              "  'текс',\n",
              "  'ст>',\n",
              "  'те',\n",
              "  'екс',\n",
              "  '<т',\n",
              "  'т>',\n",
              "  '<те',\n",
              "  'екст',\n",
              "  'кс'],\n",
              " ['для', 'дл', 'я>', 'ля', '<д'],\n",
              " ['тестирования',\n",
              "  'ован',\n",
              "  'ания',\n",
              "  'ия',\n",
              "  'тес',\n",
              "  'ия>',\n",
              "  'ния>',\n",
              "  'ст',\n",
              "  'ро',\n",
              "  'рова',\n",
              "  'ест',\n",
              "  '<т',\n",
              "  'ров',\n",
              "  'ир',\n",
              "  'ани',\n",
              "  'я>',\n",
              "  'ес',\n",
              "  'ния',\n",
              "  'тир',\n",
              "  '<те',\n",
              "  'ва',\n",
              "  'ести',\n",
              "  'иро',\n",
              "  'иров',\n",
              "  'ан',\n",
              "  'ван',\n",
              "  'ов',\n",
              "  'тест',\n",
              "  'тиро',\n",
              "  'ова',\n",
              "  'сти',\n",
              "  'вани',\n",
              "  'ти',\n",
              "  'те',\n",
              "  'ни'],\n",
              " ['иза',\n",
              "  'низа',\n",
              "  'кен',\n",
              "  'ен',\n",
              "  'заци',\n",
              "  'ке',\n",
              "  'ии>',\n",
              "  'ации',\n",
              "  'токе',\n",
              "  'из',\n",
              "  'ац',\n",
              "  'ок',\n",
              "  'то',\n",
              "  'ток',\n",
              "  '<т',\n",
              "  'ии',\n",
              "  'оке',\n",
              "  '<то',\n",
              "  'ции>',\n",
              "  'ци',\n",
              "  'изац',\n",
              "  'за',\n",
              "  'ени',\n",
              "  'ции',\n",
              "  'ни',\n",
              "  'низ',\n",
              "  'и>',\n",
              "  'аци',\n",
              "  'зац']]"
            ]
          },
          "metadata": {},
          "execution_count": 14
        }
      ],
      "source": [
        "tokenizer.subword_tokenize('Текст для тестирования токенизации')"
      ]
    },
    {
      "cell_type": "code",
      "execution_count": 17,
      "id": "2f488c48-5fad-414d-9be8-d432e062bc9b",
      "metadata": {
        "colab": {
          "base_uri": "https://localhost:8080/"
        },
        "id": "2f488c48-5fad-414d-9be8-d432e062bc9b",
        "outputId": "706aa5f8-ff58-4775-c7be-95901a0bce0f"
      },
      "outputs": [
        {
          "output_type": "execute_result",
          "data": {
            "text/plain": [
              "54860"
            ]
          },
          "metadata": {},
          "execution_count": 17
        }
      ],
      "source": [
        "len(tokenizer.vocab)"
      ]
    },
    {
      "cell_type": "code",
      "execution_count": 18,
      "id": "e6f2a37a-c4f9-4a2b-a0b3-e8ca4dd9d104",
      "metadata": {
        "scrolled": true,
        "colab": {
          "base_uri": "https://localhost:8080/"
        },
        "id": "e6f2a37a-c4f9-4a2b-a0b3-e8ca4dd9d104",
        "outputId": "f037c82a-69d3-4629-9572-ee305ea7edf4"
      },
      "outputs": [
        {
          "output_type": "execute_result",
          "data": {
            "text/plain": [
              "[[32047,\n",
              "  48929,\n",
              "  9723,\n",
              "  48462,\n",
              "  14216,\n",
              "  43720,\n",
              "  24395,\n",
              "  45617,\n",
              "  29732,\n",
              "  1615,\n",
              "  36156,\n",
              "  34740,\n",
              "  21774,\n",
              "  10969,\n",
              "  16178],\n",
              " [41158, 40212, 17938, 23853, 43107],\n",
              " [20122,\n",
              "  6741,\n",
              "  3931,\n",
              "  36210,\n",
              "  29693,\n",
              "  40934,\n",
              "  27179,\n",
              "  48929,\n",
              "  2881,\n",
              "  47426,\n",
              "  29088,\n",
              "  36156,\n",
              "  3217,\n",
              "  11633,\n",
              "  33638,\n",
              "  17938,\n",
              "  18933,\n",
              "  13853,\n",
              "  11138,\n",
              "  21774,\n",
              "  3914,\n",
              "  13522,\n",
              "  9243,\n",
              "  8318,\n",
              "  4602,\n",
              "  6508,\n",
              "  41493,\n",
              "  517,\n",
              "  46963,\n",
              "  54664,\n",
              "  35388,\n",
              "  92,\n",
              "  31625,\n",
              "  29732,\n",
              "  29834],\n",
              " [21735,\n",
              "  42059,\n",
              "  18566,\n",
              "  37428,\n",
              "  19402,\n",
              "  17247,\n",
              "  48252,\n",
              "  36960,\n",
              "  21459,\n",
              "  28392,\n",
              "  44155,\n",
              "  17646,\n",
              "  23332,\n",
              "  169,\n",
              "  36156,\n",
              "  5862,\n",
              "  8353,\n",
              "  20507,\n",
              "  34974,\n",
              "  47500,\n",
              "  9616,\n",
              "  4500,\n",
              "  20779,\n",
              "  26470,\n",
              "  29834,\n",
              "  5289,\n",
              "  39462,\n",
              "  48466,\n",
              "  9922]]"
            ]
          },
          "metadata": {},
          "execution_count": 18
        }
      ],
      "source": [
        "tokenizer('Текст для тестирования токенизации')"
      ]
    },
    {
      "cell_type": "markdown",
      "id": "a3bb6393-2351-436a-8aaa-58ec1c7353c0",
      "metadata": {
        "id": "a3bb6393-2351-436a-8aaa-58ec1c7353c0"
      },
      "source": [
        "Реализуем функцию которая будет генерировать батчи для обучения. Сделаем только скипграмм алгоритм. То есть нам нужны пары токен_1 - токен_2 встретившиеся в одном контексте, только для токена_1 мы еще будет учитывать его символьный нграммы, а токен_2 будет предсказывать только целиком без разбиение на поднграммы"
      ]
    },
    {
      "cell_type": "code",
      "execution_count": 19,
      "id": "f2308cbf-cca8-4044-8c6d-80d4815f914e",
      "metadata": {
        "id": "f2308cbf-cca8-4044-8c6d-80d4815f914e"
      },
      "outputs": [],
      "source": [
        "def gen_batches_ft(sentences, tokenizer, window = 5, batch_size=1000, maxlen=20):\n",
        "\n",
        "\n",
        "    left_context_length = (window/2).__ceil__()\n",
        "    right_context_length = window // 2\n",
        "\n",
        "    while True:\n",
        "        X = []\n",
        "        y = []\n",
        "\n",
        "        for sent in sentences:\n",
        "            sent = tokenizer(sent)\n",
        "            for i in range(len(sent)-1):\n",
        "                word_with_subtokens = sent[i]\n",
        "                context = sent[max(0, i-left_context_length):i] + sent[i+1:i+right_context_length]\n",
        "                for context_word_with_subtokens in context:\n",
        "                    # целевой токен всегда только целый\n",
        "                    # мы берем первый токен из списка который вернул токенайзер\n",
        "                    # там у нас будет лежать целое слово\n",
        "                    only_full_word_context_token = context_word_with_subtokens[0]\n",
        "                    X.append(word_with_subtokens)\n",
        "                    y.append(only_full_word_context_token)\n",
        "\n",
        "                    if len(X) >= batch_size:\n",
        "                        # тут нам понадобится паддинг так как количество сивольных нграммов будет зависеть от длины токенов\n",
        "                        X = np.array(keras.preprocessing.sequence.pad_sequences(X, maxlen=maxlen))\n",
        "                        y = np.array(y)\n",
        "                        yield (X, y)\n",
        "                        X = []\n",
        "                        y = []"
      ]
    },
    {
      "cell_type": "code",
      "execution_count": 20,
      "id": "4fa2a8c6-f144-484e-b641-b89749bb710c",
      "metadata": {
        "id": "4fa2a8c6-f144-484e-b641-b89749bb710c"
      },
      "outputs": [],
      "source": [
        "gen = gen_batches_ft(wiki, tokenizer, batch_size=5)"
      ]
    },
    {
      "cell_type": "code",
      "execution_count": 21,
      "id": "11d3ef2c-3bb4-4e19-9fe3-8f8592d02381",
      "metadata": {
        "colab": {
          "base_uri": "https://localhost:8080/"
        },
        "id": "11d3ef2c-3bb4-4e19-9fe3-8f8592d02381",
        "outputId": "6259b6d4-704a-438c-9999-7131a1137568"
      },
      "outputs": [
        {
          "output_type": "execute_result",
          "data": {
            "text/plain": [
              "(array([[ 2881, 15696, 36218, 39612, 37544, 21529, 41064, 45042, 13847,\n",
              "          5320, 13635,  4644, 29504, 51020, 20222,  4870, 41493, 37669,\n",
              "         11385,  3770],\n",
              "        [39723, 25845, 53797, 41064, 21879, 50968, 17938, 24886, 12777,\n",
              "         44064, 35966, 23514, 48686,  4870, 15609, 31382, 29834, 38748,\n",
              "           924, 33550],\n",
              "        [39723, 25845, 53797, 41064, 21879, 50968, 17938, 24886, 12777,\n",
              "         44064, 35966, 23514, 48686,  4870, 15609, 31382, 29834, 38748,\n",
              "           924, 33550],\n",
              "        [52081, 13337,  3518, 48929, 27301,  3474, 49923, 47585, 38009,\n",
              "         11756, 50349,  3427, 13585, 29827, 32042, 34718, 29404, 22681,\n",
              "         40654, 15618],\n",
              "        [52081, 13337,  3518, 48929, 27301,  3474, 49923, 47585, 38009,\n",
              "         11756, 50349,  3427, 13585, 29827, 32042, 34718, 29404, 22681,\n",
              "         40654, 15618]], dtype=int32),\n",
              " array([ 6449, 28929, 47718, 28929,  6449]))"
            ]
          },
          "metadata": {},
          "execution_count": 21
        }
      ],
      "source": [
        "next(gen)"
      ]
    },
    {
      "cell_type": "markdown",
      "id": "a16b8442-7830-4e92-bf2a-007eaed7354a",
      "metadata": {
        "id": "a16b8442-7830-4e92-bf2a-007eaed7354a"
      },
      "source": [
        "Код для обучения очень простой. Мы просто сопостовляет каждому токену и нграмму эмбединг и усредняем все эмбединги внутри слова, чтобы получить итоговый. По нему мы пытаемся предсказать целевое слово."
      ]
    },
    {
      "cell_type": "code",
      "execution_count": 22,
      "id": "e2229acf-0d74-46f9-87f5-2c7f56d79fb4",
      "metadata": {
        "id": "e2229acf-0d74-46f9-87f5-2c7f56d79fb4"
      },
      "outputs": [],
      "source": [
        "model = keras.Sequential()\n",
        "model.add(keras.layers.Embedding(input_dim=len(tokenizer.vocab),\n",
        "                                 output_dim=100))\n",
        "model.add(keras.layers.Lambda(lambda x: x.mean(axis=1)))\n",
        "\n",
        "model.add(keras.layers.Dense(len(tokenizer.vocab), activation='softmax'))\n",
        "model.compile(optimizer=keras.optimizers.Adam(learning_rate=1e-4), loss='sparse_categorical_crossentropy')"
      ]
    },
    {
      "cell_type": "code",
      "execution_count": 23,
      "id": "78620544-d4e7-4d26-8351-bb99b910ec13",
      "metadata": {
        "id": "78620544-d4e7-4d26-8351-bb99b910ec13"
      },
      "outputs": [],
      "source": [
        "model.build((None, 10))"
      ]
    },
    {
      "cell_type": "code",
      "execution_count": 24,
      "id": "71ab62bb-a552-41eb-9df2-bb7d4e7b5c22",
      "metadata": {
        "colab": {
          "base_uri": "https://localhost:8080/",
          "height": 225
        },
        "id": "71ab62bb-a552-41eb-9df2-bb7d4e7b5c22",
        "outputId": "d29de31c-63bb-40d6-8a78-746d6e750b85"
      },
      "outputs": [
        {
          "output_type": "display_data",
          "data": {
            "text/plain": [
              "\u001b[1mModel: \"sequential\"\u001b[0m\n"
            ],
            "text/html": [
              "<pre style=\"white-space:pre;overflow-x:auto;line-height:normal;font-family:Menlo,'DejaVu Sans Mono',consolas,'Courier New',monospace\"><span style=\"font-weight: bold\">Model: \"sequential\"</span>\n",
              "</pre>\n"
            ]
          },
          "metadata": {}
        },
        {
          "output_type": "display_data",
          "data": {
            "text/plain": [
              "┏━━━━━━━━━━━━━━━━━━━━━━━━━━━━━━━━━┳━━━━━━━━━━━━━━━━━━━━━━━━┳━━━━━━━━━━━━━━━┓\n",
              "┃\u001b[1m \u001b[0m\u001b[1mLayer (type)                   \u001b[0m\u001b[1m \u001b[0m┃\u001b[1m \u001b[0m\u001b[1mOutput Shape          \u001b[0m\u001b[1m \u001b[0m┃\u001b[1m \u001b[0m\u001b[1m      Param #\u001b[0m\u001b[1m \u001b[0m┃\n",
              "┡━━━━━━━━━━━━━━━━━━━━━━━━━━━━━━━━━╇━━━━━━━━━━━━━━━━━━━━━━━━╇━━━━━━━━━━━━━━━┩\n",
              "│ embedding (\u001b[38;5;33mEmbedding\u001b[0m)           │ (\u001b[38;5;45mNone\u001b[0m, \u001b[38;5;34m10\u001b[0m, \u001b[38;5;34m100\u001b[0m)        │     \u001b[38;5;34m5,486,000\u001b[0m │\n",
              "├─────────────────────────────────┼────────────────────────┼───────────────┤\n",
              "│ lambda (\u001b[38;5;33mLambda\u001b[0m)                 │ (\u001b[38;5;45mNone\u001b[0m, \u001b[38;5;34m100\u001b[0m)            │             \u001b[38;5;34m0\u001b[0m │\n",
              "├─────────────────────────────────┼────────────────────────┼───────────────┤\n",
              "│ dense (\u001b[38;5;33mDense\u001b[0m)                   │ (\u001b[38;5;45mNone\u001b[0m, \u001b[38;5;34m54860\u001b[0m)          │     \u001b[38;5;34m5,540,860\u001b[0m │\n",
              "└─────────────────────────────────┴────────────────────────┴───────────────┘\n"
            ],
            "text/html": [
              "<pre style=\"white-space:pre;overflow-x:auto;line-height:normal;font-family:Menlo,'DejaVu Sans Mono',consolas,'Courier New',monospace\">┏━━━━━━━━━━━━━━━━━━━━━━━━━━━━━━━━━┳━━━━━━━━━━━━━━━━━━━━━━━━┳━━━━━━━━━━━━━━━┓\n",
              "┃<span style=\"font-weight: bold\"> Layer (type)                    </span>┃<span style=\"font-weight: bold\"> Output Shape           </span>┃<span style=\"font-weight: bold\">       Param # </span>┃\n",
              "┡━━━━━━━━━━━━━━━━━━━━━━━━━━━━━━━━━╇━━━━━━━━━━━━━━━━━━━━━━━━╇━━━━━━━━━━━━━━━┩\n",
              "│ embedding (<span style=\"color: #0087ff; text-decoration-color: #0087ff\">Embedding</span>)           │ (<span style=\"color: #00d7ff; text-decoration-color: #00d7ff\">None</span>, <span style=\"color: #00af00; text-decoration-color: #00af00\">10</span>, <span style=\"color: #00af00; text-decoration-color: #00af00\">100</span>)        │     <span style=\"color: #00af00; text-decoration-color: #00af00\">5,486,000</span> │\n",
              "├─────────────────────────────────┼────────────────────────┼───────────────┤\n",
              "│ lambda (<span style=\"color: #0087ff; text-decoration-color: #0087ff\">Lambda</span>)                 │ (<span style=\"color: #00d7ff; text-decoration-color: #00d7ff\">None</span>, <span style=\"color: #00af00; text-decoration-color: #00af00\">100</span>)            │             <span style=\"color: #00af00; text-decoration-color: #00af00\">0</span> │\n",
              "├─────────────────────────────────┼────────────────────────┼───────────────┤\n",
              "│ dense (<span style=\"color: #0087ff; text-decoration-color: #0087ff\">Dense</span>)                   │ (<span style=\"color: #00d7ff; text-decoration-color: #00d7ff\">None</span>, <span style=\"color: #00af00; text-decoration-color: #00af00\">54860</span>)          │     <span style=\"color: #00af00; text-decoration-color: #00af00\">5,540,860</span> │\n",
              "└─────────────────────────────────┴────────────────────────┴───────────────┘\n",
              "</pre>\n"
            ]
          },
          "metadata": {}
        },
        {
          "output_type": "display_data",
          "data": {
            "text/plain": [
              "\u001b[1m Total params: \u001b[0m\u001b[38;5;34m11,026,860\u001b[0m (42.06 MB)\n"
            ],
            "text/html": [
              "<pre style=\"white-space:pre;overflow-x:auto;line-height:normal;font-family:Menlo,'DejaVu Sans Mono',consolas,'Courier New',monospace\"><span style=\"font-weight: bold\"> Total params: </span><span style=\"color: #00af00; text-decoration-color: #00af00\">11,026,860</span> (42.06 MB)\n",
              "</pre>\n"
            ]
          },
          "metadata": {}
        },
        {
          "output_type": "display_data",
          "data": {
            "text/plain": [
              "\u001b[1m Trainable params: \u001b[0m\u001b[38;5;34m11,026,860\u001b[0m (42.06 MB)\n"
            ],
            "text/html": [
              "<pre style=\"white-space:pre;overflow-x:auto;line-height:normal;font-family:Menlo,'DejaVu Sans Mono',consolas,'Courier New',monospace\"><span style=\"font-weight: bold\"> Trainable params: </span><span style=\"color: #00af00; text-decoration-color: #00af00\">11,026,860</span> (42.06 MB)\n",
              "</pre>\n"
            ]
          },
          "metadata": {}
        },
        {
          "output_type": "display_data",
          "data": {
            "text/plain": [
              "\u001b[1m Non-trainable params: \u001b[0m\u001b[38;5;34m0\u001b[0m (0.00 B)\n"
            ],
            "text/html": [
              "<pre style=\"white-space:pre;overflow-x:auto;line-height:normal;font-family:Menlo,'DejaVu Sans Mono',consolas,'Courier New',monospace\"><span style=\"font-weight: bold\"> Non-trainable params: </span><span style=\"color: #00af00; text-decoration-color: #00af00\">0</span> (0.00 B)\n",
              "</pre>\n"
            ]
          },
          "metadata": {}
        }
      ],
      "source": [
        "model.summary()"
      ]
    },
    {
      "cell_type": "code",
      "execution_count": 27,
      "id": "d4a88c49-025a-4f9b-99c1-632dd679c061",
      "metadata": {
        "colab": {
          "base_uri": "https://localhost:8080/"
        },
        "id": "d4a88c49-025a-4f9b-99c1-632dd679c061",
        "outputId": "737e1494-235d-4272-851d-3fbc10327aec"
      },
      "outputs": [
        {
          "output_type": "stream",
          "name": "stdout",
          "text": [
            "Epoch 1/2\n",
            "\u001b[1m10000/10000\u001b[0m \u001b[32m━━━━━━━━━━━━━━━━━━━━\u001b[0m\u001b[37m\u001b[0m \u001b[1m4446s\u001b[0m 444ms/step - loss: 8.9270 - val_loss: 9.1557\n",
            "Epoch 2/2\n",
            "\u001b[1m10000/10000\u001b[0m \u001b[32m━━━━━━━━━━━━━━━━━━━━\u001b[0m\u001b[37m\u001b[0m \u001b[1m3755s\u001b[0m 376ms/step - loss: 8.8052 - val_loss: 9.0009\n"
          ]
        },
        {
          "output_type": "execute_result",
          "data": {
            "text/plain": [
              "<keras.src.callbacks.history.History at 0x7f1c180ebd50>"
            ]
          },
          "metadata": {},
          "execution_count": 27
        }
      ],
      "source": [
        "model.fit(gen_batches_ft(wiki[:19000],tokenizer, window=10, batch_size=100),\n",
        "          validation_data=gen_batches_ft(wiki[19000:], tokenizer, window=10, batch_size=100),\n",
        "          batch_size=2000,\n",
        "          steps_per_epoch=10000,\n",
        "          validation_steps=100,\n",
        "          epochs=2)"
      ]
    },
    {
      "cell_type": "code",
      "execution_count": 28,
      "id": "680c2887-b0b7-4432-98cf-b8a1d2ac89ad",
      "metadata": {
        "colab": {
          "base_uri": "https://localhost:8080/",
          "height": 490
        },
        "id": "680c2887-b0b7-4432-98cf-b8a1d2ac89ad",
        "outputId": "ff31cc14-d634-414c-bac1-66534a5891f0"
      },
      "outputs": [
        {
          "output_type": "stream",
          "name": "stdout",
          "text": [
            "dict_keys(['loss', 'val_loss'])\n"
          ]
        },
        {
          "output_type": "display_data",
          "data": {
            "text/plain": [
              "<Figure size 640x480 with 1 Axes>"
            ],
            "image/png": "[encoded data removed]"
          },
          "metadata": {}
        }
      ],
      "source": [
        "print(model.history.history.keys())\n",
        "# summarize history for accuracy\n",
        "plt.plot(model.history.history['loss'])\n",
        "plt.plot(model.history.history['val_loss'])\n",
        "plt.title('model loss')\n",
        "plt.ylabel('loss')\n",
        "plt.xlabel('epoch')\n",
        "plt.legend(['train', 'val'], loc='upper left')\n",
        "plt.show()"
      ]
    },
    {
      "cell_type": "markdown",
      "id": "2859f8f3-36b8-41b4-9e85-5960ca067673",
      "metadata": {
        "id": "2859f8f3-36b8-41b4-9e85-5960ca067673"
      },
      "source": [
        "Искать похожие немного сложнее так как нам нужно для всех полных слов еще и учесть информацию об их поднграммах."
      ]
    },
    {
      "cell_type": "code",
      "execution_count": 29,
      "id": "8f87407d-1abd-4a8c-90df-92abaa9d7bf6",
      "metadata": {
        "id": "8f87407d-1abd-4a8c-90df-92abaa9d7bf6"
      },
      "outputs": [],
      "source": [
        "embeddings = model.layers[0].get_weights()[0] # матрица со всеми эмбедингами"
      ]
    },
    {
      "cell_type": "code",
      "execution_count": 30,
      "id": "f8606be6-2782-4a5c-882f-a7d05241898e",
      "metadata": {
        "id": "f8606be6-2782-4a5c-882f-a7d05241898e"
      },
      "outputs": [],
      "source": [
        "full_word_embeddings = np.zeros((len(tokenizer.fullword_vocab), 100)) # матрица с эмбедингами полных слов + нграммы\n",
        "id2word = list(tokenizer.fullword_vocab)\n",
        "\n",
        "for i, word in enumerate(tokenizer.fullword_vocab):\n",
        "    subwords = tokenizer(word)[0]\n",
        "    full_word_embeddings[i] = embeddings[[i for i in subwords]].mean(axis=0)"
      ]
    },
    {
      "cell_type": "code",
      "execution_count": 31,
      "id": "6b53ba6e-ee0d-4e05-ba2d-e1bb35b27f50",
      "metadata": {
        "id": "6b53ba6e-ee0d-4e05-ba2d-e1bb35b27f50"
      },
      "outputs": [],
      "source": [
        "def most_similar_ft(word, embeddings, tokenizer):\n",
        "    subwords = tokenizer(word)[0]\n",
        "    word_embedding = embeddings[[i for i in subwords]].sum(axis=0)\n",
        "    # idxs = [tokenizer.word2id[i] for i in tokenizer.fullword_vocab]\n",
        "    similar = [id2word[i] for i in\n",
        "               cosine_distances(word_embedding.reshape(1, -1), full_word_embeddings).argsort()[0][:20]]\n",
        "    return similar"
      ]
    },
    {
      "cell_type": "markdown",
      "id": "3d7d9755-1249-49de-806a-a42c0f4e596f",
      "metadata": {
        "id": "3d7d9755-1249-49de-806a-a42c0f4e596f"
      },
      "source": [
        "Из результатов поиска видно что fastext учитывает поднграмы и находит как ближайшие не только близкие по смыслу но и по форме"
      ]
    },
    {
      "cell_type": "code",
      "execution_count": 32,
      "id": "a44f1c1c-9125-4335-a562-3ff768b39fd3",
      "metadata": {
        "colab": {
          "base_uri": "https://localhost:8080/"
        },
        "id": "a44f1c1c-9125-4335-a562-3ff768b39fd3",
        "outputId": "52665841-bc8f-4409-dd9f-9be5dada2fd9"
      },
      "outputs": [
        {
          "output_type": "execute_result",
          "data": {
            "text/plain": [
              "['семья',\n",
              " 'семьях',\n",
              " 'семье',\n",
              " 'семь',\n",
              " 'семьям',\n",
              " 'семью',\n",
              " 'семьёй',\n",
              " 'семьями',\n",
              " 'семьей',\n",
              " 'семьи»',\n",
              " 'сельскохозяйственную',\n",
              " 'семьи',\n",
              " 'сельскохозяйственным',\n",
              " 'семеновка',\n",
              " 'семеноводства',\n",
              " 'секретарем',\n",
              " 'семёновского',\n",
              " 'значениях',\n",
              " 'современниками',\n",
              " 'сельскохозяйственной']"
            ]
          },
          "metadata": {},
          "execution_count": 32
        }
      ],
      "source": [
        "most_similar_ft('семья', embeddings, tokenizer)"
      ]
    },
    {
      "cell_type": "code",
      "execution_count": 33,
      "id": "f86b30a3-bda4-4644-af30-3550958a6ce2",
      "metadata": {
        "colab": {
          "base_uri": "https://localhost:8080/"
        },
        "id": "f86b30a3-bda4-4644-af30-3550958a6ce2",
        "outputId": "4b352e95-9fc2-47cd-aae4-773563e8c636"
      },
      "outputs": [
        {
          "output_type": "execute_result",
          "data": {
            "text/plain": [
              "['церковь',\n",
              " '«церковь',\n",
              " 'церковью',\n",
              " 'церковном',\n",
              " 'церковное',\n",
              " 'церковных',\n",
              " 'церковным',\n",
              " 'церковные',\n",
              " 'церковную',\n",
              " 'церковному',\n",
              " 'церковный',\n",
              " 'церковной',\n",
              " 'церковная',\n",
              " 'церковного',\n",
              " 'концертном',\n",
              " 'церковно-приходская',\n",
              " 'церквях',\n",
              " 'атлантического',\n",
              " 'атлантическом',\n",
              " 'физико-математического']"
            ]
          },
          "metadata": {},
          "execution_count": 33
        }
      ],
      "source": [
        "most_similar_ft(\"церковь\", embeddings, tokenizer)"
      ]
    },
    {
      "cell_type": "code",
      "execution_count": 34,
      "id": "c65ad6de-6869-4e3d-a5bb-689476f092dd",
      "metadata": {
        "colab": {
          "base_uri": "https://localhost:8080/"
        },
        "id": "c65ad6de-6869-4e3d-a5bb-689476f092dd",
        "outputId": "f6640620-e23f-40d2-9143-2d9aee8a6ce3"
      },
      "outputs": [
        {
          "output_type": "execute_result",
          "data": {
            "text/plain": [
              "['делать',\n",
              " 'сделать',\n",
              " 'переделать',\n",
              " 'проделать',\n",
              " 'дела»',\n",
              " 'дель',\n",
              " 'прислать',\n",
              " 'делалось',\n",
              " 'делал',\n",
              " 'делах',\n",
              " 'дела',\n",
              " 'делались',\n",
              " 'делают',\n",
              " 'держать',\n",
              " 'выдержать',\n",
              " 'делало',\n",
              " 'слышать',\n",
              " 'взаимодействовать',\n",
              " 'платить',\n",
              " 'пределах']"
            ]
          },
          "metadata": {},
          "execution_count": 34
        }
      ],
      "source": [
        "most_similar_ft(\"делать\", embeddings, tokenizer)"
      ]
    },
    {
      "cell_type": "markdown",
      "source": [
        "В тетрадку с фастекстом добавьте код для обучения с negative sampling (задача сводится к бинарной классификации) и обучите модель. Проверьте полученную модель на нескольких словах. Похожие слова должны быть похожими по смыслу и по форме."
      ],
      "metadata": {
        "id": "TP56WhI_l5zH"
      },
      "id": "TP56WhI_l5zH"
    },
    {
      "cell_type": "code",
      "source": [
        "def generate_negatives(pos_pairs, num_negatives, vocab_size):\n",
        "    negatives = []\n",
        "    for pair in pos_pairs:\n",
        "        negative_samples = np.random.randint(0, vocab_size, size=num_negatives)\n",
        "        negatives.extend([(pair[0], neg) for neg in negative_samples])\n",
        "    return negatives"
      ],
      "metadata": {
        "id": "uXs6FD7Ca_rz"
      },
      "execution_count": 35,
      "outputs": [],
      "id": "uXs6FD7Ca_rz"
    },
    {
      "cell_type": "code",
      "source": [
        "def gen_batches_ft(sentences, tokenizer, window=5, batch_size=1000, maxlen=20, num_negatives=5):\n",
        "    left_context_length = (window / 2).__ceil__()\n",
        "    right_context_length = window // 2\n",
        "    vocab_size = len(tokenizer.vocab)\n",
        "\n",
        "    while True:\n",
        "        X_pos = []\n",
        "        y_pos = []\n",
        "\n",
        "        for sent in sentences:\n",
        "            sent = tokenizer(sent)\n",
        "            for i in range(len(sent)):\n",
        "                word_with_subtokens = sent[i]\n",
        "                context = sent[max(0, i - left_context_length):i] + sent[i+1:i + right_context_length + 1]\n",
        "\n",
        "                for context_word_with_subtokens in context:\n",
        "                    if not context_word_with_subtokens:  # Пропускаем пустые контексты\n",
        "                        continue\n",
        "                    X_pos.append(word_with_subtokens)\n",
        "                    y_pos.append(context_word_with_subtokens[0])  # Берём только целое слово из контекста\n",
        "\n",
        "                    if len(X_pos) >= batch_size:\n",
        "                        X_pos_padded = keras.preprocessing.sequence.pad_sequences(\n",
        "                            X_pos, maxlen=maxlen, padding='post', truncating='post'\n",
        "                        )\n",
        "\n",
        "                        y_neg = np.random.randint(0, vocab_size, size=len(X_pos) * num_negatives)\n",
        "                        X_neg_padded = np.vstack([X_pos_padded] * num_negatives)  # Копируем X_pos для негативов\n",
        "\n",
        "                        X_batch = np.vstack([X_pos_padded, X_neg_padded])\n",
        "                        y_batch = np.array([1] * len(X_pos_padded) + [0] * len(X_neg_padded))\n",
        "\n",
        "                        indices = np.arange(len(X_batch))\n",
        "                        np.random.shuffle(indices)\n",
        "                        X_batch = X_batch[indices]\n",
        "                        y_batch = y_batch[indices]\n",
        "\n",
        "                        yield (X_batch, y_batch)\n",
        "                        X_pos = []\n",
        "                        y_pos = []"
      ],
      "metadata": {
        "id": "eFWMeojCgApE"
      },
      "execution_count": 42,
      "outputs": [],
      "id": "eFWMeojCgApE"
    },
    {
      "cell_type": "markdown",
      "source": [
        "Обновленная модель"
      ],
      "metadata": {
        "id": "ANRU9Xo3gTe6"
      },
      "id": "ANRU9Xo3gTe6"
    },
    {
      "cell_type": "code",
      "source": [
        "model = keras.Sequential([\n",
        "    keras.layers.Embedding(input_dim=len(tokenizer.vocab), output_dim=100),\n",
        "    keras.layers.Lambda(lambda x: x.mean(axis=1)),  # Усредняем n-граммы\n",
        "    keras.layers.Dense(1, activation='sigmoid')  # Бинарный классификатор\n",
        "])"
      ],
      "metadata": {
        "id": "9mFAyD64gOQf"
      },
      "execution_count": 43,
      "outputs": [],
      "id": "9mFAyD64gOQf"
    },
    {
      "cell_type": "code",
      "source": [
        "model.compile(\n",
        "    optimizer=keras.optimizers.Adam(learning_rate=1e-4),\n",
        "    loss='binary_crossentropy',\n",
        "    metrics=['accuracy']\n",
        ")"
      ],
      "metadata": {
        "id": "byVx8rLOgXmk"
      },
      "execution_count": 44,
      "outputs": [],
      "id": "byVx8rLOgXmk"
    },
    {
      "cell_type": "code",
      "source": [
        "model.fit(\n",
        "    gen_batches_ft(wiki[:19000], tokenizer, window=10, batch_size=100, num_negatives=10),\n",
        "    validation_data=gen_batches_ft(wiki[19000:], tokenizer, window=10, batch_size=100, num_negatives=10),\n",
        "    steps_per_epoch=1000,\n",
        "    validation_steps=100,\n",
        "    epochs=2\n",
        ")"
      ],
      "metadata": {
        "colab": {
          "base_uri": "https://localhost:8080/"
        },
        "id": "jE6qE5vCgqlu",
        "outputId": "5a25541c-8407-4733-85dd-e6676ade1a01"
      },
      "id": "jE6qE5vCgqlu",
      "execution_count": 45,
      "outputs": [
        {
          "output_type": "stream",
          "name": "stdout",
          "text": [
            "Epoch 1/2\n",
            "\u001b[1m1000/1000\u001b[0m \u001b[32m━━━━━━━━━━━━━━━━━━━━\u001b[0m\u001b[37m\u001b[0m \u001b[1m107s\u001b[0m 107ms/step - accuracy: 0.8885 - loss: 0.6152 - val_accuracy: 0.9091 - val_loss: 0.4243\n",
            "Epoch 2/2\n",
            "\u001b[1m1000/1000\u001b[0m \u001b[32m━━━━━━━━━━━━━━━━━━━━\u001b[0m\u001b[37m\u001b[0m \u001b[1m106s\u001b[0m 106ms/step - accuracy: 0.9091 - loss: 0.3754 - val_accuracy: 0.9091 - val_loss: 0.3327\n"
          ]
        },
        {
          "output_type": "execute_result",
          "data": {
            "text/plain": [
              "<keras.src.callbacks.history.History at 0x7f1c198904d0>"
            ]
          },
          "metadata": {},
          "execution_count": 45
        }
      ]
    },
    {
      "cell_type": "code",
      "source": [
        "most_similar_ft(\"волк\", embeddings, tokenizer)"
      ],
      "metadata": {
        "colab": {
          "base_uri": "https://localhost:8080/"
        },
        "id": "vaKSl5S3gush",
        "outputId": "4bbacda9-ba21-4f29-db52-67339a72c234"
      },
      "id": "vaKSl5S3gush",
      "execution_count": 46,
      "outputs": [
        {
          "output_type": "execute_result",
          "data": {
            "text/plain": [
              "['волк',\n",
              " 'волков',\n",
              " 'волкова',\n",
              " 'волка',\n",
              " 'воли',\n",
              " 'волковом',\n",
              " 'воле',\n",
              " 'волге',\n",
              " 'восстановительные',\n",
              " 'волости»',\n",
              " 'волшебника',\n",
              " 'волшебник',\n",
              " 'волн',\n",
              " 'мотострелковой',\n",
              " 'полководцев',\n",
              " 'восстановить',\n",
              " 'отделяется',\n",
              " 'переговоров',\n",
              " 'военно-революционного',\n",
              " 'вольное']"
            ]
          },
          "metadata": {},
          "execution_count": 46
        }
      ]
    },
    {
      "cell_type": "code",
      "source": [],
      "metadata": {
        "id": "q7Jlpq30IUi2"
      },
      "id": "q7Jlpq30IUi2",
      "execution_count": null,
      "outputs": []
    }
  ],
  "metadata": {
    "kernelspec": {
      "display_name": "Python 3 (ipykernel)",
      "language": "python",
      "name": "python3"
    },
    "language_info": {
      "codemirror_mode": {
        "name": "ipython",
        "version": 3
      },
      "file_extension": ".py",
      "mimetype": "text/x-python",
      "name": "python",
      "nbconvert_exporter": "python",
      "pygments_lexer": "ipython3",
      "version": "3.10.12"
    },
    "colab": {
      "provenance": []
    }
  },
  "nbformat": 4,
  "nbformat_minor": 5
}