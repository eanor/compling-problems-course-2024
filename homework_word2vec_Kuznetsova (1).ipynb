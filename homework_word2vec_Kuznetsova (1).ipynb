{
  "cells": [
    {
      "cell_type": "markdown",
      "id": "9c422aa0",
      "metadata": {
        "id": "9c422aa0"
      },
      "source": [
        "# Задание 1 (3 балла)"
      ]
    },
    {
      "cell_type": "markdown",
      "id": "e4a72790",
      "metadata": {
        "id": "e4a72790"
      },
      "source": [
        "Обучите word2vec модели с негативным семплированием (cbow и skip-gram) аналогично тому, как это было сделано в семинаре. Вам нужно изменить следующие пункты:\n",
        "\n",
        "1.   добавьте лемматизацию в предобработку (любым способом)\n",
        "2.   измените размер окна в большую или меньшую сторону\n",
        "3.   измените размерность итоговых векторов\n",
        "\n",
        "Выберете несколько не похожих по смыслу слов (не таких как в семинаре), и протестируйте полученные эмбединги (найдите ближайшие слова и оцените качество, как в семинаре). Постарайтесь обучать модели как можно дольше и на как можно большем количестве данных. (Но если у вас мало времени или ресурсов, то допустимо взять поменьше данных и поставить меньше эпох)"
      ]
    },
    {
      "cell_type": "code",
      "execution_count": 4,
      "id": "Akm7VAZYoxho",
      "metadata": {
        "colab": {
          "base_uri": "https://localhost:8080/"
        },
        "id": "Akm7VAZYoxho",
        "outputId": "c651f399-ba2b-49ab-ad45-d88e208edd4a"
      },
      "outputs": [
        {
          "output_type": "stream",
          "name": "stdout",
          "text": [
            "Requirement already satisfied: pymorphy3 in /usr/local/lib/python3.11/dist-packages (2.0.4)\n",
            "Requirement already satisfied: dawg2-python>=0.8.0 in /usr/local/lib/python3.11/dist-packages (from pymorphy3) (0.9.0)\n",
            "Requirement already satisfied: pymorphy3-dicts-ru in /usr/local/lib/python3.11/dist-packages (from pymorphy3) (2.4.417150.4580142)\n"
          ]
        }
      ],
      "source": [
        "!pip install pymorphy3"
      ]
    },
    {
      "cell_type": "code",
      "execution_count": 5,
      "id": "cde5fd96",
      "metadata": {
        "id": "cde5fd96"
      },
      "outputs": [],
      "source": [
        "import re\n",
        "\n",
        "import tensorflow as tf\n",
        "import numpy as np\n",
        "import pandas as pd\n",
        "import matplotlib.pyplot as plt\n",
        "\n",
        "from string import punctuation\n",
        "from sklearn.model_selection import train_test_split\n",
        "from collections import Counter\n",
        "from sklearn.decomposition import TruncatedSVD\n",
        "from sklearn.feature_extraction.text import CountVectorizer\n",
        "from sklearn.metrics.pairwise import cosine_distances\n",
        "from pymorphy3 import MorphAnalyzer\n",
        "\n",
        "from IPython.display import Image\n",
        "from IPython.core.display import HTML\n",
        "%matplotlib inline\n",
        "\n",
        "from tqdm.auto import tqdm\n",
        "from pymystem3 import Mystem\n",
        "mystem = Mystem()"
      ]
    },
    {
      "cell_type": "code",
      "execution_count": 4,
      "id": "718cb5f9",
      "metadata": {
        "id": "718cb5f9"
      },
      "outputs": [],
      "source": [
        "wiki = open('/content/wiki_data.txt', 'r', encoding='utf-8').read().split('\\n')"
      ]
    },
    {
      "cell_type": "code",
      "execution_count": 6,
      "id": "81fe86ea",
      "metadata": {
        "id": "81fe86ea"
      },
      "outputs": [],
      "source": [
        "def most_similar(word, embeddings):\n",
        "    similar = [id2word[i] for i in\n",
        "               cosine_distances(embeddings[word2id[word]].reshape(1, -1), embeddings).argsort()[0][:10]]\n",
        "    return similar"
      ]
    },
    {
      "cell_type": "markdown",
      "id": "bbd69c04",
      "metadata": {
        "id": "bbd69c04"
      },
      "source": [
        "1. Лемматизация через pymorphy3"
      ]
    },
    {
      "cell_type": "code",
      "execution_count": 7,
      "id": "2b44ac86",
      "metadata": {
        "id": "2b44ac86"
      },
      "outputs": [],
      "source": [
        "def preprocess(text):\n",
        "    morph = MorphAnalyzer()\n",
        "    tokens = re.sub('#+', ' ', text.lower()).split()\n",
        "    tokens = [token.strip(punctuation) for token in tokens]\n",
        "    tokens = [token for token in tokens if token]\n",
        "    tokens = [morph.parse(token)[0].normal_form for token in tokens]\n",
        "    return tokens"
      ]
    },
    {
      "cell_type": "code",
      "execution_count": 7,
      "id": "cd261ff3",
      "metadata": {
        "colab": {
          "base_uri": "https://localhost:8080/",
          "height": 49,
          "referenced_widgets": [
            "e6215a29058f41df84dbf3e7b2b139e0",
            "e843273bb5834ddb803389d06143afad",
            "8aa9a6449a894af98c19267c4fb78449",
            "a41cbc4aaac74858afc71edb5f770f2f",
            "32a93719b192445c8c00d6e58f530cc4",
            "389278a3040d451a90b7ff7c7a302a25",
            "63859aa0b9ae49d8add19c38c4d23611",
            "83c05c2357ce48d09370b1136d87c445",
            "9cc039403e0c438ca39df64110cdcb30",
            "6eb928f188eb4258bae1f95f46fe6b0e",
            "4ec78449894246758d5be23bebca8d48"
          ]
        },
        "id": "cd261ff3",
        "outputId": "8ee070c4-6512-4e75-de0d-84b73544c3fe"
      },
      "outputs": [
        {
          "output_type": "display_data",
          "data": {
            "text/plain": [
              "  0%|          | 0/20003 [00:00<?, ?it/s]"
            ],
            "application/vnd.jupyter.widget-view+json": {
              "version_major": 2,
              "version_minor": 0,
              "model_id": "e6215a29058f41df84dbf3e7b2b139e0"
            }
          },
          "metadata": {}
        }
      ],
      "source": [
        "vocab = Counter()\n",
        "\n",
        "for text in tqdm(wiki):\n",
        "    vocab.update(preprocess(text))"
      ]
    },
    {
      "cell_type": "code",
      "source": [
        "import pickle\n",
        "\n",
        "with open('vocab.pkl', 'wb') as file:\n",
        "    pickle.dump(vocab, file)"
      ],
      "metadata": {
        "id": "o9l0_JdUKnbN"
      },
      "id": "o9l0_JdUKnbN",
      "execution_count": 27,
      "outputs": []
    },
    {
      "cell_type": "code",
      "execution_count": 8,
      "id": "8be8b776",
      "metadata": {
        "colab": {
          "base_uri": "https://localhost:8080/"
        },
        "id": "8be8b776",
        "outputId": "62b3e556-2175-4602-ed98-0e726baa5112"
      },
      "outputs": [
        {
          "output_type": "execute_result",
          "data": {
            "text/plain": [
              "[('в', 275172),\n",
              " ('и', 146585),\n",
              " ('год', 94984),\n",
              " ('на', 81230),\n",
              " ('—', 67491),\n",
              " ('с', 65101),\n",
              " ('быть', 58292),\n",
              " ('он', 38697),\n",
              " ('по', 36506),\n",
              " ('из', 26665)]"
            ]
          },
          "metadata": {},
          "execution_count": 8
        }
      ],
      "source": [
        "vocab.most_common(10)"
      ]
    },
    {
      "cell_type": "code",
      "execution_count": 9,
      "id": "5022061b",
      "metadata": {
        "colab": {
          "base_uri": "https://localhost:8080/"
        },
        "id": "5022061b",
        "outputId": "1fcd9eb2-e757-4895-a108-c90122861e5f"
      },
      "outputs": [
        {
          "output_type": "execute_result",
          "data": {
            "text/plain": [
              "12460"
            ]
          },
          "metadata": {},
          "execution_count": 9
        }
      ],
      "source": [
        "filtered_vocab = set()\n",
        "\n",
        "for word in vocab:\n",
        "    if vocab[word] > 30:\n",
        "        filtered_vocab.add(word)\n",
        "\n",
        "len(filtered_vocab)"
      ]
    },
    {
      "cell_type": "code",
      "execution_count": 10,
      "id": "4f71d7cb",
      "metadata": {
        "id": "4f71d7cb"
      },
      "outputs": [],
      "source": [
        "word2id = {'PAD':0}\n",
        "\n",
        "for word in filtered_vocab:\n",
        "    word2id[word] = len(word2id)"
      ]
    },
    {
      "cell_type": "code",
      "execution_count": 11,
      "id": "1d8e37ab",
      "metadata": {
        "id": "1d8e37ab"
      },
      "outputs": [],
      "source": [
        "id2word = {i:word for word, i in word2id.items()}"
      ]
    },
    {
      "cell_type": "code",
      "execution_count": 12,
      "id": "736f6478",
      "metadata": {
        "colab": {
          "base_uri": "https://localhost:8080/",
          "height": 49,
          "referenced_widgets": [
            "2b4dea83570145e1a13bafb370f96e67",
            "93e47c135bd742f6849a8823b7a54f1a",
            "c97f29123f7f49c3bffbfcce2342810a",
            "ecb50a0b07114d19a8f99128f13e83eb",
            "38fb37a440d1436987fd54ae5e1540d0",
            "fda6283ced29477597673a7e8fa852ae",
            "b7acd6c33ac14a9faf0a12c170636661",
            "70615281040a47b694d3b135b055dff6",
            "2e211a32734b492ba12c157fde657e20",
            "71d4cf96a3cb49dab381c84c2beccd2e",
            "8f295cfd75b447638c6a7ce42dc7f5b9"
          ]
        },
        "id": "736f6478",
        "outputId": "3f2a83e9-647d-42ba-8530-495178b7a0c4"
      },
      "outputs": [
        {
          "output_type": "display_data",
          "data": {
            "text/plain": [
              "  0%|          | 0/20003 [00:00<?, ?it/s]"
            ],
            "application/vnd.jupyter.widget-view+json": {
              "version_major": 2,
              "version_minor": 0,
              "model_id": "2b4dea83570145e1a13bafb370f96e67"
            }
          },
          "metadata": {}
        }
      ],
      "source": [
        "sentences = []\n",
        "\n",
        "for text in tqdm(wiki):\n",
        "    tokens = preprocess(text)\n",
        "    if not tokens:\n",
        "        continue\n",
        "    ids = [word2id[token] for token in tokens if token in word2id]\n",
        "    sentences.append(ids)"
      ]
    },
    {
      "cell_type": "code",
      "source": [
        "with open('sentences.pkl', 'wb') as file:\n",
        "    pickle.dump(sentences, file)"
      ],
      "metadata": {
        "id": "uPvanownLSA1"
      },
      "id": "uPvanownLSA1",
      "execution_count": 26,
      "outputs": []
    },
    {
      "cell_type": "markdown",
      "id": "9a0b8096",
      "metadata": {
        "id": "9a0b8096"
      },
      "source": [
        "2. Изменение окна в большую сторону (в семинаре 5 в обоих функциях)"
      ]
    },
    {
      "cell_type": "code",
      "execution_count": 28,
      "id": "afe5c61c",
      "metadata": {
        "id": "afe5c61c"
      },
      "outputs": [],
      "source": [
        "vocab_size = len(id2word)"
      ]
    },
    {
      "cell_type": "code",
      "execution_count": 31,
      "id": "50439ebd",
      "metadata": {
        "id": "50439ebd"
      },
      "outputs": [],
      "source": [
        "# skip gram\n",
        "def gen_batches_sg(sentences, window = 10, batch_size=1000):\n",
        "\n",
        "    # параметр window задает его целиком\n",
        "    # нам нужно поделить его пополам на левую и правую часть\n",
        "    # когда делится неровно, то левая часть больше на 1\n",
        "    left_context_length = (window/2).__ceil__() # округлить в большую сторону\n",
        "    right_context_length = window // 2 # округлить в меньшую сторону\n",
        "\n",
        "    while True:\n",
        "        X_target = []\n",
        "        X_context = []\n",
        "        y = []\n",
        "\n",
        "        for sent in sentences:\n",
        "            for i in range(len(sent)-1):\n",
        "                word = sent[i]\n",
        "                context = sent[max(0, i-left_context_length):i] + sent[i+1:i+right_context_length]\n",
        "                for context_word in context:\n",
        "                    X_target.append(word)\n",
        "                    X_context.append(context_word)\n",
        "                    y.append(1)\n",
        "\n",
        "                    X_target.append(word)\n",
        "                    X_context.append(np.random.randint(vocab_size))\n",
        "                    y.append(0)\n",
        "\n",
        "                    if len(X_target) >= batch_size:\n",
        "                        X_target = np.array(X_target)\n",
        "                        X_context = np.array(X_context)\n",
        "                        y = np.array(y)\n",
        "                        yield ((X_target, X_context), y)\n",
        "                        X_target = []\n",
        "                        X_context = []\n",
        "                        y = []"
      ]
    },
    {
      "cell_type": "code",
      "execution_count": 32,
      "id": "29bfcd87",
      "metadata": {
        "id": "29bfcd87"
      },
      "outputs": [],
      "source": [
        "# # cbow\n",
        "def gen_batches_cbow(sentences, window = 10, batch_size=1000):\n",
        "\n",
        "    # параметр window задает его целиком\n",
        "    # нам нужно поделить его пополам на левую и правую часть\n",
        "    # когда делится неровно, то левая часть больше на 1\n",
        "    left_context_length = (window/2).__ceil__() # округлить в большую сторону\n",
        "    right_context_length = window // 2 # округлить в меньшую сторону\n",
        "\n",
        "    while True:\n",
        "        X_target = []\n",
        "        X_context = []\n",
        "        y = []\n",
        "\n",
        "        for sent in sentences:\n",
        "            for i in range(len(sent)-1):\n",
        "                word = sent[i]\n",
        "                context = sent[max(0, i-left_context_length):i] + sent[i+1:i+right_context_length]\n",
        "\n",
        "                X_target.append(word)\n",
        "                X_context.append(context)\n",
        "                y.append(1)\n",
        "\n",
        "                X_target.append(np.random.randint(vocab_size))\n",
        "                X_context.append(context)\n",
        "                y.append(0)\n",
        "\n",
        "                if len(X_target) == batch_size:\n",
        "                    X_target = np.array(X_target)\n",
        "                    X_context = tf.keras.preprocessing.sequence.pad_sequences(X_context, maxlen=window)\n",
        "                    y = np.array(y)\n",
        "                    yield ((X_target, X_context), y)\n",
        "                    X_target = []\n",
        "                    X_context = []\n",
        "                    y = []"
      ]
    },
    {
      "cell_type": "markdown",
      "id": "455519d1",
      "metadata": {
        "id": "455519d1"
      },
      "source": [
        "3. Изменила размер итогового вектора на 400"
      ]
    },
    {
      "cell_type": "code",
      "execution_count": 33,
      "id": "f7693b06",
      "metadata": {
        "id": "f7693b06"
      },
      "outputs": [],
      "source": [
        "inputs_target = tf.keras.layers.Input(shape=(1,))\n",
        "inputs_context = tf.keras.layers.Input(shape=(1,))\n",
        "\n",
        "\n",
        "embeddings_target = tf.keras.layers.Embedding(input_dim=len(word2id), output_dim=400)(inputs_target, )\n",
        "embeddings_context = tf.keras.layers.Embedding(input_dim=len(word2id), output_dim=400)(inputs_context, )\n",
        "\n",
        "target = tf.keras.layers.Flatten()(embeddings_target)\n",
        "context = tf.keras.layers.Flatten()(embeddings_context)\n",
        "\n",
        "dot = tf.keras.layers.Dot(1)([target, context])\n",
        "outputs = tf.keras.layers.Activation(activation='sigmoid')(dot)\n",
        "\n",
        "model_1 = tf.keras.Model(inputs=[inputs_target, inputs_context],\n",
        "                       outputs=outputs)\n",
        "optimizer = tf.keras.optimizers.Adam(learning_rate=0.001)\n",
        "model_1.compile(optimizer=optimizer,\n",
        "              loss='binary_crossentropy',\n",
        "              metrics=['accuracy'])"
      ]
    },
    {
      "cell_type": "code",
      "execution_count": 34,
      "id": "faed8ed4",
      "metadata": {
        "colab": {
          "base_uri": "https://localhost:8080/"
        },
        "id": "faed8ed4",
        "outputId": "03f2f600-20b1-46c9-bc7a-94e8245c580f"
      },
      "outputs": [
        {
          "output_type": "stream",
          "name": "stdout",
          "text": [
            "Epoch 1/2\n",
            "\u001b[1m10000/10000\u001b[0m \u001b[32m━━━━━━━━━━━━━━━━━━━━\u001b[0m\u001b[37m\u001b[0m \u001b[1m44s\u001b[0m 4ms/step - accuracy: 0.7797 - loss: 0.4682 - val_accuracy: 0.7897 - val_loss: 0.5171\n",
            "Epoch 2/2\n",
            "\u001b[1m10000/10000\u001b[0m \u001b[32m━━━━━━━━━━━━━━━━━━━━\u001b[0m\u001b[37m\u001b[0m \u001b[1m82s\u001b[0m 8ms/step - accuracy: 0.8178 - loss: 0.4252 - val_accuracy: 0.8089 - val_loss: 0.4452\n"
          ]
        },
        {
          "output_type": "execute_result",
          "data": {
            "text/plain": [
              "<keras.src.callbacks.history.History at 0x7c785fa03010>"
            ]
          },
          "metadata": {},
          "execution_count": 34
        }
      ],
      "source": [
        "model_1.fit(gen_batches_sg(sentences[:19000], window=10),\n",
        "          validation_data=gen_batches_sg(sentences[19000:],  window=10),\n",
        "          batch_size=1000,\n",
        "          steps_per_epoch=10000,\n",
        "          validation_steps=30,\n",
        "         epochs=2)"
      ]
    },
    {
      "cell_type": "code",
      "execution_count": 35,
      "id": "afaa6458",
      "metadata": {
        "colab": {
          "base_uri": "https://localhost:8080/",
          "height": 490
        },
        "id": "afaa6458",
        "outputId": "7e4ddc42-d04a-49db-9b48-61a299b9dc47",
        "collapsed": true
      },
      "outputs": [
        {
          "output_type": "stream",
          "name": "stdout",
          "text": [
            "dict_keys(['accuracy', 'loss', 'val_accuracy', 'val_loss'])\n"
          ]
        },
        {
          "output_type": "display_data",
          "data": {
            "text/plain": [
              "<Figure size 640x480 with 1 Axes>"
            ],
            "image/png": "[encoded data removed]"
          },
          "metadata": {}
        }
      ],
      "source": [
        "# summarize history for accuracy\n",
        "print(model_1.history.history.keys())\n",
        "plt.plot(model_1.history.history['loss'])\n",
        "plt.plot(model_1.history.history['val_loss'])\n",
        "plt.title('model loss')\n",
        "plt.ylabel('loss')\n",
        "plt.xlabel('epoch')\n",
        "plt.legend(['train', 'val'], loc='upper left')\n",
        "plt.show()"
      ]
    },
    {
      "cell_type": "code",
      "execution_count": 36,
      "id": "518c5e4b",
      "metadata": {
        "id": "518c5e4b"
      },
      "outputs": [],
      "source": [
        "embeddings = model_1.layers[2].get_weights()[0]"
      ]
    },
    {
      "cell_type": "code",
      "execution_count": 37,
      "id": "6c54cf1d",
      "metadata": {
        "colab": {
          "base_uri": "https://localhost:8080/"
        },
        "id": "6c54cf1d",
        "outputId": "c515b4a7-9d03-4024-a3fe-0dc624ddbe57"
      },
      "outputs": [
        {
          "output_type": "execute_result",
          "data": {
            "text/plain": [
              "array([ 1.83725394e-02, -1.17760301e-02,  4.94022481e-02,  3.23581584e-02,\n",
              "        2.35780738e-02,  4.72458936e-02, -1.62068978e-02,  2.55681016e-02,\n",
              "        1.23971812e-02, -8.06697458e-03, -2.31039170e-02, -3.31178084e-02,\n",
              "        1.78657211e-02, -1.27253644e-02,  2.04409845e-02, -1.26268491e-02,\n",
              "       -3.44113484e-02,  2.08068229e-02, -4.23140526e-02, -7.34139234e-04,\n",
              "        4.77235205e-02,  3.89269739e-03,  3.81771214e-02,  1.89711899e-03,\n",
              "       -2.06151009e-02,  6.15739822e-03, -1.78489089e-02,  9.04405117e-03,\n",
              "        2.20448412e-02,  3.73672582e-02,  4.19352166e-02,  3.70254032e-02,\n",
              "        2.21457519e-02,  3.28013413e-02,  4.99115027e-02,  4.95574623e-03,\n",
              "        3.92613523e-02, -4.47985530e-02,  2.58260630e-02, -3.36287990e-02,\n",
              "        4.62922715e-02, -4.71126549e-02,  2.37172730e-02,  2.18718387e-02,\n",
              "       -3.76056880e-04, -1.40499249e-02, -2.60433201e-02, -3.58749852e-02,\n",
              "       -2.90270206e-02, -5.07203490e-03,  9.82061028e-05,  4.85896729e-02,\n",
              "        1.29437931e-02,  2.14018114e-02,  1.61817111e-02, -2.38948818e-02,\n",
              "        2.62678303e-02,  1.80604570e-02,  4.65255640e-02, -3.90158407e-02,\n",
              "       -3.81542221e-02,  1.67824663e-02,  9.73559543e-03, -1.88231468e-03,\n",
              "       -2.77767424e-02,  7.96089321e-03, -3.45802903e-02,  4.71295044e-03,\n",
              "       -2.27090120e-02, -2.56126281e-02,  1.65061988e-02,  3.98991592e-02,\n",
              "       -4.68256325e-03, -1.98413730e-02,  4.77576517e-02,  2.74122842e-02,\n",
              "        7.89859146e-03, -1.52960792e-02, -7.86808878e-03, -1.92987919e-02,\n",
              "       -4.70953062e-03,  1.74275897e-02, -2.90229674e-02,  4.38306443e-02,\n",
              "        1.37509592e-02, -4.13855910e-02, -2.32189894e-02,  2.84148492e-02,\n",
              "        3.81951593e-02,  1.33828633e-02, -4.64892499e-02, -1.82720646e-02,\n",
              "        4.59332392e-03,  1.16046295e-02, -9.22480971e-03,  6.01064414e-04,\n",
              "       -4.12564985e-02,  1.07246265e-02, -3.72802727e-02, -1.84860826e-02,\n",
              "        1.16217248e-02, -6.67111948e-03,  4.39101197e-02, -2.04141736e-02,\n",
              "       -4.22198176e-02,  2.48645805e-02,  4.99191768e-02,  1.32176764e-02,\n",
              "       -2.39192601e-02,  8.59522820e-03,  4.36064340e-02, -3.34039330e-02,\n",
              "        2.71668546e-02, -1.92431696e-02, -4.56077568e-02, -3.58168483e-02,\n",
              "        7.31220096e-03,  8.36436823e-03, -4.54331636e-02, -2.85655856e-02,\n",
              "        4.49683703e-02, -9.45663452e-03,  1.98332705e-02, -3.30907330e-02,\n",
              "        2.49013789e-02, -4.65343483e-02,  2.62440778e-02, -1.81784257e-02,\n",
              "       -3.77440229e-02,  2.13171504e-02,  4.51727621e-02, -5.53883612e-04,\n",
              "        3.31219546e-02,  6.72596693e-03, -2.95327064e-02,  4.89341952e-02,\n",
              "        6.29234314e-03,  3.13245915e-02,  4.19455804e-02, -9.58832353e-03,\n",
              "       -3.88664380e-02, -1.70031674e-02, -3.25128585e-02, -4.44950126e-02,\n",
              "       -2.01058388e-03, -4.34168242e-02,  1.42619126e-02, -2.88680941e-03,\n",
              "       -2.19379421e-02, -1.76077969e-02,  4.43348922e-02, -3.46886739e-02,\n",
              "        1.04433522e-02, -3.31287272e-02,  2.80293934e-02,  1.69884451e-02,\n",
              "        5.93032688e-03, -1.46798268e-02,  4.52239029e-02, -1.29679553e-02,\n",
              "       -3.55717428e-02,  4.96606268e-02, -4.60339300e-02,  3.58440392e-02,\n",
              "        3.56503166e-02,  1.56364776e-02, -2.34098677e-02, -8.12304020e-03,\n",
              "        3.12124006e-02,  4.10375930e-02,  3.08902748e-02, -2.59792097e-02,\n",
              "       -2.36891992e-02,  4.98935841e-02, -2.56160647e-03, -8.52590799e-03,\n",
              "       -3.51686366e-02,  8.49431753e-03,  2.73226984e-02, -4.84502092e-02,\n",
              "        6.13464043e-03, -1.37210973e-02, -4.53034043e-02,  1.55684017e-02,\n",
              "        2.41519101e-02,  7.19685480e-03,  1.04444027e-02,  1.60201825e-02,\n",
              "       -3.32761779e-02, -6.74640015e-03,  4.06123437e-02,  1.02548227e-02,\n",
              "        2.76600011e-02,  3.39828394e-02, -1.42985098e-02,  1.35991909e-02,\n",
              "       -2.30241939e-03,  3.02601345e-02, -1.57893784e-02,  3.76908071e-02,\n",
              "        3.71598937e-02,  3.85459512e-03,  1.66023411e-02, -3.87332439e-02,\n",
              "        3.95764001e-02, -4.26455401e-02,  6.66464493e-03, -2.05281023e-02,\n",
              "        1.45446174e-02,  3.93932350e-02, -2.27591041e-02, -3.08841225e-02,\n",
              "       -3.71368416e-02, -6.02266937e-03,  3.10125090e-02,  1.08907707e-02,\n",
              "       -1.79896951e-02,  2.21256502e-02, -1.79977044e-02, -7.58956745e-03,\n",
              "        1.78811699e-03, -2.34894883e-02,  4.74117063e-02, -8.35424662e-03,\n",
              "        2.07738616e-02, -3.21955234e-02, -4.42393869e-03, -2.92024743e-02,\n",
              "       -2.58701798e-02, -1.64167397e-02,  2.47336924e-04, -3.20125744e-03,\n",
              "        4.58268262e-02,  3.30746509e-02, -1.46304443e-03, -3.74202356e-02,\n",
              "       -1.08009353e-02,  2.81022675e-02,  2.79267691e-02, -6.35838509e-03,\n",
              "        4.50937785e-02,  1.37006119e-03,  9.93053988e-03, -1.86819322e-02,\n",
              "        2.02442519e-02, -1.80931687e-02,  4.71924655e-02,  2.35181935e-02,\n",
              "       -3.05965077e-02, -1.46219954e-02,  1.62287243e-02,  2.21209861e-02,\n",
              "       -4.60156053e-03, -3.15119401e-02, -3.51976752e-02, -2.79705413e-02,\n",
              "        3.32412980e-02, -4.76147532e-02,  1.06595270e-02,  1.04615316e-02,\n",
              "        2.60397084e-02, -3.86267900e-03, -3.38336378e-02, -7.33115524e-03,\n",
              "        8.93586874e-03,  3.43800224e-02,  3.36512960e-02,  4.86874841e-02,\n",
              "        2.32477672e-02,  3.42363156e-02, -1.06543079e-02, -4.85730655e-02,\n",
              "        3.23617794e-02,  2.30861567e-02,  1.75726078e-02,  4.00820263e-02,\n",
              "       -4.72190231e-03,  2.42348574e-02, -3.61126661e-03,  4.06175368e-02,\n",
              "        3.73245515e-02,  4.77873348e-02,  4.29280736e-02,  1.61703937e-02,\n",
              "        3.04084085e-02, -4.11769375e-02,  3.53304408e-02, -1.40406378e-02,\n",
              "        3.57143544e-02,  4.71062399e-02,  3.46316583e-02, -2.00203191e-02,\n",
              "       -3.27534899e-02,  4.27278988e-02, -8.49545002e-03, -3.55213881e-02,\n",
              "        4.50417288e-02, -2.62965318e-02,  1.95960440e-02,  4.89944927e-02,\n",
              "       -2.98185237e-02, -4.81209420e-02,  8.20319727e-03, -3.37823518e-02,\n",
              "       -2.17445977e-02,  1.79531835e-02, -5.80959395e-03, -4.73564528e-02,\n",
              "       -4.89559285e-02,  4.92555238e-02, -2.43286621e-02,  1.98700167e-02,\n",
              "        9.80091095e-03, -3.97271737e-02, -1.41744241e-02, -2.95053720e-02,\n",
              "       -4.26358357e-02, -9.72359255e-03, -4.86711040e-02, -4.94051836e-02,\n",
              "        7.72494078e-03, -4.50522900e-02, -1.42453089e-02, -2.09510680e-02,\n",
              "       -3.00213825e-02,  1.13791451e-02, -6.53848797e-03,  2.61583813e-02,\n",
              "        4.57029454e-02,  4.35270704e-02,  2.90190838e-02,  4.49833311e-02,\n",
              "       -1.27565973e-02,  4.76179384e-02,  3.66420411e-02, -3.61694098e-02,\n",
              "        3.37849744e-02,  3.43325026e-02, -8.07531178e-05, -3.40502635e-02,\n",
              "        4.62302901e-02,  2.03045048e-02, -1.58952251e-02,  1.25123188e-03,\n",
              "       -1.09930858e-02,  1.99655630e-02,  4.33457009e-02,  4.94336821e-02,\n",
              "        3.10168415e-03, -4.83122952e-02,  1.92059539e-02,  1.81553103e-02,\n",
              "       -1.85173862e-02, -4.35104147e-02, -2.99403425e-02, -2.07046997e-02,\n",
              "       -4.35026884e-02,  5.72148710e-03, -3.98579948e-02, -1.93115361e-02,\n",
              "       -4.67842706e-02, -1.39528997e-02,  1.87238716e-02,  1.93291418e-02,\n",
              "       -2.61156801e-02, -4.18787003e-02, -2.01206934e-02, -9.08310339e-03,\n",
              "       -4.16752473e-02, -3.16562541e-02,  3.39678265e-02,  3.21526565e-02,\n",
              "       -2.29309686e-02,  1.72767527e-02, -4.08576503e-02,  1.45299546e-02,\n",
              "       -3.91245857e-02, -4.71431874e-02,  3.29858325e-02, -2.23953966e-02,\n",
              "        8.17324966e-03,  3.12842168e-02,  6.24617189e-03,  4.46056761e-02,\n",
              "       -4.99772429e-02, -2.65116934e-02, -3.92886773e-02, -2.84240246e-02,\n",
              "       -8.54732841e-03, -3.20346840e-02, -2.25374345e-02,  3.50573175e-02,\n",
              "       -1.36882439e-02,  1.93230845e-02,  1.00646131e-02, -2.77247317e-02,\n",
              "       -6.35541603e-03, -4.95757908e-03, -2.12734099e-02,  4.74733748e-02],\n",
              "      dtype=float32)"
            ]
          },
          "metadata": {},
          "execution_count": 37
        }
      ],
      "source": [
        "embeddings[0]"
      ]
    },
    {
      "cell_type": "code",
      "execution_count": 38,
      "id": "75b35fee",
      "metadata": {
        "colab": {
          "base_uri": "https://localhost:8080/"
        },
        "id": "75b35fee",
        "outputId": "c132acc9-435c-49b5-940c-ff8af0f31125"
      },
      "outputs": [
        {
          "output_type": "execute_result",
          "data": {
            "text/plain": [
              "['компьютер',\n",
              " 'linux',\n",
              " 'api',\n",
              " 'движок',\n",
              " 'аппаратный',\n",
              " 'файл',\n",
              " 'youtube',\n",
              " 'программирование',\n",
              " 'core',\n",
              " 'графический']"
            ]
          },
          "metadata": {},
          "execution_count": 38
        }
      ],
      "source": [
        "most_similar('компьютер', embeddings)"
      ]
    },
    {
      "cell_type": "code",
      "execution_count": 39,
      "id": "e44981e7",
      "metadata": {
        "colab": {
          "base_uri": "https://localhost:8080/"
        },
        "id": "e44981e7",
        "outputId": "f7572881-7a9e-4b9d-ba51-8c85863b2e8f"
      },
      "outputs": [
        {
          "output_type": "execute_result",
          "data": {
            "text/plain": [
              "['пучок',\n",
              " 'жёсткость',\n",
              " 'полуось',\n",
              " 'электромагнитный',\n",
              " 'чашечка',\n",
              " 'наружный',\n",
              " 'бампер',\n",
              " 'смещение',\n",
              " 'заряд',\n",
              " 'радиальный']"
            ]
          },
          "metadata": {},
          "execution_count": 39
        }
      ],
      "source": [
        "most_similar('пучок', embeddings)"
      ]
    },
    {
      "cell_type": "code",
      "execution_count": 40,
      "id": "8e505d67",
      "metadata": {
        "colab": {
          "base_uri": "https://localhost:8080/"
        },
        "id": "8e505d67",
        "outputId": "478744b9-f3d9-429a-c7e0-ee20714717f4"
      },
      "outputs": [
        {
          "output_type": "execute_result",
          "data": {
            "text/plain": [
              "['кофе',\n",
              " 'грудной',\n",
              " 'бутылка',\n",
              " 'красноватый',\n",
              " 'поворотный',\n",
              " 'горшок',\n",
              " 'ягода',\n",
              " 'чашечка',\n",
              " 'раствор',\n",
              " 'колебание']"
            ]
          },
          "metadata": {},
          "execution_count": 40
        }
      ],
      "source": [
        "most_similar('кофе', embeddings)"
      ]
    },
    {
      "cell_type": "code",
      "execution_count": 44,
      "id": "ed087c16",
      "metadata": {
        "id": "ed087c16"
      },
      "outputs": [],
      "source": [
        "#cbow negative sampling\n",
        "inputs_target = tf.keras.layers.Input(shape=(1,))\n",
        "inputs_context = tf.keras.layers.Input(shape=(10,))\n",
        "\n",
        "\n",
        "embeddings_target = tf.keras.layers.Embedding(input_dim=len(word2id), output_dim=400)(inputs_target, )\n",
        "embeddings_context = tf.keras.layers.Embedding(input_dim=len(word2id), output_dim=400)(inputs_context, )\n",
        "\n",
        "target = tf.keras.layers.Flatten()(embeddings_target)\n",
        "context = tf.keras.layers.Lambda(lambda x: tf.keras.backend.sum(x, axis=1))(embeddings_context)\n",
        "dot = tf.keras.layers.Dot(1)([target, context])\n",
        "\n",
        "# полученную близость нужно преобразовать в вероятность\n",
        "# когда она одна используется не софтмакс и сигмоида\n",
        "outputs = tf.keras.layers.Activation(activation='sigmoid')(dot)\n",
        "\n",
        "model_2 = tf.keras.Model(inputs=[inputs_target, inputs_context],\n",
        "                       outputs=outputs)\n",
        "\n",
        "\n",
        "optimizer = tf.keras.optimizers.Adam(learning_rate=0.001)\n",
        "model_2.compile(optimizer=optimizer,\n",
        "              loss='binary_crossentropy',\n",
        "              metrics=['accuracy'])\n"
      ]
    },
    {
      "cell_type": "code",
      "execution_count": 45,
      "id": "e6e311d9",
      "metadata": {
        "colab": {
          "base_uri": "https://localhost:8080/"
        },
        "id": "e6e311d9",
        "outputId": "8b3094a4-bfba-4f24-8e08-0a1361d6a903"
      },
      "outputs": [
        {
          "output_type": "stream",
          "name": "stdout",
          "text": [
            "Epoch 1/2\n",
            "\u001b[1m5000/5000\u001b[0m \u001b[32m━━━━━━━━━━━━━━━━━━━━\u001b[0m\u001b[37m\u001b[0m \u001b[1m33s\u001b[0m 6ms/step - accuracy: 0.8219 - loss: 0.3990 - val_accuracy: 0.8433 - val_loss: 0.3610\n",
            "Epoch 2/2\n",
            "\u001b[1m5000/5000\u001b[0m \u001b[32m━━━━━━━━━━━━━━━━━━━━\u001b[0m\u001b[37m\u001b[0m \u001b[1m33s\u001b[0m 7ms/step - accuracy: 0.8859 - loss: 0.2815 - val_accuracy: 0.8732 - val_loss: 0.3073\n"
          ]
        },
        {
          "output_type": "execute_result",
          "data": {
            "text/plain": [
              "<keras.src.callbacks.history.History at 0x7c78400b2350>"
            ]
          },
          "metadata": {},
          "execution_count": 45
        }
      ],
      "source": [
        "model_2.fit(gen_batches_cbow(sentences[:20000], window=10),\n",
        "          validation_data=gen_batches_cbow(sentences[20000:],  window=10),\n",
        "          batch_size=1000,\n",
        "          steps_per_epoch=5000,\n",
        "          validation_steps=30,\n",
        "         epochs=2)"
      ]
    },
    {
      "cell_type": "code",
      "execution_count": 46,
      "id": "7bc899be",
      "metadata": {
        "colab": {
          "base_uri": "https://localhost:8080/",
          "height": 490
        },
        "id": "7bc899be",
        "outputId": "531e9d05-7784-4c46-8c27-fa4f74f8cd2c"
      },
      "outputs": [
        {
          "output_type": "stream",
          "name": "stdout",
          "text": [
            "dict_keys(['accuracy', 'loss', 'val_accuracy', 'val_loss'])\n"
          ]
        },
        {
          "output_type": "display_data",
          "data": {
            "text/plain": [
              "<Figure size 640x480 with 1 Axes>"
            ],
            "image/png": "[encoded data removed]"
          },
          "metadata": {}
        }
      ],
      "source": [
        "print(model_2.history.history.keys())\n",
        "# summarize history for accuracy\n",
        "plt.plot(model_2.history.history['loss'])\n",
        "plt.plot(model_2.history.history['val_loss'])\n",
        "plt.title('model loss')\n",
        "plt.ylabel('loss')\n",
        "plt.xlabel('epoch')\n",
        "plt.legend(['train', 'val'], loc='upper left')\n",
        "plt.show()"
      ]
    },
    {
      "cell_type": "code",
      "execution_count": 47,
      "id": "5196a61f",
      "metadata": {
        "id": "5196a61f"
      },
      "outputs": [],
      "source": [
        "embeddings = model_2.layers[2].get_weights()[0]"
      ]
    },
    {
      "cell_type": "code",
      "execution_count": 49,
      "id": "cc2201db",
      "metadata": {
        "id": "cc2201db",
        "colab": {
          "base_uri": "https://localhost:8080/"
        },
        "outputId": "df8ac8b8-b5ed-4c01-f285-eec57937c5a8"
      },
      "outputs": [
        {
          "output_type": "execute_result",
          "data": {
            "text/plain": [
              "['картофель',\n",
              " 'овощ',\n",
              " 'зерновые',\n",
              " 'пшеница',\n",
              " 'табак',\n",
              " 'кукуруза',\n",
              " 'хлопок',\n",
              " 'молоко',\n",
              " 'вишня',\n",
              " 'фрукт']"
            ]
          },
          "metadata": {},
          "execution_count": 49
        }
      ],
      "source": [
        "most_similar('картофель', embeddings)"
      ]
    },
    {
      "cell_type": "code",
      "execution_count": 51,
      "id": "e090238a",
      "metadata": {
        "id": "e090238a",
        "colab": {
          "base_uri": "https://localhost:8080/"
        },
        "outputId": "685728d5-6e4d-4867-9bdd-d0b97a5646fc"
      },
      "outputs": [
        {
          "output_type": "execute_result",
          "data": {
            "text/plain": [
              "['медведь',\n",
              " 'олень',\n",
              " 'ель',\n",
              " 'берёза',\n",
              " 'обезьяна',\n",
              " 'млекопитающее',\n",
              " 'бурый',\n",
              " 'гнездиться',\n",
              " 'волк',\n",
              " 'крокодил']"
            ]
          },
          "metadata": {},
          "execution_count": 51
        }
      ],
      "source": [
        "most_similar('медведь', embeddings)"
      ]
    },
    {
      "cell_type": "code",
      "execution_count": 52,
      "id": "ee567de0",
      "metadata": {
        "id": "ee567de0",
        "colab": {
          "base_uri": "https://localhost:8080/"
        },
        "outputId": "688c1acb-76a4-46ec-a43c-1c5818093abf"
      },
      "outputs": [
        {
          "output_type": "execute_result",
          "data": {
            "text/plain": [
              "['волк',\n",
              " 'олень',\n",
              " 'артемида',\n",
              " 'bison',\n",
              " 'черепаха',\n",
              " 'зверь',\n",
              " '«любовь',\n",
              " 'чудовище',\n",
              " 'дракон',\n",
              " 'огненный']"
            ]
          },
          "metadata": {},
          "execution_count": 52
        }
      ],
      "source": [
        "most_similar('волк', embeddings) # а с волком смешные попались)))"
      ]
    },
    {
      "cell_type": "markdown",
      "id": "afbc1182",
      "metadata": {
        "id": "afbc1182"
      },
      "source": [
        "---------------"
      ]
    },
    {
      "cell_type": "markdown",
      "id": "c3b61b7c",
      "metadata": {
        "id": "c3b61b7c"
      },
      "source": [
        "# Задание 2 (3 балла)"
      ]
    },
    {
      "cell_type": "markdown",
      "id": "66eff080",
      "metadata": {
        "id": "66eff080"
      },
      "source": [
        "Обучите 1 word2vec и 1 fastext модель в gensim. В каждой из модели нужно задать все параметры, которые мы разбирали на семинаре. Заданные значения должны отличаться от дефолтных и от тех, что мы использовали на семинаре."
      ]
    },
    {
      "cell_type": "code",
      "execution_count": 53,
      "id": "986c2018",
      "metadata": {
        "colab": {
          "base_uri": "https://localhost:8080/",
          "height": 665
        },
        "id": "986c2018",
        "outputId": "01ae15ca-adde-44e4-9164-d7ee013e0242"
      },
      "outputs": [
        {
          "output_type": "stream",
          "name": "stdout",
          "text": [
            "Collecting gensim\n",
            "  Downloading gensim-4.3.3-cp311-cp311-manylinux_2_17_x86_64.manylinux2014_x86_64.whl.metadata (8.1 kB)\n",
            "Collecting numpy<2.0,>=1.18.5 (from gensim)\n",
            "  Downloading numpy-1.26.4-cp311-cp311-manylinux_2_17_x86_64.manylinux2014_x86_64.whl.metadata (61 kB)\n",
            "\u001b[2K     \u001b[90m━━━━━━━━━━━━━━━━━━━━━━━━━━━━━━━━━━━━━━━━\u001b[0m \u001b[32m61.0/61.0 kB\u001b[0m \u001b[31m4.4 MB/s\u001b[0m eta \u001b[36m0:00:00\u001b[0m\n",
            "\u001b[?25hCollecting scipy<1.14.0,>=1.7.0 (from gensim)\n",
            "  Downloading scipy-1.13.1-cp311-cp311-manylinux_2_17_x86_64.manylinux2014_x86_64.whl.metadata (60 kB)\n",
            "\u001b[2K     \u001b[90m━━━━━━━━━━━━━━━━━━━━━━━━━━━━━━━━━━━━━━━━\u001b[0m \u001b[32m60.6/60.6 kB\u001b[0m \u001b[31m4.0 MB/s\u001b[0m eta \u001b[36m0:00:00\u001b[0m\n",
            "\u001b[?25hRequirement already satisfied: smart-open>=1.8.1 in /usr/local/lib/python3.11/dist-packages (from gensim) (7.1.0)\n",
            "Requirement already satisfied: wrapt in /usr/local/lib/python3.11/dist-packages (from smart-open>=1.8.1->gensim) (1.17.2)\n",
            "Downloading gensim-4.3.3-cp311-cp311-manylinux_2_17_x86_64.manylinux2014_x86_64.whl (26.7 MB)\n",
            "\u001b[2K   \u001b[90m━━━━━━━━━━━━━━━━━━━━━━━━━━━━━━━━━━━━━━━━\u001b[0m \u001b[32m26.7/26.7 MB\u001b[0m \u001b[31m91.1 MB/s\u001b[0m eta \u001b[36m0:00:00\u001b[0m\n",
            "\u001b[?25hDownloading numpy-1.26.4-cp311-cp311-manylinux_2_17_x86_64.manylinux2014_x86_64.whl (18.3 MB)\n",
            "\u001b[2K   \u001b[90m━━━━━━━━━━━━━━━━━━━━━━━━━━━━━━━━━━━━━━━━\u001b[0m \u001b[32m18.3/18.3 MB\u001b[0m \u001b[31m117.4 MB/s\u001b[0m eta \u001b[36m0:00:00\u001b[0m\n",
            "\u001b[?25hDownloading scipy-1.13.1-cp311-cp311-manylinux_2_17_x86_64.manylinux2014_x86_64.whl (38.6 MB)\n",
            "\u001b[2K   \u001b[90m━━━━━━━━━━━━━━━━━━━━━━━━━━━━━━━━━━━━━━━━\u001b[0m \u001b[32m38.6/38.6 MB\u001b[0m \u001b[31m16.9 MB/s\u001b[0m eta \u001b[36m0:00:00\u001b[0m\n",
            "\u001b[?25hInstalling collected packages: numpy, scipy, gensim\n",
            "  Attempting uninstall: numpy\n",
            "    Found existing installation: numpy 2.0.2\n",
            "    Uninstalling numpy-2.0.2:\n",
            "      Successfully uninstalled numpy-2.0.2\n",
            "  Attempting uninstall: scipy\n",
            "    Found existing installation: scipy 1.15.3\n",
            "    Uninstalling scipy-1.15.3:\n",
            "      Successfully uninstalled scipy-1.15.3\n",
            "\u001b[31mERROR: pip's dependency resolver does not currently take into account all the packages that are installed. This behaviour is the source of the following dependency conflicts.\n",
            "tsfresh 0.21.0 requires scipy>=1.14.0; python_version >= \"3.10\", but you have scipy 1.13.1 which is incompatible.\n",
            "thinc 8.3.6 requires numpy<3.0.0,>=2.0.0, but you have numpy 1.26.4 which is incompatible.\u001b[0m\u001b[31m\n",
            "\u001b[0mSuccessfully installed gensim-4.3.3 numpy-1.26.4 scipy-1.13.1\n"
          ]
        },
        {
          "output_type": "display_data",
          "data": {
            "application/vnd.colab-display-data+json": {
              "pip_warning": {
                "packages": [
                  "numpy",
                  "scipy"
                ]
              },
              "id": "8464a05c94644a468a131fb76512cff7"
            }
          },
          "metadata": {}
        }
      ],
      "source": [
        "!pip install gensim"
      ]
    },
    {
      "cell_type": "code",
      "execution_count": 1,
      "id": "18cf5ddf",
      "metadata": {
        "id": "18cf5ddf"
      },
      "outputs": [],
      "source": [
        "import gensim"
      ]
    },
    {
      "cell_type": "code",
      "execution_count": 2,
      "id": "adf5744a",
      "metadata": {
        "id": "adf5744a"
      },
      "outputs": [],
      "source": [
        "wiki = open('wiki_data.txt', 'r', encoding='utf-8').read().split('\\n')"
      ]
    },
    {
      "cell_type": "code",
      "execution_count": 8,
      "id": "aadabfb5",
      "metadata": {
        "id": "aadabfb5"
      },
      "outputs": [],
      "source": [
        "texts = [preprocess(text) for text in wiki]"
      ]
    },
    {
      "cell_type": "code",
      "source": [
        "import pickle\n",
        "with open('texts.pkl', 'wb') as file:\n",
        "    pickle.dump(texts, file)"
      ],
      "metadata": {
        "id": "ZZYC1yIFX_N3"
      },
      "id": "ZZYC1yIFX_N3",
      "execution_count": 10,
      "outputs": []
    },
    {
      "cell_type": "code",
      "execution_count": 13,
      "id": "feb37c86",
      "metadata": {
        "id": "feb37c86"
      },
      "outputs": [],
      "source": [
        "w2v = gensim.models.Word2Vec(texts,\n",
        "                             hs=0,\n",
        "                             negative=10,\n",
        "                             sample=1e-4,\n",
        "                             vector_size=400,\n",
        "                             min_count=5,\n",
        "                             max_vocab_size=20000,\n",
        "                             window=15,\n",
        "                             epochs=10)"
      ]
    },
    {
      "cell_type": "code",
      "execution_count": 14,
      "id": "f71a5585",
      "metadata": {
        "colab": {
          "base_uri": "https://localhost:8080/"
        },
        "id": "f71a5585",
        "outputId": "57f5a78e-2155-4d6f-cee0-d68f5af90730"
      },
      "outputs": [
        {
          "output_type": "execute_result",
          "data": {
            "text/plain": [
              "[('выращивать', 0.8338526487350464),\n",
              " ('виноград', 0.8026772737503052),\n",
              " ('урожай', 0.8009599447250366),\n",
              " ('выращивание', 0.7948364615440369),\n",
              " ('зерно', 0.7945505380630493),\n",
              " ('животноводство', 0.7775506377220154),\n",
              " ('молочный', 0.7672120928764343),\n",
              " ('молоко', 0.7621452212333679),\n",
              " ('сорт', 0.7546305656433105),\n",
              " ('растительный', 0.7341501116752625)]"
            ]
          },
          "metadata": {},
          "execution_count": 14
        }
      ],
      "source": [
        "w2v.wv.most_similar('картофель')"
      ]
    },
    {
      "cell_type": "code",
      "execution_count": 16,
      "id": "44e2e0d7",
      "metadata": {
        "colab": {
          "base_uri": "https://localhost:8080/"
        },
        "id": "44e2e0d7",
        "outputId": "7401fdad-8f74-40b8-bb44-41d1e62f2781"
      },
      "outputs": [
        {
          "output_type": "execute_result",
          "data": {
            "text/plain": [
              "[('кошка', 0.6763800382614136),\n",
              " ('порода', 0.6278273463249207),\n",
              " ('пони', 0.6241822242736816),\n",
              " ('свердруп', 0.6034629940986633),\n",
              " ('охота', 0.6030621528625488),\n",
              " ('провиант', 0.5950902700424194),\n",
              " ('корм', 0.5790882110595703),\n",
              " ('полярник', 0.5790215134620667),\n",
              " ('спальный', 0.5771446824073792),\n",
              " ('пингвин', 0.5601394772529602)]"
            ]
          },
          "metadata": {},
          "execution_count": 16
        }
      ],
      "source": [
        "w2v.wv.most_similar('собака')"
      ]
    },
    {
      "cell_type": "code",
      "source": [
        "w2v.wv.most_similar('медведь')"
      ],
      "metadata": {
        "colab": {
          "base_uri": "https://localhost:8080/"
        },
        "id": "ZH0SKd3yYbeS",
        "outputId": "06bd8198-19fa-49f1-d3c0-4d247a7f0f2b"
      },
      "id": "ZH0SKd3yYbeS",
      "execution_count": 17,
      "outputs": [
        {
          "output_type": "execute_result",
          "data": {
            "text/plain": [
              "[('зверь', 0.7739058136940002),\n",
              " ('дикий', 0.6960009336471558),\n",
              " ('охота', 0.6950730085372925),\n",
              " ('змея', 0.6677864789962769),\n",
              " ('кошка', 0.650214672088623),\n",
              " ('маша', 0.6390459537506104),\n",
              " ('охотник', 0.6253840923309326),\n",
              " ('маска', 0.598965585231781),\n",
              " ('птица', 0.5966999530792236),\n",
              " ('бык', 0.5966124534606934)]"
            ]
          },
          "metadata": {},
          "execution_count": 17
        }
      ]
    },
    {
      "cell_type": "code",
      "execution_count": 22,
      "id": "47c5a0e6",
      "metadata": {
        "id": "47c5a0e6"
      },
      "outputs": [],
      "source": [
        "ft = gensim.models.FastText(texts, min_n=4, max_n=10, window=10, epochs=10)"
      ]
    },
    {
      "cell_type": "code",
      "execution_count": 23,
      "id": "dcd2d0b3",
      "metadata": {
        "colab": {
          "base_uri": "https://localhost:8080/"
        },
        "id": "dcd2d0b3",
        "outputId": "acd23380-7a7b-4295-a221-795da27ddaa6"
      },
      "outputs": [
        {
          "output_type": "execute_result",
          "data": {
            "text/plain": [
              "[('кукуруза', 0.812903106212616),\n",
              " ('вино', 0.7848080396652222),\n",
              " ('виноградник', 0.7816668152809143),\n",
              " ('овощ', 0.7713940143585205),\n",
              " ('виноделие', 0.7689164280891418),\n",
              " ('фрукт', 0.7632371187210083),\n",
              " ('медь', 0.7613620758056641),\n",
              " ('винья', 0.7552540302276611),\n",
              " ('вино»', 0.7537183165550232),\n",
              " ('зерно', 0.7520986795425415)]"
            ]
          },
          "metadata": {},
          "execution_count": 23
        }
      ],
      "source": [
        "ft.wv.most_similar('картофель')"
      ]
    },
    {
      "cell_type": "code",
      "source": [
        "ft.wv.most_similar('собака')"
      ],
      "metadata": {
        "colab": {
          "base_uri": "https://localhost:8080/"
        },
        "id": "gufKf_rWan_z",
        "outputId": "291ee445-4143-40c2-ae83-57e6f5a979be"
      },
      "id": "gufKf_rWan_z",
      "execution_count": 24,
      "outputs": [
        {
          "output_type": "execute_result",
          "data": {
            "text/plain": [
              "[('собака»', 0.9726831912994385),\n",
              " ('собак»', 0.9419456124305725),\n",
              " ('собачий', 0.8278874754905701),\n",
              " ('1/32', 0.8110237121582031),\n",
              " ('собака-пария', 0.8080062866210938),\n",
              " ('собачка', 0.7992647886276245),\n",
              " ('охота', 0.7527453899383545),\n",
              " ('«собачий', 0.725334107875824),\n",
              " ('кошка', 0.724402904510498),\n",
              " ('«рыба', 0.712129533290863)]"
            ]
          },
          "metadata": {},
          "execution_count": 24
        }
      ]
    },
    {
      "cell_type": "markdown",
      "source": [
        "В препроцессинг надо в пунктуацию добавить «» видимо, но не буду перезагружать ноутбук, так как долго будет работать."
      ],
      "metadata": {
        "id": "idu50lVidgJa"
      },
      "id": "idu50lVidgJa"
    },
    {
      "cell_type": "code",
      "execution_count": 25,
      "id": "e5035bdc",
      "metadata": {
        "colab": {
          "base_uri": "https://localhost:8080/"
        },
        "id": "e5035bdc",
        "outputId": "6eb74cfc-043d-4df1-d3f6-9caee1161695"
      },
      "outputs": [
        {
          "output_type": "execute_result",
          "data": {
            "text/plain": [
              "[('медведь»', 0.9220038652420044),\n",
              " ('«медведь»', 0.8485864400863647),\n",
              " ('медведя»', 0.8414791822433472),\n",
              " ('медвежий', 0.8321635723114014),\n",
              " ('медведица', 0.8203558325767517),\n",
              " ('«медвежий', 0.761189877986908),\n",
              " ('медведка', 0.7541730403900146),\n",
              " ('птица', 0.7186551690101624),\n",
              " ('«собачий', 0.6966859102249146),\n",
              " ('чеснок', 0.6960702538490295)]"
            ]
          },
          "metadata": {},
          "execution_count": 25
        }
      ],
      "source": [
        "ft.wv.most_similar('медведь')"
      ]
    },
    {
      "cell_type": "markdown",
      "id": "e4bb928c",
      "metadata": {
        "id": "e4bb928c"
      },
      "source": [
        "# Задание 4 (2 доп балла)"
      ]
    },
    {
      "cell_type": "markdown",
      "source": [
        "В тетрадку с фастекстом добавьте код для обучения с negative sampling (задача сводится к бинарной классификации) и обучите модель. Проверьте полученную модель на нескольких словах. Похожие слова должны быть похожими по смыслу и по форме."
      ],
      "metadata": {
        "id": "fmUa6APza3JH"
      },
      "id": "fmUa6APza3JH"
    },
    {
      "cell_type": "markdown",
      "source": [
        "см. отдельную тетрадку"
      ],
      "metadata": {
        "id": "LTfsDG_AgjMH"
      },
      "id": "LTfsDG_AgjMH"
    },
    {
      "cell_type": "code",
      "source": [],
      "metadata": {
        "id": "C9yC97u0gk7M"
      },
      "id": "C9yC97u0gk7M",
      "execution_count": null,
      "outputs": []
    }
  ],
  "metadata": {
    "accelerator": "GPU",
    "colab": {
      "provenance": []
    },
    "kernelspec": {
      "display_name": "Python 3",
      "name": "python3"
    },
    "language_info": {
      "codemirror_mode": {
        "name": "ipython",
        "version": 3
      },
      "file_extension": ".py",
      "mimetype": "text/x-python",
      "name": "python",
      "nbconvert_exporter": "python",
      "pygments_lexer": "ipython3",
      "version": "3.11.5"
    },
    "widgets": {
      "application/vnd.jupyter.widget-state+json": {
        "e6215a29058f41df84dbf3e7b2b139e0": {
          "model_module": "@jupyter-widgets/controls",
          "model_name": "HBoxModel",
          "model_module_version": "1.5.0",
          "state": {
            "_dom_classes": [],
            "_model_module": "@jupyter-widgets/controls",
            "_model_module_version": "1.5.0",
            "_model_name": "HBoxModel",
            "_view_count": null,
            "_view_module": "@jupyter-widgets/controls",
            "_view_module_version": "1.5.0",
            "_view_name": "HBoxView",
            "box_style": "",
            "children": [
              "IPY_MODEL_e843273bb5834ddb803389d06143afad",
              "IPY_MODEL_8aa9a6449a894af98c19267c4fb78449",
              "IPY_MODEL_a41cbc4aaac74858afc71edb5f770f2f"
            ],
            "layout": "IPY_MODEL_32a93719b192445c8c00d6e58f530cc4"
          }
        },
        "e843273bb5834ddb803389d06143afad": {
          "model_module": "@jupyter-widgets/controls",
          "model_name": "HTMLModel",
          "model_module_version": "1.5.0",
          "state": {
            "_dom_classes": [],
            "_model_module": "@jupyter-widgets/controls",
            "_model_module_version": "1.5.0",
            "_model_name": "HTMLModel",
            "_view_count": null,
            "_view_module": "@jupyter-widgets/controls",
            "_view_module_version": "1.5.0",
            "_view_name": "HTMLView",
            "description": "",
            "description_tooltip": null,
            "layout": "IPY_MODEL_389278a3040d451a90b7ff7c7a302a25",
            "placeholder": "​",
            "style": "IPY_MODEL_63859aa0b9ae49d8add19c38c4d23611",
            "value": "100%"
          }
        },
        "8aa9a6449a894af98c19267c4fb78449": {
          "model_module": "@jupyter-widgets/controls",
          "model_name": "FloatProgressModel",
          "model_module_version": "1.5.0",
          "state": {
            "_dom_classes": [],
            "_model_module": "@jupyter-widgets/controls",
            "_model_module_version": "1.5.0",
            "_model_name": "FloatProgressModel",
            "_view_count": null,
            "_view_module": "@jupyter-widgets/controls",
            "_view_module_version": "1.5.0",
            "_view_name": "ProgressView",
            "bar_style": "success",
            "description": "",
            "description_tooltip": null,
            "layout": "IPY_MODEL_83c05c2357ce48d09370b1136d87c445",
            "max": 20003,
            "min": 0,
            "orientation": "horizontal",
            "style": "IPY_MODEL_9cc039403e0c438ca39df64110cdcb30",
            "value": 20003
          }
        },
        "a41cbc4aaac74858afc71edb5f770f2f": {
          "model_module": "@jupyter-widgets/controls",
          "model_name": "HTMLModel",
          "model_module_version": "1.5.0",
          "state": {
            "_dom_classes": [],
            "_model_module": "@jupyter-widgets/controls",
            "_model_module_version": "1.5.0",
            "_model_name": "HTMLModel",
            "_view_count": null,
            "_view_module": "@jupyter-widgets/controls",
            "_view_module_version": "1.5.0",
            "_view_name": "HTMLView",
            "description": "",
            "description_tooltip": null,
            "layout": "IPY_MODEL_6eb928f188eb4258bae1f95f46fe6b0e",
            "placeholder": "​",
            "style": "IPY_MODEL_4ec78449894246758d5be23bebca8d48",
            "value": " 20003/20003 [38:21&lt;00:00,  4.26it/s]"
          }
        },
        "32a93719b192445c8c00d6e58f530cc4": {
          "model_module": "@jupyter-widgets/base",
          "model_name": "LayoutModel",
          "model_module_version": "1.2.0",
          "state": {
            "_model_module": "@jupyter-widgets/base",
            "_model_module_version": "1.2.0",
            "_model_name": "LayoutModel",
            "_view_count": null,
            "_view_module": "@jupyter-widgets/base",
            "_view_module_version": "1.2.0",
            "_view_name": "LayoutView",
            "align_content": null,
            "align_items": null,
            "align_self": null,
            "border": null,
            "bottom": null,
            "display": null,
            "flex": null,
            "flex_flow": null,
            "grid_area": null,
            "grid_auto_columns": null,
            "grid_auto_flow": null,
            "grid_auto_rows": null,
            "grid_column": null,
            "grid_gap": null,
            "grid_row": null,
            "grid_template_areas": null,
            "grid_template_columns": null,
            "grid_template_rows": null,
            "height": null,
            "justify_content": null,
            "justify_items": null,
            "left": null,
            "margin": null,
            "max_height": null,
            "max_width": null,
            "min_height": null,
            "min_width": null,
            "object_fit": null,
            "object_position": null,
            "order": null,
            "overflow": null,
            "overflow_x": null,
            "overflow_y": null,
            "padding": null,
            "right": null,
            "top": null,
            "visibility": null,
            "width": null
          }
        },
        "389278a3040d451a90b7ff7c7a302a25": {
          "model_module": "@jupyter-widgets/base",
          "model_name": "LayoutModel",
          "model_module_version": "1.2.0",
          "state": {
            "_model_module": "@jupyter-widgets/base",
            "_model_module_version": "1.2.0",
            "_model_name": "LayoutModel",
            "_view_count": null,
            "_view_module": "@jupyter-widgets/base",
            "_view_module_version": "1.2.0",
            "_view_name": "LayoutView",
            "align_content": null,
            "align_items": null,
            "align_self": null,
            "border": null,
            "bottom": null,
            "display": null,
            "flex": null,
            "flex_flow": null,
            "grid_area": null,
            "grid_auto_columns": null,
            "grid_auto_flow": null,
            "grid_auto_rows": null,
            "grid_column": null,
            "grid_gap": null,
            "grid_row": null,
            "grid_template_areas": null,
            "grid_template_columns": null,
            "grid_template_rows": null,
            "height": null,
            "justify_content": null,
            "justify_items": null,
            "left": null,
            "margin": null,
            "max_height": null,
            "max_width": null,
            "min_height": null,
            "min_width": null,
            "object_fit": null,
            "object_position": null,
            "order": null,
            "overflow": null,
            "overflow_x": null,
            "overflow_y": null,
            "padding": null,
            "right": null,
            "top": null,
            "visibility": null,
            "width": null
          }
        },
        "63859aa0b9ae49d8add19c38c4d23611": {
          "model_module": "@jupyter-widgets/controls",
          "model_name": "DescriptionStyleModel",
          "model_module_version": "1.5.0",
          "state": {
            "_model_module": "@jupyter-widgets/controls",
            "_model_module_version": "1.5.0",
            "_model_name": "DescriptionStyleModel",
            "_view_count": null,
            "_view_module": "@jupyter-widgets/base",
            "_view_module_version": "1.2.0",
            "_view_name": "StyleView",
            "description_width": ""
          }
        },
        "83c05c2357ce48d09370b1136d87c445": {
          "model_module": "@jupyter-widgets/base",
          "model_name": "LayoutModel",
          "model_module_version": "1.2.0",
          "state": {
            "_model_module": "@jupyter-widgets/base",
            "_model_module_version": "1.2.0",
            "_model_name": "LayoutModel",
            "_view_count": null,
            "_view_module": "@jupyter-widgets/base",
            "_view_module_version": "1.2.0",
            "_view_name": "LayoutView",
            "align_content": null,
            "align_items": null,
            "align_self": null,
            "border": null,
            "bottom": null,
            "display": null,
            "flex": null,
            "flex_flow": null,
            "grid_area": null,
            "grid_auto_columns": null,
            "grid_auto_flow": null,
            "grid_auto_rows": null,
            "grid_column": null,
            "grid_gap": null,
            "grid_row": null,
            "grid_template_areas": null,
            "grid_template_columns": null,
            "grid_template_rows": null,
            "height": null,
            "justify_content": null,
            "justify_items": null,
            "left": null,
            "margin": null,
            "max_height": null,
            "max_width": null,
            "min_height": null,
            "min_width": null,
            "object_fit": null,
            "object_position": null,
            "order": null,
            "overflow": null,
            "overflow_x": null,
            "overflow_y": null,
            "padding": null,
            "right": null,
            "top": null,
            "visibility": null,
            "width": null
          }
        },
        "9cc039403e0c438ca39df64110cdcb30": {
          "model_module": "@jupyter-widgets/controls",
          "model_name": "ProgressStyleModel",
          "model_module_version": "1.5.0",
          "state": {
            "_model_module": "@jupyter-widgets/controls",
            "_model_module_version": "1.5.0",
            "_model_name": "ProgressStyleModel",
            "_view_count": null,
            "_view_module": "@jupyter-widgets/base",
            "_view_module_version": "1.2.0",
            "_view_name": "StyleView",
            "bar_color": null,
            "description_width": ""
          }
        },
        "6eb928f188eb4258bae1f95f46fe6b0e": {
          "model_module": "@jupyter-widgets/base",
          "model_name": "LayoutModel",
          "model_module_version": "1.2.0",
          "state": {
            "_model_module": "@jupyter-widgets/base",
            "_model_module_version": "1.2.0",
            "_model_name": "LayoutModel",
            "_view_count": null,
            "_view_module": "@jupyter-widgets/base",
            "_view_module_version": "1.2.0",
            "_view_name": "LayoutView",
            "align_content": null,
            "align_items": null,
            "align_self": null,
            "border": null,
            "bottom": null,
            "display": null,
            "flex": null,
            "flex_flow": null,
            "grid_area": null,
            "grid_auto_columns": null,
            "grid_auto_flow": null,
            "grid_auto_rows": null,
            "grid_column": null,
            "grid_gap": null,
            "grid_row": null,
            "grid_template_areas": null,
            "grid_template_columns": null,
            "grid_template_rows": null,
            "height": null,
            "justify_content": null,
            "justify_items": null,
            "left": null,
            "margin": null,
            "max_height": null,
            "max_width": null,
            "min_height": null,
            "min_width": null,
            "object_fit": null,
            "object_position": null,
            "order": null,
            "overflow": null,
            "overflow_x": null,
            "overflow_y": null,
            "padding": null,
            "right": null,
            "top": null,
            "visibility": null,
            "width": null
          }
        },
        "4ec78449894246758d5be23bebca8d48": {
          "model_module": "@jupyter-widgets/controls",
          "model_name": "DescriptionStyleModel",
          "model_module_version": "1.5.0",
          "state": {
            "_model_module": "@jupyter-widgets/controls",
            "_model_module_version": "1.5.0",
            "_model_name": "DescriptionStyleModel",
            "_view_count": null,
            "_view_module": "@jupyter-widgets/base",
            "_view_module_version": "1.2.0",
            "_view_name": "StyleView",
            "description_width": ""
          }
        },
        "2b4dea83570145e1a13bafb370f96e67": {
          "model_module": "@jupyter-widgets/controls",
          "model_name": "HBoxModel",
          "model_module_version": "1.5.0",
          "state": {
            "_dom_classes": [],
            "_model_module": "@jupyter-widgets/controls",
            "_model_module_version": "1.5.0",
            "_model_name": "HBoxModel",
            "_view_count": null,
            "_view_module": "@jupyter-widgets/controls",
            "_view_module_version": "1.5.0",
            "_view_name": "HBoxView",
            "box_style": "",
            "children": [
              "IPY_MODEL_93e47c135bd742f6849a8823b7a54f1a",
              "IPY_MODEL_c97f29123f7f49c3bffbfcce2342810a",
              "IPY_MODEL_ecb50a0b07114d19a8f99128f13e83eb"
            ],
            "layout": "IPY_MODEL_38fb37a440d1436987fd54ae5e1540d0"
          }
        },
        "93e47c135bd742f6849a8823b7a54f1a": {
          "model_module": "@jupyter-widgets/controls",
          "model_name": "HTMLModel",
          "model_module_version": "1.5.0",
          "state": {
            "_dom_classes": [],
            "_model_module": "@jupyter-widgets/controls",
            "_model_module_version": "1.5.0",
            "_model_name": "HTMLModel",
            "_view_count": null,
            "_view_module": "@jupyter-widgets/controls",
            "_view_module_version": "1.5.0",
            "_view_name": "HTMLView",
            "description": "",
            "description_tooltip": null,
            "layout": "IPY_MODEL_fda6283ced29477597673a7e8fa852ae",
            "placeholder": "​",
            "style": "IPY_MODEL_b7acd6c33ac14a9faf0a12c170636661",
            "value": "100%"
          }
        },
        "c97f29123f7f49c3bffbfcce2342810a": {
          "model_module": "@jupyter-widgets/controls",
          "model_name": "FloatProgressModel",
          "model_module_version": "1.5.0",
          "state": {
            "_dom_classes": [],
            "_model_module": "@jupyter-widgets/controls",
            "_model_module_version": "1.5.0",
            "_model_name": "FloatProgressModel",
            "_view_count": null,
            "_view_module": "@jupyter-widgets/controls",
            "_view_module_version": "1.5.0",
            "_view_name": "ProgressView",
            "bar_style": "success",
            "description": "",
            "description_tooltip": null,
            "layout": "IPY_MODEL_70615281040a47b694d3b135b055dff6",
            "max": 20003,
            "min": 0,
            "orientation": "horizontal",
            "style": "IPY_MODEL_2e211a32734b492ba12c157fde657e20",
            "value": 20003
          }
        },
        "ecb50a0b07114d19a8f99128f13e83eb": {
          "model_module": "@jupyter-widgets/controls",
          "model_name": "HTMLModel",
          "model_module_version": "1.5.0",
          "state": {
            "_dom_classes": [],
            "_model_module": "@jupyter-widgets/controls",
            "_model_module_version": "1.5.0",
            "_model_name": "HTMLModel",
            "_view_count": null,
            "_view_module": "@jupyter-widgets/controls",
            "_view_module_version": "1.5.0",
            "_view_name": "HTMLView",
            "description": "",
            "description_tooltip": null,
            "layout": "IPY_MODEL_71d4cf96a3cb49dab381c84c2beccd2e",
            "placeholder": "​",
            "style": "IPY_MODEL_8f295cfd75b447638c6a7ce42dc7f5b9",
            "value": " 20003/20003 [38:38&lt;00:00,  4.29it/s]"
          }
        },
        "38fb37a440d1436987fd54ae5e1540d0": {
          "model_module": "@jupyter-widgets/base",
          "model_name": "LayoutModel",
          "model_module_version": "1.2.0",
          "state": {
            "_model_module": "@jupyter-widgets/base",
            "_model_module_version": "1.2.0",
            "_model_name": "LayoutModel",
            "_view_count": null,
            "_view_module": "@jupyter-widgets/base",
            "_view_module_version": "1.2.0",
            "_view_name": "LayoutView",
            "align_content": null,
            "align_items": null,
            "align_self": null,
            "border": null,
            "bottom": null,
            "display": null,
            "flex": null,
            "flex_flow": null,
            "grid_area": null,
            "grid_auto_columns": null,
            "grid_auto_flow": null,
            "grid_auto_rows": null,
            "grid_column": null,
            "grid_gap": null,
            "grid_row": null,
            "grid_template_areas": null,
            "grid_template_columns": null,
            "grid_template_rows": null,
            "height": null,
            "justify_content": null,
            "justify_items": null,
            "left": null,
            "margin": null,
            "max_height": null,
            "max_width": null,
            "min_height": null,
            "min_width": null,
            "object_fit": null,
            "object_position": null,
            "order": null,
            "overflow": null,
            "overflow_x": null,
            "overflow_y": null,
            "padding": null,
            "right": null,
            "top": null,
            "visibility": null,
            "width": null
          }
        },
        "fda6283ced29477597673a7e8fa852ae": {
          "model_module": "@jupyter-widgets/base",
          "model_name": "LayoutModel",
          "model_module_version": "1.2.0",
          "state": {
            "_model_module": "@jupyter-widgets/base",
            "_model_module_version": "1.2.0",
            "_model_name": "LayoutModel",
            "_view_count": null,
            "_view_module": "@jupyter-widgets/base",
            "_view_module_version": "1.2.0",
            "_view_name": "LayoutView",
            "align_content": null,
            "align_items": null,
            "align_self": null,
            "border": null,
            "bottom": null,
            "display": null,
            "flex": null,
            "flex_flow": null,
            "grid_area": null,
            "grid_auto_columns": null,
            "grid_auto_flow": null,
            "grid_auto_rows": null,
            "grid_column": null,
            "grid_gap": null,
            "grid_row": null,
            "grid_template_areas": null,
            "grid_template_columns": null,
            "grid_template_rows": null,
            "height": null,
            "justify_content": null,
            "justify_items": null,
            "left": null,
            "margin": null,
            "max_height": null,
            "max_width": null,
            "min_height": null,
            "min_width": null,
            "object_fit": null,
            "object_position": null,
            "order": null,
            "overflow": null,
            "overflow_x": null,
            "overflow_y": null,
            "padding": null,
            "right": null,
            "top": null,
            "visibility": null,
            "width": null
          }
        },
        "b7acd6c33ac14a9faf0a12c170636661": {
          "model_module": "@jupyter-widgets/controls",
          "model_name": "DescriptionStyleModel",
          "model_module_version": "1.5.0",
          "state": {
            "_model_module": "@jupyter-widgets/controls",
            "_model_module_version": "1.5.0",
            "_model_name": "DescriptionStyleModel",
            "_view_count": null,
            "_view_module": "@jupyter-widgets/base",
            "_view_module_version": "1.2.0",
            "_view_name": "StyleView",
            "description_width": ""
          }
        },
        "70615281040a47b694d3b135b055dff6": {
          "model_module": "@jupyter-widgets/base",
          "model_name": "LayoutModel",
          "model_module_version": "1.2.0",
          "state": {
            "_model_module": "@jupyter-widgets/base",
            "_model_module_version": "1.2.0",
            "_model_name": "LayoutModel",
            "_view_count": null,
            "_view_module": "@jupyter-widgets/base",
            "_view_module_version": "1.2.0",
            "_view_name": "LayoutView",
            "align_content": null,
            "align_items": null,
            "align_self": null,
            "border": null,
            "bottom": null,
            "display": null,
            "flex": null,
            "flex_flow": null,
            "grid_area": null,
            "grid_auto_columns": null,
            "grid_auto_flow": null,
            "grid_auto_rows": null,
            "grid_column": null,
            "grid_gap": null,
            "grid_row": null,
            "grid_template_areas": null,
            "grid_template_columns": null,
            "grid_template_rows": null,
            "height": null,
            "justify_content": null,
            "justify_items": null,
            "left": null,
            "margin": null,
            "max_height": null,
            "max_width": null,
            "min_height": null,
            "min_width": null,
            "object_fit": null,
            "object_position": null,
            "order": null,
            "overflow": null,
            "overflow_x": null,
            "overflow_y": null,
            "padding": null,
            "right": null,
            "top": null,
            "visibility": null,
            "width": null
          }
        },
        "2e211a32734b492ba12c157fde657e20": {
          "model_module": "@jupyter-widgets/controls",
          "model_name": "ProgressStyleModel",
          "model_module_version": "1.5.0",
          "state": {
            "_model_module": "@jupyter-widgets/controls",
            "_model_module_version": "1.5.0",
            "_model_name": "ProgressStyleModel",
            "_view_count": null,
            "_view_module": "@jupyter-widgets/base",
            "_view_module_version": "1.2.0",
            "_view_name": "StyleView",
            "bar_color": null,
            "description_width": ""
          }
        },
        "71d4cf96a3cb49dab381c84c2beccd2e": {
          "model_module": "@jupyter-widgets/base",
          "model_name": "LayoutModel",
          "model_module_version": "1.2.0",
          "state": {
            "_model_module": "@jupyter-widgets/base",
            "_model_module_version": "1.2.0",
            "_model_name": "LayoutModel",
            "_view_count": null,
            "_view_module": "@jupyter-widgets/base",
            "_view_module_version": "1.2.0",
            "_view_name": "LayoutView",
            "align_content": null,
            "align_items": null,
            "align_self": null,
            "border": null,
            "bottom": null,
            "display": null,
            "flex": null,
            "flex_flow": null,
            "grid_area": null,
            "grid_auto_columns": null,
            "grid_auto_flow": null,
            "grid_auto_rows": null,
            "grid_column": null,
            "grid_gap": null,
            "grid_row": null,
            "grid_template_areas": null,
            "grid_template_columns": null,
            "grid_template_rows": null,
            "height": null,
            "justify_content": null,
            "justify_items": null,
            "left": null,
            "margin": null,
            "max_height": null,
            "max_width": null,
            "min_height": null,
            "min_width": null,
            "object_fit": null,
            "object_position": null,
            "order": null,
            "overflow": null,
            "overflow_x": null,
            "overflow_y": null,
            "padding": null,
            "right": null,
            "top": null,
            "visibility": null,
            "width": null
          }
        },
        "8f295cfd75b447638c6a7ce42dc7f5b9": {
          "model_module": "@jupyter-widgets/controls",
          "model_name": "DescriptionStyleModel",
          "model_module_version": "1.5.0",
          "state": {
            "_model_module": "@jupyter-widgets/controls",
            "_model_module_version": "1.5.0",
            "_model_name": "DescriptionStyleModel",
            "_view_count": null,
            "_view_module": "@jupyter-widgets/base",
            "_view_module_version": "1.2.0",
            "_view_name": "StyleView",
            "description_width": ""
          }
        }
      }
    }
  },
  "nbformat": 4,
  "nbformat_minor": 5
}