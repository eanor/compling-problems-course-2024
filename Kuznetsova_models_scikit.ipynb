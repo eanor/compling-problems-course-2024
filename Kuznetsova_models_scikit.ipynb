{
  "cells": [
    {
      "cell_type": "markdown",
      "id": "b20f786e",
      "metadata": {
        "id": "b20f786e"
      },
      "source": [
        "# Домашнее задание № 2. Мешок слов"
      ]
    },
    {
      "cell_type": "markdown",
      "id": "0cf72d19",
      "metadata": {
        "id": "0cf72d19"
      },
      "source": [
        "## Задание 1 (3 балла)"
      ]
    },
    {
      "cell_type": "markdown",
      "id": "4a045e99",
      "metadata": {
        "id": "4a045e99"
      },
      "source": [
        "У векторайзеров в sklearn есть встроенная токенизация на регулярных выражениях. Найдите способо заменить её на кастомную токенизацию"
      ]
    },
    {
      "cell_type": "markdown",
      "id": "90b4d453",
      "metadata": {
        "id": "90b4d453"
      },
      "source": [
        "Обучите векторайзер с дефолтной токенизацией и с токенизацией razdel.tokenize. Обучите классификатор (любой) с каждым из векторизаторов. Сравните метрики и выберете победителя.\n",
        "\n",
        "(в вашей тетрадке должен быть код обучения и все метрики; если вы сдаете в .py файлах то сохраните полученные метрики в отдельном файле или в комментариях)"
      ]
    },
    {
      "cell_type": "code",
      "execution_count": 576,
      "id": "129c4d2e",
      "metadata": {
        "id": "129c4d2e"
      },
      "outputs": [],
      "source": [
        "import pandas as pd\n",
        "from sklearn.feature_extraction.text import CountVectorizer, TfidfVectorizer\n",
        "from sklearn.linear_model import LogisticRegression\n",
        "from sklearn.tree import DecisionTreeClassifier\n",
        "from sklearn.neighbors import KNeighborsClassifier\n",
        "from sklearn.naive_bayes import MultinomialNB\n",
        "from sklearn.ensemble import RandomForestClassifier\n",
        "from sklearn.model_selection import train_test_split\n",
        "from sklearn.metrics import classification_report, accuracy_score\n",
        "from sklearn.metrics.pairwise import cosine_distances, cosine_similarity\n",
        "\n",
        "from IPython.display import Image\n",
        "from IPython.core.display import HTML"
      ]
    },
    {
      "cell_type": "code",
      "execution_count": 577,
      "id": "b4314de5",
      "metadata": {
        "id": "b4314de5"
      },
      "outputs": [],
      "source": [
        "data = pd.read_csv('labeled.csv')"
      ]
    },
    {
      "cell_type": "code",
      "execution_count": 578,
      "id": "cbffbbc7",
      "metadata": {
        "colab": {
          "base_uri": "https://localhost:8080/",
          "height": 423
        },
        "id": "cbffbbc7",
        "outputId": "075c115b-a710-4c55-dc4f-f142f5e09b6c"
      },
      "outputs": [
        {
          "output_type": "execute_result",
          "data": {
            "text/plain": [
              "                                                 comment  toxic\n",
              "0                   Верблюдов-то за что? Дебилы, бл...\\n    1.0\n",
              "1      Хохлы, это отдушина затюканого россиянина, мол...    1.0\n",
              "2                              Собаке - собачья смерть\\n    1.0\n",
              "3      Страницу обнови, дебил. Это тоже не оскорблени...    1.0\n",
              "4      тебя не убедил 6-страничный пдф в том, что Скр...    1.0\n",
              "...                                                  ...    ...\n",
              "14407  Вонючий совковый скот прибежал и ноет. А вот и...    1.0\n",
              "14408  А кого любить? Гоблина тупорылого что-ли? Или ...    1.0\n",
              "14409  Посмотрел Утомленных солнцем 2. И оказалось, ч...    0.0\n",
              "14410  КРЫМОТРЕД НАРУШАЕТ ПРАВИЛА РАЗДЕЛА Т.К В НЕМ Н...    1.0\n",
              "14411  До сих пор пересматриваю его видео. Орамбо кст...    0.0\n",
              "\n",
              "[14412 rows x 2 columns]"
            ],
            "text/html": [
              "\n",
              "  <div id=\"df-75247d0e-c73e-458a-8dbf-6a60884400cd\" class=\"colab-df-container\">\n",
              "    <div>\n",
              "<style scoped>\n",
              "    .dataframe tbody tr th:only-of-type {\n",
              "        vertical-align: middle;\n",
              "    }\n",
              "\n",
              "    .dataframe tbody tr th {\n",
              "        vertical-align: top;\n",
              "    }\n",
              "\n",
              "    .dataframe thead th {\n",
              "        text-align: right;\n",
              "    }\n",
              "</style>\n",
              "<table border=\"1\" class=\"dataframe\">\n",
              "  <thead>\n",
              "    <tr style=\"text-align: right;\">\n",
              "      <th></th>\n",
              "      <th>comment</th>\n",
              "      <th>toxic</th>\n",
              "    </tr>\n",
              "  </thead>\n",
              "  <tbody>\n",
              "    <tr>\n",
              "      <th>0</th>\n",
              "      <td>Верблюдов-то за что? Дебилы, бл...\\n</td>\n",
              "      <td>1.0</td>\n",
              "    </tr>\n",
              "    <tr>\n",
              "      <th>1</th>\n",
              "      <td>Хохлы, это отдушина затюканого россиянина, мол...</td>\n",
              "      <td>1.0</td>\n",
              "    </tr>\n",
              "    <tr>\n",
              "      <th>2</th>\n",
              "      <td>Собаке - собачья смерть\\n</td>\n",
              "      <td>1.0</td>\n",
              "    </tr>\n",
              "    <tr>\n",
              "      <th>3</th>\n",
              "      <td>Страницу обнови, дебил. Это тоже не оскорблени...</td>\n",
              "      <td>1.0</td>\n",
              "    </tr>\n",
              "    <tr>\n",
              "      <th>4</th>\n",
              "      <td>тебя не убедил 6-страничный пдф в том, что Скр...</td>\n",
              "      <td>1.0</td>\n",
              "    </tr>\n",
              "    <tr>\n",
              "      <th>...</th>\n",
              "      <td>...</td>\n",
              "      <td>...</td>\n",
              "    </tr>\n",
              "    <tr>\n",
              "      <th>14407</th>\n",
              "      <td>Вонючий совковый скот прибежал и ноет. А вот и...</td>\n",
              "      <td>1.0</td>\n",
              "    </tr>\n",
              "    <tr>\n",
              "      <th>14408</th>\n",
              "      <td>А кого любить? Гоблина тупорылого что-ли? Или ...</td>\n",
              "      <td>1.0</td>\n",
              "    </tr>\n",
              "    <tr>\n",
              "      <th>14409</th>\n",
              "      <td>Посмотрел Утомленных солнцем 2. И оказалось, ч...</td>\n",
              "      <td>0.0</td>\n",
              "    </tr>\n",
              "    <tr>\n",
              "      <th>14410</th>\n",
              "      <td>КРЫМОТРЕД НАРУШАЕТ ПРАВИЛА РАЗДЕЛА Т.К В НЕМ Н...</td>\n",
              "      <td>1.0</td>\n",
              "    </tr>\n",
              "    <tr>\n",
              "      <th>14411</th>\n",
              "      <td>До сих пор пересматриваю его видео. Орамбо кст...</td>\n",
              "      <td>0.0</td>\n",
              "    </tr>\n",
              "  </tbody>\n",
              "</table>\n",
              "<p>14412 rows × 2 columns</p>\n",
              "</div>\n",
              "    <div class=\"colab-df-buttons\">\n",
              "\n",
              "  <div class=\"colab-df-container\">\n",
              "    <button class=\"colab-df-convert\" onclick=\"convertToInteractive('df-75247d0e-c73e-458a-8dbf-6a60884400cd')\"\n",
              "            title=\"Convert this dataframe to an interactive table.\"\n",
              "            style=\"display:none;\">\n",
              "\n",
              "  <svg xmlns=\"http://www.w3.org/2000/svg\" height=\"24px\" viewBox=\"0 -960 960 960\">\n",
              "    <path d=\"M120-120v-720h720v720H120Zm60-500h600v-160H180v160Zm220 220h160v-160H400v160Zm0 220h160v-160H400v160ZM180-400h160v-160H180v160Zm440 0h160v-160H620v160ZM180-180h160v-160H180v160Zm440 0h160v-160H620v160Z\"/>\n",
              "  </svg>\n",
              "    </button>\n",
              "\n",
              "  <style>\n",
              "    .colab-df-container {\n",
              "      display:flex;\n",
              "      gap: 12px;\n",
              "    }\n",
              "\n",
              "    .colab-df-convert {\n",
              "      background-color: #E8F0FE;\n",
              "      border: none;\n",
              "      border-radius: 50%;\n",
              "      cursor: pointer;\n",
              "      display: none;\n",
              "      fill: #1967D2;\n",
              "      height: 32px;\n",
              "      padding: 0 0 0 0;\n",
              "      width: 32px;\n",
              "    }\n",
              "\n",
              "    .colab-df-convert:hover {\n",
              "      background-color: #E2EBFA;\n",
              "      box-shadow: 0px 1px 2px rgba(60, 64, 67, 0.3), 0px 1px 3px 1px rgba(60, 64, 67, 0.15);\n",
              "      fill: #174EA6;\n",
              "    }\n",
              "\n",
              "    .colab-df-buttons div {\n",
              "      margin-bottom: 4px;\n",
              "    }\n",
              "\n",
              "    [theme=dark] .colab-df-convert {\n",
              "      background-color: #3B4455;\n",
              "      fill: #D2E3FC;\n",
              "    }\n",
              "\n",
              "    [theme=dark] .colab-df-convert:hover {\n",
              "      background-color: #434B5C;\n",
              "      box-shadow: 0px 1px 3px 1px rgba(0, 0, 0, 0.15);\n",
              "      filter: drop-shadow(0px 1px 2px rgba(0, 0, 0, 0.3));\n",
              "      fill: #FFFFFF;\n",
              "    }\n",
              "  </style>\n",
              "\n",
              "    <script>\n",
              "      const buttonEl =\n",
              "        document.querySelector('#df-75247d0e-c73e-458a-8dbf-6a60884400cd button.colab-df-convert');\n",
              "      buttonEl.style.display =\n",
              "        google.colab.kernel.accessAllowed ? 'block' : 'none';\n",
              "\n",
              "      async function convertToInteractive(key) {\n",
              "        const element = document.querySelector('#df-75247d0e-c73e-458a-8dbf-6a60884400cd');\n",
              "        const dataTable =\n",
              "          await google.colab.kernel.invokeFunction('convertToInteractive',\n",
              "                                                    [key], {});\n",
              "        if (!dataTable) return;\n",
              "\n",
              "        const docLinkHtml = 'Like what you see? Visit the ' +\n",
              "          '<a target=\"_blank\" href=https://colab.research.google.com/notebooks/data_table.ipynb>data table notebook</a>'\n",
              "          + ' to learn more about interactive tables.';\n",
              "        element.innerHTML = '';\n",
              "        dataTable['output_type'] = 'display_data';\n",
              "        await google.colab.output.renderOutput(dataTable, element);\n",
              "        const docLink = document.createElement('div');\n",
              "        docLink.innerHTML = docLinkHtml;\n",
              "        element.appendChild(docLink);\n",
              "      }\n",
              "    </script>\n",
              "  </div>\n",
              "\n",
              "\n",
              "<div id=\"df-8b16093e-41df-4443-bb4e-8059e156fb6d\">\n",
              "  <button class=\"colab-df-quickchart\" onclick=\"quickchart('df-8b16093e-41df-4443-bb4e-8059e156fb6d')\"\n",
              "            title=\"Suggest charts\"\n",
              "            style=\"display:none;\">\n",
              "\n",
              "<svg xmlns=\"http://www.w3.org/2000/svg\" height=\"24px\"viewBox=\"0 0 24 24\"\n",
              "     width=\"24px\">\n",
              "    <g>\n",
              "        <path d=\"M19 3H5c-1.1 0-2 .9-2 2v14c0 1.1.9 2 2 2h14c1.1 0 2-.9 2-2V5c0-1.1-.9-2-2-2zM9 17H7v-7h2v7zm4 0h-2V7h2v10zm4 0h-2v-4h2v4z\"/>\n",
              "    </g>\n",
              "</svg>\n",
              "  </button>\n",
              "\n",
              "<style>\n",
              "  .colab-df-quickchart {\n",
              "      --bg-color: #E8F0FE;\n",
              "      --fill-color: #1967D2;\n",
              "      --hover-bg-color: #E2EBFA;\n",
              "      --hover-fill-color: #174EA6;\n",
              "      --disabled-fill-color: #AAA;\n",
              "      --disabled-bg-color: #DDD;\n",
              "  }\n",
              "\n",
              "  [theme=dark] .colab-df-quickchart {\n",
              "      --bg-color: #3B4455;\n",
              "      --fill-color: #D2E3FC;\n",
              "      --hover-bg-color: #434B5C;\n",
              "      --hover-fill-color: #FFFFFF;\n",
              "      --disabled-bg-color: #3B4455;\n",
              "      --disabled-fill-color: #666;\n",
              "  }\n",
              "\n",
              "  .colab-df-quickchart {\n",
              "    background-color: var(--bg-color);\n",
              "    border: none;\n",
              "    border-radius: 50%;\n",
              "    cursor: pointer;\n",
              "    display: none;\n",
              "    fill: var(--fill-color);\n",
              "    height: 32px;\n",
              "    padding: 0;\n",
              "    width: 32px;\n",
              "  }\n",
              "\n",
              "  .colab-df-quickchart:hover {\n",
              "    background-color: var(--hover-bg-color);\n",
              "    box-shadow: 0 1px 2px rgba(60, 64, 67, 0.3), 0 1px 3px 1px rgba(60, 64, 67, 0.15);\n",
              "    fill: var(--button-hover-fill-color);\n",
              "  }\n",
              "\n",
              "  .colab-df-quickchart-complete:disabled,\n",
              "  .colab-df-quickchart-complete:disabled:hover {\n",
              "    background-color: var(--disabled-bg-color);\n",
              "    fill: var(--disabled-fill-color);\n",
              "    box-shadow: none;\n",
              "  }\n",
              "\n",
              "  .colab-df-spinner {\n",
              "    border: 2px solid var(--fill-color);\n",
              "    border-color: transparent;\n",
              "    border-bottom-color: var(--fill-color);\n",
              "    animation:\n",
              "      spin 1s steps(1) infinite;\n",
              "  }\n",
              "\n",
              "  @keyframes spin {\n",
              "    0% {\n",
              "      border-color: transparent;\n",
              "      border-bottom-color: var(--fill-color);\n",
              "      border-left-color: var(--fill-color);\n",
              "    }\n",
              "    20% {\n",
              "      border-color: transparent;\n",
              "      border-left-color: var(--fill-color);\n",
              "      border-top-color: var(--fill-color);\n",
              "    }\n",
              "    30% {\n",
              "      border-color: transparent;\n",
              "      border-left-color: var(--fill-color);\n",
              "      border-top-color: var(--fill-color);\n",
              "      border-right-color: var(--fill-color);\n",
              "    }\n",
              "    40% {\n",
              "      border-color: transparent;\n",
              "      border-right-color: var(--fill-color);\n",
              "      border-top-color: var(--fill-color);\n",
              "    }\n",
              "    60% {\n",
              "      border-color: transparent;\n",
              "      border-right-color: var(--fill-color);\n",
              "    }\n",
              "    80% {\n",
              "      border-color: transparent;\n",
              "      border-right-color: var(--fill-color);\n",
              "      border-bottom-color: var(--fill-color);\n",
              "    }\n",
              "    90% {\n",
              "      border-color: transparent;\n",
              "      border-bottom-color: var(--fill-color);\n",
              "    }\n",
              "  }\n",
              "</style>\n",
              "\n",
              "  <script>\n",
              "    async function quickchart(key) {\n",
              "      const quickchartButtonEl =\n",
              "        document.querySelector('#' + key + ' button');\n",
              "      quickchartButtonEl.disabled = true;  // To prevent multiple clicks.\n",
              "      quickchartButtonEl.classList.add('colab-df-spinner');\n",
              "      try {\n",
              "        const charts = await google.colab.kernel.invokeFunction(\n",
              "            'suggestCharts', [key], {});\n",
              "      } catch (error) {\n",
              "        console.error('Error during call to suggestCharts:', error);\n",
              "      }\n",
              "      quickchartButtonEl.classList.remove('colab-df-spinner');\n",
              "      quickchartButtonEl.classList.add('colab-df-quickchart-complete');\n",
              "    }\n",
              "    (() => {\n",
              "      let quickchartButtonEl =\n",
              "        document.querySelector('#df-8b16093e-41df-4443-bb4e-8059e156fb6d button');\n",
              "      quickchartButtonEl.style.display =\n",
              "        google.colab.kernel.accessAllowed ? 'block' : 'none';\n",
              "    })();\n",
              "  </script>\n",
              "</div>\n",
              "    </div>\n",
              "  </div>\n"
            ],
            "application/vnd.google.colaboratory.intrinsic+json": {
              "type": "dataframe",
              "variable_name": "data",
              "summary": "{\n  \"name\": \"data\",\n  \"rows\": 14412,\n  \"fields\": [\n    {\n      \"column\": \"comment\",\n      \"properties\": {\n        \"dtype\": \"string\",\n        \"num_unique_values\": 14412,\n        \"samples\": [\n          \"\\u0431\\u0435\\u0437\\u0440\\u043e\\u0434\\u043d\\u044b\\u0439 \\u043f\\u043e\\u0442\\u043e\\u043c\\u043e\\u043a \\u0445\\u043e\\u043b\\u043e\\u043f\\u0430 \\u0440\\u0430\\u0441\\u0441\\u0443\\u0436\\u0434\\u0430\\u0435\\u0442 \\u043e \\u043d\\u0430\\u0446\\u0438\\u043e\\u043d\\u0430\\u043b\\u044c\\u043d\\u043e\\u0439 \\u0433\\u043e\\u0440\\u0434\\u043e\\u0441\\u0442\\u0438.\\n\",\n          \"\\u0418\\u043d\\u0442\\u0435\\u0440\\u0435\\u0441\\u043d\\u0430\\u044f \\u0442\\u0435\\u043c\\u0430, \\u043e\\u0434\\u043d\\u0430\\u043a\\u043e. \\u041e\\u0422\\u041f \\u0432\\u0440\\u043e\\u0434\\u0435 \\u0432\\u0435\\u043d\\u0433\\u0435\\u0440\\u0441\\u043a\\u0438\\u0439 \\u0431\\u0430\\u043d\\u043a, \\u0432 \\u0412\\u0435\\u043d\\u0433\\u0440\\u0438\\u0438 \\u043e\\u043d \\u0441\\u0430\\u043c\\u044b\\u0439 \\u043f\\u043e\\u043f\\u0443\\u043b\\u044f\\u0440\\u043d\\u044b\\u0439, \\u0443 \\u043c\\u0435\\u043d\\u044f \\u0443 \\u0441\\u0430\\u043c\\u043e\\u0433\\u043e \\u0435\\u0433\\u043e \\u0441\\u0447\\u0451\\u0442 \\u0438 \\u043a\\u0430\\u0440\\u0442\\u0430, \\u0438\\u0431\\u043e \\u0443 \\u043d\\u0435\\u0433\\u043e \\u0434\\u043e\\u0433\\u043e\\u0432\\u043e\\u0440 \\u0441 \\u0443\\u043d\\u0438\\u0432\\u0435\\u0440\\u043e\\u043c, \\u0441\\u043a\\u0438\\u0434\\u043a\\u0438-\\u043f\\u043b\\u044e\\u0448\\u043a\\u0438-\\u0432\\u043e\\u0437\\u0432\\u0440\\u0430\\u0442 \\u0438 \\u0442.\\u043f. \\u0434\\u043b\\u044f \\u0441\\u0442\\u0443\\u0434\\u0435\\u043d\\u0442\\u043e\\u0432. \\u0418 \\u0437\\u0430 4 \\u0433\\u043e\\u0434\\u0430 \\u043f\\u043e\\u043b\\u044c\\u0437\\u043e\\u0432\\u0430\\u043d\\u0438\\u044f \\u043d\\u0438 \\u043e\\u0434\\u043d\\u043e\\u0439 \\u043f\\u0440\\u043e\\u0431\\u043b\\u0435\\u043c\\u044b, \\u043d\\u0438 \\u043e\\u0434\\u043d\\u043e\\u0439 \\u043f\\u043e\\u0434\\u043a\\u043b\\u044e\\u0447\\u0451\\u043d\\u043d\\u043e\\u0439 \\u0443\\u0441\\u043b\\u0443\\u0433\\u0438, \\u0431\\u043b\\u043e\\u043a\\u0438\\u0440\\u043e\\u0432\\u0430\\u043d\\u0438\\u044f, \\u0441\\u043f\\u0438\\u0441\\u0430\\u043d\\u0438\\u044f \\u043d\\u0438 \\u0437\\u0430 \\u0447\\u0442\\u043e \\u0438 \\u043f\\u043e\\u0434\\u043e\\u0431\\u043d\\u043e\\u0439 \\u0435\\u0440\\u0435\\u0441\\u0438, \\u043a\\u043e\\u0442\\u043e\\u0440\\u043e\\u0439 \\u0441\\u0442\\u0440\\u0430\\u0434\\u0430\\u044e\\u0442 \\u0432\\u0441\\u0435 \\u0440\\u043e\\u0441\\u0441\\u0438\\u0439\\u0441\\u043a\\u0438\\u0435 \\u0431\\u0430\\u043d\\u043a\\u0438. \\u041d\\u0438\\u043a\\u0430\\u043a\\u0438\\u0445 \\u043a\\u0440\\u0435\\u0434\\u0438\\u0442\\u043d\\u044b\\u0445 \\u043a\\u0430\\u0440\\u0442 \\u0434\\u0430\\u0436\\u0435 \\u043d\\u0435 \\u043f\\u0440\\u0435\\u0434\\u043b\\u0430\\u0433\\u0430\\u044e\\u0442 (\\u0438 \\u0432\\u043e\\u043e\\u0431\\u0449\\u0435 \\u043e \\u043f\\u043e\\u0434\\u043e\\u0431\\u043d\\u044b\\u0445 \\u0438\\u0441\\u0442\\u043e\\u0440\\u0438\\u044f\\u0445 \\u043d\\u0435 \\u0441\\u043b\\u044b\\u0448\\u0430\\u043b). \\u0412\\u044b\\u0445\\u043e\\u0434\\u0438\\u0442, \\u0431\\u0430\\u043d\\u043a \\u0442\\u043e\\u0442 \\u0436\\u0435, \\u0430 \\u043f\\u0440\\u0438\\u043d\\u0446\\u0438\\u043f \\u0440\\u0430\\u0431\\u043e\\u0442\\u044b \\u0434\\u0440\\u0443\\u0433\\u043e\\u0439, \\u0437\\u0430\\u0442\\u043e\\u0447\\u0435\\u043d\\u043d\\u044b\\u0439 \\u043f\\u043e\\u0434 \\u0440\\u043e\\u0441\\u0441\\u0438\\u0439\\u0441\\u043a\\u0438\\u0439 \\u043a\\u043b\\u0438\\u0435\\u043d\\u0442 - \\u043b\\u043e\\u0445 . P.S. \\u0412 \\u0412\\u0435\\u043d\\u0433\\u0440\\u0438\\u0438 \\u0432\\u0441\\u0435 \\u0431\\u0430\\u043d\\u043a\\u0438 \\u0448\\u043b\\u044e\\u0442 \\u043a\\u0430\\u0440\\u0442\\u044b \\u043f\\u043e \\u043f\\u043e\\u0447\\u0442\\u0435, \\u043c\\u043e\\u044f \\u043a\\u0430\\u043a \\u0440\\u0430\\u0437 \\u0432 \\u044d\\u0442\\u043e\\u043c \\u043c\\u0435\\u0441\\u044f\\u0446\\u0435 \\u043f\\u0440\\u0438\\u0448\\u043b\\u0430. \\u041d\\u043e \\u0432 \\u043f\\u043e\\u0447\\u0442\\u043e\\u0432\\u044b\\u0439 \\u044f\\u0449\\u0438\\u043a \\u0438\\u0445 \\u043d\\u0438 \\u0437\\u0430 \\u0447\\u0442\\u043e \\u043d\\u0435 \\u043a\\u0438\\u043d\\u0443\\u0442. \\u041b\\u0438\\u0431\\u043e \\u0432 \\u0440\\u0443\\u043a\\u0438, \\u043b\\u0438\\u0431\\u043e \\u0438\\u0437\\u0432\\u0435\\u0449\\u0435\\u043d\\u0438\\u0435 \\u0447\\u0442\\u043e\\u0431 \\u0437\\u0430\\u0431\\u0440\\u0430\\u043b \\u043d\\u0430 \\u043f\\u043e\\u0447\\u0442\\u0435. \\u0410 \\u043f\\u043e\\u0447\\u0442\\u0430 \\u043f\\u043e\\u0440\\u044f\\u0434\\u043e\\u0447\\u043d\\u0430\\u044f\\n\",\n          \"\\u0421\\u0443\\u0442\\u044c \\u0442\\u0440\\u0435\\u0431\\u043e\\u0432\\u0430\\u043d\\u0438\\u044f \\u043f\\u0440\\u043e \\u041230 - \\u043d\\u0435 \\u043f\\u0440\\u043e\\u0447\\u043d\\u043e\\u0441\\u0442\\u044c, \\u0430 \\u0432\\u043e\\u0434\\u043e\\u043d\\u0435\\u043f\\u0440\\u043e\\u043d\\u0438\\u0446\\u0430\\u0435\\u043c\\u043e\\u0441\\u0442\\u044c. \\u0412\\u043e\\u0434\\u043e\\u043d\\u0435\\u043f\\u0440\\u043e\\u043d\\u0438\\u0446\\u0430\\u0435\\u043c\\u043e\\u0441\\u0442\\u044c \\u0432\\u043e\\u043e\\u0431\\u0449\\u0435 \\u0442\\u043e \\u043e\\u0431\\u043e\\u0437\\u043d\\u0430\\u0447\\u0430\\u0435\\u0442\\u0441\\u044f W, \\u043d\\u0443 \\u0434\\u0430 \\u043d\\u0435 \\u0441\\u0443\\u0442\\u044c, \\u0437\\u0430\\u0447\\u0435\\u043c \\u043c\\u043d\\u0435 \\u043e\\u043d\\u0430 \\u0432 \\u043b\\u0435\\u043d\\u0442\\u0435 \\u043f\\u043e\\u0434 \\u0437\\u0435\\u043c\\u043b\\u0451\\u0439 ?\\n\"\n        ],\n        \"semantic_type\": \"\",\n        \"description\": \"\"\n      }\n    },\n    {\n      \"column\": \"toxic\",\n      \"properties\": {\n        \"dtype\": \"number\",\n        \"std\": 0.4719578187708464,\n        \"min\": 0.0,\n        \"max\": 1.0,\n        \"num_unique_values\": 2,\n        \"samples\": [\n          0.0,\n          1.0\n        ],\n        \"semantic_type\": \"\",\n        \"description\": \"\"\n      }\n    }\n  ]\n}"
            }
          },
          "metadata": {},
          "execution_count": 578
        }
      ],
      "source": [
        "data"
      ]
    },
    {
      "cell_type": "code",
      "execution_count": 579,
      "id": "CHuMHKCJU-wy",
      "metadata": {
        "id": "CHuMHKCJU-wy"
      },
      "outputs": [],
      "source": [
        "X_train, X_test, y_train, y_test = train_test_split(data.comment.tolist(), data.toxic.tolist(), test_size=0.3, random_state=42)"
      ]
    },
    {
      "cell_type": "markdown",
      "id": "mtIPPaa77L-w",
      "metadata": {
        "id": "mtIPPaa77L-w"
      },
      "source": [
        "### Обучим на встроенном токенайзере sklearn"
      ]
    },
    {
      "cell_type": "code",
      "execution_count": 580,
      "id": "X1MoRg1wVDWF",
      "metadata": {
        "id": "X1MoRg1wVDWF"
      },
      "outputs": [],
      "source": [
        "vectorizer = CountVectorizer()"
      ]
    },
    {
      "cell_type": "code",
      "execution_count": 581,
      "id": "KiSE4ofl2_no",
      "metadata": {
        "colab": {
          "base_uri": "https://localhost:8080/"
        },
        "id": "KiSE4ofl2_no",
        "outputId": "fff5549e-7d04-49bd-9485-5adcea911dc7"
      },
      "outputs": [
        {
          "output_type": "stream",
          "name": "stdout",
          "text": [
            "X_train shape: 10088, y_train shape: 10088,\n",
            "X_test shape: 4324, y_test shape: 4324\n"
          ]
        }
      ],
      "source": [
        "print(f'X_train shape: {len(X_train)}, y_train shape: {len(y_train)},\\n'\n",
        "      f'X_test shape: {len(X_test)}, y_test shape: {len(y_test)}')"
      ]
    },
    {
      "cell_type": "code",
      "execution_count": 582,
      "id": "Mp4bB7hAwfmV",
      "metadata": {
        "colab": {
          "base_uri": "https://localhost:8080/"
        },
        "id": "Mp4bB7hAwfmV",
        "outputId": "7de770f4-4917-45d0-d93e-af944754feac"
      },
      "outputs": [
        {
          "output_type": "execute_result",
          "data": {
            "text/plain": [
              "<2x4 sparse matrix of type '<class 'numpy.int64'>'\n",
              "\twith 5 stored elements in Compressed Sparse Row format>"
            ]
          },
          "metadata": {},
          "execution_count": 582
        }
      ],
      "source": [
        "vectorizer.fit_transform(['Полина любит кошек.', 'И питон и кошек.'])"
      ]
    },
    {
      "cell_type": "code",
      "execution_count": 583,
      "id": "OL98o1BV6cpa",
      "metadata": {
        "id": "OL98o1BV6cpa"
      },
      "outputs": [],
      "source": [
        "X_train_default = vectorizer.fit_transform(X_train)\n",
        "X_test_default = vectorizer.transform(X_test)"
      ]
    },
    {
      "cell_type": "code",
      "execution_count": 584,
      "id": "JuI0nS3r6-rG",
      "metadata": {
        "id": "JuI0nS3r6-rG"
      },
      "outputs": [],
      "source": [
        "knn = KNeighborsClassifier(n_neighbors=3)"
      ]
    },
    {
      "cell_type": "code",
      "execution_count": 585,
      "id": "PbQfZh7y7BpM",
      "metadata": {
        "colab": {
          "base_uri": "https://localhost:8080/",
          "height": 80
        },
        "id": "PbQfZh7y7BpM",
        "outputId": "bd86dc3e-2bcc-4512-a119-80744da9619d"
      },
      "outputs": [
        {
          "output_type": "execute_result",
          "data": {
            "text/plain": [
              "KNeighborsClassifier(n_neighbors=3)"
            ],
            "text/html": [
              "<style>#sk-container-id-14 {\n",
              "  /* Definition of color scheme common for light and dark mode */\n",
              "  --sklearn-color-text: black;\n",
              "  --sklearn-color-line: gray;\n",
              "  /* Definition of color scheme for unfitted estimators */\n",
              "  --sklearn-color-unfitted-level-0: #fff5e6;\n",
              "  --sklearn-color-unfitted-level-1: #f6e4d2;\n",
              "  --sklearn-color-unfitted-level-2: #ffe0b3;\n",
              "  --sklearn-color-unfitted-level-3: chocolate;\n",
              "  /* Definition of color scheme for fitted estimators */\n",
              "  --sklearn-color-fitted-level-0: #f0f8ff;\n",
              "  --sklearn-color-fitted-level-1: #d4ebff;\n",
              "  --sklearn-color-fitted-level-2: #b3dbfd;\n",
              "  --sklearn-color-fitted-level-3: cornflowerblue;\n",
              "\n",
              "  /* Specific color for light theme */\n",
              "  --sklearn-color-text-on-default-background: var(--sg-text-color, var(--theme-code-foreground, var(--jp-content-font-color1, black)));\n",
              "  --sklearn-color-background: var(--sg-background-color, var(--theme-background, var(--jp-layout-color0, white)));\n",
              "  --sklearn-color-border-box: var(--sg-text-color, var(--theme-code-foreground, var(--jp-content-font-color1, black)));\n",
              "  --sklearn-color-icon: #696969;\n",
              "\n",
              "  @media (prefers-color-scheme: dark) {\n",
              "    /* Redefinition of color scheme for dark theme */\n",
              "    --sklearn-color-text-on-default-background: var(--sg-text-color, var(--theme-code-foreground, var(--jp-content-font-color1, white)));\n",
              "    --sklearn-color-background: var(--sg-background-color, var(--theme-background, var(--jp-layout-color0, #111)));\n",
              "    --sklearn-color-border-box: var(--sg-text-color, var(--theme-code-foreground, var(--jp-content-font-color1, white)));\n",
              "    --sklearn-color-icon: #878787;\n",
              "  }\n",
              "}\n",
              "\n",
              "#sk-container-id-14 {\n",
              "  color: var(--sklearn-color-text);\n",
              "}\n",
              "\n",
              "#sk-container-id-14 pre {\n",
              "  padding: 0;\n",
              "}\n",
              "\n",
              "#sk-container-id-14 input.sk-hidden--visually {\n",
              "  border: 0;\n",
              "  clip: rect(1px 1px 1px 1px);\n",
              "  clip: rect(1px, 1px, 1px, 1px);\n",
              "  height: 1px;\n",
              "  margin: -1px;\n",
              "  overflow: hidden;\n",
              "  padding: 0;\n",
              "  position: absolute;\n",
              "  width: 1px;\n",
              "}\n",
              "\n",
              "#sk-container-id-14 div.sk-dashed-wrapped {\n",
              "  border: 1px dashed var(--sklearn-color-line);\n",
              "  margin: 0 0.4em 0.5em 0.4em;\n",
              "  box-sizing: border-box;\n",
              "  padding-bottom: 0.4em;\n",
              "  background-color: var(--sklearn-color-background);\n",
              "}\n",
              "\n",
              "#sk-container-id-14 div.sk-container {\n",
              "  /* jupyter's `normalize.less` sets `[hidden] { display: none; }`\n",
              "     but bootstrap.min.css set `[hidden] { display: none !important; }`\n",
              "     so we also need the `!important` here to be able to override the\n",
              "     default hidden behavior on the sphinx rendered scikit-learn.org.\n",
              "     See: https://github.com/scikit-learn/scikit-learn/issues/21755 */\n",
              "  display: inline-block !important;\n",
              "  position: relative;\n",
              "}\n",
              "\n",
              "#sk-container-id-14 div.sk-text-repr-fallback {\n",
              "  display: none;\n",
              "}\n",
              "\n",
              "div.sk-parallel-item,\n",
              "div.sk-serial,\n",
              "div.sk-item {\n",
              "  /* draw centered vertical line to link estimators */\n",
              "  background-image: linear-gradient(var(--sklearn-color-text-on-default-background), var(--sklearn-color-text-on-default-background));\n",
              "  background-size: 2px 100%;\n",
              "  background-repeat: no-repeat;\n",
              "  background-position: center center;\n",
              "}\n",
              "\n",
              "/* Parallel-specific style estimator block */\n",
              "\n",
              "#sk-container-id-14 div.sk-parallel-item::after {\n",
              "  content: \"\";\n",
              "  width: 100%;\n",
              "  border-bottom: 2px solid var(--sklearn-color-text-on-default-background);\n",
              "  flex-grow: 1;\n",
              "}\n",
              "\n",
              "#sk-container-id-14 div.sk-parallel {\n",
              "  display: flex;\n",
              "  align-items: stretch;\n",
              "  justify-content: center;\n",
              "  background-color: var(--sklearn-color-background);\n",
              "  position: relative;\n",
              "}\n",
              "\n",
              "#sk-container-id-14 div.sk-parallel-item {\n",
              "  display: flex;\n",
              "  flex-direction: column;\n",
              "}\n",
              "\n",
              "#sk-container-id-14 div.sk-parallel-item:first-child::after {\n",
              "  align-self: flex-end;\n",
              "  width: 50%;\n",
              "}\n",
              "\n",
              "#sk-container-id-14 div.sk-parallel-item:last-child::after {\n",
              "  align-self: flex-start;\n",
              "  width: 50%;\n",
              "}\n",
              "\n",
              "#sk-container-id-14 div.sk-parallel-item:only-child::after {\n",
              "  width: 0;\n",
              "}\n",
              "\n",
              "/* Serial-specific style estimator block */\n",
              "\n",
              "#sk-container-id-14 div.sk-serial {\n",
              "  display: flex;\n",
              "  flex-direction: column;\n",
              "  align-items: center;\n",
              "  background-color: var(--sklearn-color-background);\n",
              "  padding-right: 1em;\n",
              "  padding-left: 1em;\n",
              "}\n",
              "\n",
              "\n",
              "/* Toggleable style: style used for estimator/Pipeline/ColumnTransformer box that is\n",
              "clickable and can be expanded/collapsed.\n",
              "- Pipeline and ColumnTransformer use this feature and define the default style\n",
              "- Estimators will overwrite some part of the style using the `sk-estimator` class\n",
              "*/\n",
              "\n",
              "/* Pipeline and ColumnTransformer style (default) */\n",
              "\n",
              "#sk-container-id-14 div.sk-toggleable {\n",
              "  /* Default theme specific background. It is overwritten whether we have a\n",
              "  specific estimator or a Pipeline/ColumnTransformer */\n",
              "  background-color: var(--sklearn-color-background);\n",
              "}\n",
              "\n",
              "/* Toggleable label */\n",
              "#sk-container-id-14 label.sk-toggleable__label {\n",
              "  cursor: pointer;\n",
              "  display: block;\n",
              "  width: 100%;\n",
              "  margin-bottom: 0;\n",
              "  padding: 0.5em;\n",
              "  box-sizing: border-box;\n",
              "  text-align: center;\n",
              "}\n",
              "\n",
              "#sk-container-id-14 label.sk-toggleable__label-arrow:before {\n",
              "  /* Arrow on the left of the label */\n",
              "  content: \"▸\";\n",
              "  float: left;\n",
              "  margin-right: 0.25em;\n",
              "  color: var(--sklearn-color-icon);\n",
              "}\n",
              "\n",
              "#sk-container-id-14 label.sk-toggleable__label-arrow:hover:before {\n",
              "  color: var(--sklearn-color-text);\n",
              "}\n",
              "\n",
              "/* Toggleable content - dropdown */\n",
              "\n",
              "#sk-container-id-14 div.sk-toggleable__content {\n",
              "  max-height: 0;\n",
              "  max-width: 0;\n",
              "  overflow: hidden;\n",
              "  text-align: left;\n",
              "  /* unfitted */\n",
              "  background-color: var(--sklearn-color-unfitted-level-0);\n",
              "}\n",
              "\n",
              "#sk-container-id-14 div.sk-toggleable__content.fitted {\n",
              "  /* fitted */\n",
              "  background-color: var(--sklearn-color-fitted-level-0);\n",
              "}\n",
              "\n",
              "#sk-container-id-14 div.sk-toggleable__content pre {\n",
              "  margin: 0.2em;\n",
              "  border-radius: 0.25em;\n",
              "  color: var(--sklearn-color-text);\n",
              "  /* unfitted */\n",
              "  background-color: var(--sklearn-color-unfitted-level-0);\n",
              "}\n",
              "\n",
              "#sk-container-id-14 div.sk-toggleable__content.fitted pre {\n",
              "  /* unfitted */\n",
              "  background-color: var(--sklearn-color-fitted-level-0);\n",
              "}\n",
              "\n",
              "#sk-container-id-14 input.sk-toggleable__control:checked~div.sk-toggleable__content {\n",
              "  /* Expand drop-down */\n",
              "  max-height: 200px;\n",
              "  max-width: 100%;\n",
              "  overflow: auto;\n",
              "}\n",
              "\n",
              "#sk-container-id-14 input.sk-toggleable__control:checked~label.sk-toggleable__label-arrow:before {\n",
              "  content: \"▾\";\n",
              "}\n",
              "\n",
              "/* Pipeline/ColumnTransformer-specific style */\n",
              "\n",
              "#sk-container-id-14 div.sk-label input.sk-toggleable__control:checked~label.sk-toggleable__label {\n",
              "  color: var(--sklearn-color-text);\n",
              "  background-color: var(--sklearn-color-unfitted-level-2);\n",
              "}\n",
              "\n",
              "#sk-container-id-14 div.sk-label.fitted input.sk-toggleable__control:checked~label.sk-toggleable__label {\n",
              "  background-color: var(--sklearn-color-fitted-level-2);\n",
              "}\n",
              "\n",
              "/* Estimator-specific style */\n",
              "\n",
              "/* Colorize estimator box */\n",
              "#sk-container-id-14 div.sk-estimator input.sk-toggleable__control:checked~label.sk-toggleable__label {\n",
              "  /* unfitted */\n",
              "  background-color: var(--sklearn-color-unfitted-level-2);\n",
              "}\n",
              "\n",
              "#sk-container-id-14 div.sk-estimator.fitted input.sk-toggleable__control:checked~label.sk-toggleable__label {\n",
              "  /* fitted */\n",
              "  background-color: var(--sklearn-color-fitted-level-2);\n",
              "}\n",
              "\n",
              "#sk-container-id-14 div.sk-label label.sk-toggleable__label,\n",
              "#sk-container-id-14 div.sk-label label {\n",
              "  /* The background is the default theme color */\n",
              "  color: var(--sklearn-color-text-on-default-background);\n",
              "}\n",
              "\n",
              "/* On hover, darken the color of the background */\n",
              "#sk-container-id-14 div.sk-label:hover label.sk-toggleable__label {\n",
              "  color: var(--sklearn-color-text);\n",
              "  background-color: var(--sklearn-color-unfitted-level-2);\n",
              "}\n",
              "\n",
              "/* Label box, darken color on hover, fitted */\n",
              "#sk-container-id-14 div.sk-label.fitted:hover label.sk-toggleable__label.fitted {\n",
              "  color: var(--sklearn-color-text);\n",
              "  background-color: var(--sklearn-color-fitted-level-2);\n",
              "}\n",
              "\n",
              "/* Estimator label */\n",
              "\n",
              "#sk-container-id-14 div.sk-label label {\n",
              "  font-family: monospace;\n",
              "  font-weight: bold;\n",
              "  display: inline-block;\n",
              "  line-height: 1.2em;\n",
              "}\n",
              "\n",
              "#sk-container-id-14 div.sk-label-container {\n",
              "  text-align: center;\n",
              "}\n",
              "\n",
              "/* Estimator-specific */\n",
              "#sk-container-id-14 div.sk-estimator {\n",
              "  font-family: monospace;\n",
              "  border: 1px dotted var(--sklearn-color-border-box);\n",
              "  border-radius: 0.25em;\n",
              "  box-sizing: border-box;\n",
              "  margin-bottom: 0.5em;\n",
              "  /* unfitted */\n",
              "  background-color: var(--sklearn-color-unfitted-level-0);\n",
              "}\n",
              "\n",
              "#sk-container-id-14 div.sk-estimator.fitted {\n",
              "  /* fitted */\n",
              "  background-color: var(--sklearn-color-fitted-level-0);\n",
              "}\n",
              "\n",
              "/* on hover */\n",
              "#sk-container-id-14 div.sk-estimator:hover {\n",
              "  /* unfitted */\n",
              "  background-color: var(--sklearn-color-unfitted-level-2);\n",
              "}\n",
              "\n",
              "#sk-container-id-14 div.sk-estimator.fitted:hover {\n",
              "  /* fitted */\n",
              "  background-color: var(--sklearn-color-fitted-level-2);\n",
              "}\n",
              "\n",
              "/* Specification for estimator info (e.g. \"i\" and \"?\") */\n",
              "\n",
              "/* Common style for \"i\" and \"?\" */\n",
              "\n",
              ".sk-estimator-doc-link,\n",
              "a:link.sk-estimator-doc-link,\n",
              "a:visited.sk-estimator-doc-link {\n",
              "  float: right;\n",
              "  font-size: smaller;\n",
              "  line-height: 1em;\n",
              "  font-family: monospace;\n",
              "  background-color: var(--sklearn-color-background);\n",
              "  border-radius: 1em;\n",
              "  height: 1em;\n",
              "  width: 1em;\n",
              "  text-decoration: none !important;\n",
              "  margin-left: 1ex;\n",
              "  /* unfitted */\n",
              "  border: var(--sklearn-color-unfitted-level-1) 1pt solid;\n",
              "  color: var(--sklearn-color-unfitted-level-1);\n",
              "}\n",
              "\n",
              ".sk-estimator-doc-link.fitted,\n",
              "a:link.sk-estimator-doc-link.fitted,\n",
              "a:visited.sk-estimator-doc-link.fitted {\n",
              "  /* fitted */\n",
              "  border: var(--sklearn-color-fitted-level-1) 1pt solid;\n",
              "  color: var(--sklearn-color-fitted-level-1);\n",
              "}\n",
              "\n",
              "/* On hover */\n",
              "div.sk-estimator:hover .sk-estimator-doc-link:hover,\n",
              ".sk-estimator-doc-link:hover,\n",
              "div.sk-label-container:hover .sk-estimator-doc-link:hover,\n",
              ".sk-estimator-doc-link:hover {\n",
              "  /* unfitted */\n",
              "  background-color: var(--sklearn-color-unfitted-level-3);\n",
              "  color: var(--sklearn-color-background);\n",
              "  text-decoration: none;\n",
              "}\n",
              "\n",
              "div.sk-estimator.fitted:hover .sk-estimator-doc-link.fitted:hover,\n",
              ".sk-estimator-doc-link.fitted:hover,\n",
              "div.sk-label-container:hover .sk-estimator-doc-link.fitted:hover,\n",
              ".sk-estimator-doc-link.fitted:hover {\n",
              "  /* fitted */\n",
              "  background-color: var(--sklearn-color-fitted-level-3);\n",
              "  color: var(--sklearn-color-background);\n",
              "  text-decoration: none;\n",
              "}\n",
              "\n",
              "/* Span, style for the box shown on hovering the info icon */\n",
              ".sk-estimator-doc-link span {\n",
              "  display: none;\n",
              "  z-index: 9999;\n",
              "  position: relative;\n",
              "  font-weight: normal;\n",
              "  right: .2ex;\n",
              "  padding: .5ex;\n",
              "  margin: .5ex;\n",
              "  width: min-content;\n",
              "  min-width: 20ex;\n",
              "  max-width: 50ex;\n",
              "  color: var(--sklearn-color-text);\n",
              "  box-shadow: 2pt 2pt 4pt #999;\n",
              "  /* unfitted */\n",
              "  background: var(--sklearn-color-unfitted-level-0);\n",
              "  border: .5pt solid var(--sklearn-color-unfitted-level-3);\n",
              "}\n",
              "\n",
              ".sk-estimator-doc-link.fitted span {\n",
              "  /* fitted */\n",
              "  background: var(--sklearn-color-fitted-level-0);\n",
              "  border: var(--sklearn-color-fitted-level-3);\n",
              "}\n",
              "\n",
              ".sk-estimator-doc-link:hover span {\n",
              "  display: block;\n",
              "}\n",
              "\n",
              "/* \"?\"-specific style due to the `<a>` HTML tag */\n",
              "\n",
              "#sk-container-id-14 a.estimator_doc_link {\n",
              "  float: right;\n",
              "  font-size: 1rem;\n",
              "  line-height: 1em;\n",
              "  font-family: monospace;\n",
              "  background-color: var(--sklearn-color-background);\n",
              "  border-radius: 1rem;\n",
              "  height: 1rem;\n",
              "  width: 1rem;\n",
              "  text-decoration: none;\n",
              "  /* unfitted */\n",
              "  color: var(--sklearn-color-unfitted-level-1);\n",
              "  border: var(--sklearn-color-unfitted-level-1) 1pt solid;\n",
              "}\n",
              "\n",
              "#sk-container-id-14 a.estimator_doc_link.fitted {\n",
              "  /* fitted */\n",
              "  border: var(--sklearn-color-fitted-level-1) 1pt solid;\n",
              "  color: var(--sklearn-color-fitted-level-1);\n",
              "}\n",
              "\n",
              "/* On hover */\n",
              "#sk-container-id-14 a.estimator_doc_link:hover {\n",
              "  /* unfitted */\n",
              "  background-color: var(--sklearn-color-unfitted-level-3);\n",
              "  color: var(--sklearn-color-background);\n",
              "  text-decoration: none;\n",
              "}\n",
              "\n",
              "#sk-container-id-14 a.estimator_doc_link.fitted:hover {\n",
              "  /* fitted */\n",
              "  background-color: var(--sklearn-color-fitted-level-3);\n",
              "}\n",
              "</style><div id=\"sk-container-id-14\" class=\"sk-top-container\"><div class=\"sk-text-repr-fallback\"><pre>KNeighborsClassifier(n_neighbors=3)</pre><b>In a Jupyter environment, please rerun this cell to show the HTML representation or trust the notebook. <br />On GitHub, the HTML representation is unable to render, please try loading this page with nbviewer.org.</b></div><div class=\"sk-container\" hidden><div class=\"sk-item\"><div class=\"sk-estimator fitted sk-toggleable\"><input class=\"sk-toggleable__control sk-hidden--visually\" id=\"sk-estimator-id-14\" type=\"checkbox\" checked><label for=\"sk-estimator-id-14\" class=\"sk-toggleable__label fitted sk-toggleable__label-arrow fitted\">&nbsp;&nbsp;KNeighborsClassifier<a class=\"sk-estimator-doc-link fitted\" rel=\"noreferrer\" target=\"_blank\" href=\"https://scikit-learn.org/1.5/modules/generated/sklearn.neighbors.KNeighborsClassifier.html\">?<span>Documentation for KNeighborsClassifier</span></a><span class=\"sk-estimator-doc-link fitted\">i<span>Fitted</span></span></label><div class=\"sk-toggleable__content fitted\"><pre>KNeighborsClassifier(n_neighbors=3)</pre></div> </div></div></div></div>"
            ]
          },
          "metadata": {},
          "execution_count": 585
        }
      ],
      "source": [
        "knn.fit(X_train_default, y_train)"
      ]
    },
    {
      "cell_type": "code",
      "execution_count": 586,
      "id": "BgLGaof77EkR",
      "metadata": {
        "id": "BgLGaof77EkR"
      },
      "outputs": [],
      "source": [
        "y_pred_default = knn.predict(X_test_default)"
      ]
    },
    {
      "cell_type": "markdown",
      "id": "NUpAFM8T-lfq",
      "metadata": {
        "id": "NUpAFM8T-lfq"
      },
      "source": [
        "### Обучим на токенайзере razdel.tokenize"
      ]
    },
    {
      "cell_type": "code",
      "execution_count": 587,
      "id": "HfO0KYGu-Yge",
      "metadata": {
        "colab": {
          "base_uri": "https://localhost:8080/"
        },
        "id": "HfO0KYGu-Yge",
        "outputId": "c3d6e80b-c8b4-4508-a4f7-17480c5de2de"
      },
      "outputs": [
        {
          "output_type": "stream",
          "name": "stdout",
          "text": [
            "Requirement already satisfied: razdel in /usr/local/lib/python3.10/dist-packages (0.5.0)\n"
          ]
        }
      ],
      "source": [
        "!pip install razdel\n",
        "\n",
        "import razdel"
      ]
    },
    {
      "cell_type": "code",
      "execution_count": 588,
      "id": "dHjNhOOA-77X",
      "metadata": {
        "id": "dHjNhOOA-77X"
      },
      "outputs": [],
      "source": [
        "def razdel_tokenizer(smth):\n",
        "  tokens = [i.text for i in list(razdel.tokenize(smth))]\n",
        "  return tokens"
      ]
    },
    {
      "cell_type": "code",
      "execution_count": 589,
      "id": "1MyqLXA8_UN8",
      "metadata": {
        "id": "1MyqLXA8_UN8"
      },
      "outputs": [],
      "source": [
        "vectorizer = CountVectorizer(tokenizer=razdel_tokenizer,\n",
        "                             token_pattern=None)"
      ]
    },
    {
      "cell_type": "code",
      "execution_count": 590,
      "id": "PwMttDCU_x7v",
      "metadata": {
        "id": "PwMttDCU_x7v"
      },
      "outputs": [],
      "source": [
        "X_train_razdel = vectorizer.fit_transform(X_train)\n",
        "X_test_razdel = vectorizer.transform(X_test)"
      ]
    },
    {
      "cell_type": "code",
      "execution_count": 591,
      "id": "HBCNfJ0G_-h6",
      "metadata": {
        "colab": {
          "base_uri": "https://localhost:8080/",
          "height": 80
        },
        "id": "HBCNfJ0G_-h6",
        "outputId": "55f7e7f5-70c4-4f74-8481-0b707165a8c2"
      },
      "outputs": [
        {
          "output_type": "execute_result",
          "data": {
            "text/plain": [
              "KNeighborsClassifier(n_neighbors=3)"
            ],
            "text/html": [
              "<style>#sk-container-id-15 {\n",
              "  /* Definition of color scheme common for light and dark mode */\n",
              "  --sklearn-color-text: black;\n",
              "  --sklearn-color-line: gray;\n",
              "  /* Definition of color scheme for unfitted estimators */\n",
              "  --sklearn-color-unfitted-level-0: #fff5e6;\n",
              "  --sklearn-color-unfitted-level-1: #f6e4d2;\n",
              "  --sklearn-color-unfitted-level-2: #ffe0b3;\n",
              "  --sklearn-color-unfitted-level-3: chocolate;\n",
              "  /* Definition of color scheme for fitted estimators */\n",
              "  --sklearn-color-fitted-level-0: #f0f8ff;\n",
              "  --sklearn-color-fitted-level-1: #d4ebff;\n",
              "  --sklearn-color-fitted-level-2: #b3dbfd;\n",
              "  --sklearn-color-fitted-level-3: cornflowerblue;\n",
              "\n",
              "  /* Specific color for light theme */\n",
              "  --sklearn-color-text-on-default-background: var(--sg-text-color, var(--theme-code-foreground, var(--jp-content-font-color1, black)));\n",
              "  --sklearn-color-background: var(--sg-background-color, var(--theme-background, var(--jp-layout-color0, white)));\n",
              "  --sklearn-color-border-box: var(--sg-text-color, var(--theme-code-foreground, var(--jp-content-font-color1, black)));\n",
              "  --sklearn-color-icon: #696969;\n",
              "\n",
              "  @media (prefers-color-scheme: dark) {\n",
              "    /* Redefinition of color scheme for dark theme */\n",
              "    --sklearn-color-text-on-default-background: var(--sg-text-color, var(--theme-code-foreground, var(--jp-content-font-color1, white)));\n",
              "    --sklearn-color-background: var(--sg-background-color, var(--theme-background, var(--jp-layout-color0, #111)));\n",
              "    --sklearn-color-border-box: var(--sg-text-color, var(--theme-code-foreground, var(--jp-content-font-color1, white)));\n",
              "    --sklearn-color-icon: #878787;\n",
              "  }\n",
              "}\n",
              "\n",
              "#sk-container-id-15 {\n",
              "  color: var(--sklearn-color-text);\n",
              "}\n",
              "\n",
              "#sk-container-id-15 pre {\n",
              "  padding: 0;\n",
              "}\n",
              "\n",
              "#sk-container-id-15 input.sk-hidden--visually {\n",
              "  border: 0;\n",
              "  clip: rect(1px 1px 1px 1px);\n",
              "  clip: rect(1px, 1px, 1px, 1px);\n",
              "  height: 1px;\n",
              "  margin: -1px;\n",
              "  overflow: hidden;\n",
              "  padding: 0;\n",
              "  position: absolute;\n",
              "  width: 1px;\n",
              "}\n",
              "\n",
              "#sk-container-id-15 div.sk-dashed-wrapped {\n",
              "  border: 1px dashed var(--sklearn-color-line);\n",
              "  margin: 0 0.4em 0.5em 0.4em;\n",
              "  box-sizing: border-box;\n",
              "  padding-bottom: 0.4em;\n",
              "  background-color: var(--sklearn-color-background);\n",
              "}\n",
              "\n",
              "#sk-container-id-15 div.sk-container {\n",
              "  /* jupyter's `normalize.less` sets `[hidden] { display: none; }`\n",
              "     but bootstrap.min.css set `[hidden] { display: none !important; }`\n",
              "     so we also need the `!important` here to be able to override the\n",
              "     default hidden behavior on the sphinx rendered scikit-learn.org.\n",
              "     See: https://github.com/scikit-learn/scikit-learn/issues/21755 */\n",
              "  display: inline-block !important;\n",
              "  position: relative;\n",
              "}\n",
              "\n",
              "#sk-container-id-15 div.sk-text-repr-fallback {\n",
              "  display: none;\n",
              "}\n",
              "\n",
              "div.sk-parallel-item,\n",
              "div.sk-serial,\n",
              "div.sk-item {\n",
              "  /* draw centered vertical line to link estimators */\n",
              "  background-image: linear-gradient(var(--sklearn-color-text-on-default-background), var(--sklearn-color-text-on-default-background));\n",
              "  background-size: 2px 100%;\n",
              "  background-repeat: no-repeat;\n",
              "  background-position: center center;\n",
              "}\n",
              "\n",
              "/* Parallel-specific style estimator block */\n",
              "\n",
              "#sk-container-id-15 div.sk-parallel-item::after {\n",
              "  content: \"\";\n",
              "  width: 100%;\n",
              "  border-bottom: 2px solid var(--sklearn-color-text-on-default-background);\n",
              "  flex-grow: 1;\n",
              "}\n",
              "\n",
              "#sk-container-id-15 div.sk-parallel {\n",
              "  display: flex;\n",
              "  align-items: stretch;\n",
              "  justify-content: center;\n",
              "  background-color: var(--sklearn-color-background);\n",
              "  position: relative;\n",
              "}\n",
              "\n",
              "#sk-container-id-15 div.sk-parallel-item {\n",
              "  display: flex;\n",
              "  flex-direction: column;\n",
              "}\n",
              "\n",
              "#sk-container-id-15 div.sk-parallel-item:first-child::after {\n",
              "  align-self: flex-end;\n",
              "  width: 50%;\n",
              "}\n",
              "\n",
              "#sk-container-id-15 div.sk-parallel-item:last-child::after {\n",
              "  align-self: flex-start;\n",
              "  width: 50%;\n",
              "}\n",
              "\n",
              "#sk-container-id-15 div.sk-parallel-item:only-child::after {\n",
              "  width: 0;\n",
              "}\n",
              "\n",
              "/* Serial-specific style estimator block */\n",
              "\n",
              "#sk-container-id-15 div.sk-serial {\n",
              "  display: flex;\n",
              "  flex-direction: column;\n",
              "  align-items: center;\n",
              "  background-color: var(--sklearn-color-background);\n",
              "  padding-right: 1em;\n",
              "  padding-left: 1em;\n",
              "}\n",
              "\n",
              "\n",
              "/* Toggleable style: style used for estimator/Pipeline/ColumnTransformer box that is\n",
              "clickable and can be expanded/collapsed.\n",
              "- Pipeline and ColumnTransformer use this feature and define the default style\n",
              "- Estimators will overwrite some part of the style using the `sk-estimator` class\n",
              "*/\n",
              "\n",
              "/* Pipeline and ColumnTransformer style (default) */\n",
              "\n",
              "#sk-container-id-15 div.sk-toggleable {\n",
              "  /* Default theme specific background. It is overwritten whether we have a\n",
              "  specific estimator or a Pipeline/ColumnTransformer */\n",
              "  background-color: var(--sklearn-color-background);\n",
              "}\n",
              "\n",
              "/* Toggleable label */\n",
              "#sk-container-id-15 label.sk-toggleable__label {\n",
              "  cursor: pointer;\n",
              "  display: block;\n",
              "  width: 100%;\n",
              "  margin-bottom: 0;\n",
              "  padding: 0.5em;\n",
              "  box-sizing: border-box;\n",
              "  text-align: center;\n",
              "}\n",
              "\n",
              "#sk-container-id-15 label.sk-toggleable__label-arrow:before {\n",
              "  /* Arrow on the left of the label */\n",
              "  content: \"▸\";\n",
              "  float: left;\n",
              "  margin-right: 0.25em;\n",
              "  color: var(--sklearn-color-icon);\n",
              "}\n",
              "\n",
              "#sk-container-id-15 label.sk-toggleable__label-arrow:hover:before {\n",
              "  color: var(--sklearn-color-text);\n",
              "}\n",
              "\n",
              "/* Toggleable content - dropdown */\n",
              "\n",
              "#sk-container-id-15 div.sk-toggleable__content {\n",
              "  max-height: 0;\n",
              "  max-width: 0;\n",
              "  overflow: hidden;\n",
              "  text-align: left;\n",
              "  /* unfitted */\n",
              "  background-color: var(--sklearn-color-unfitted-level-0);\n",
              "}\n",
              "\n",
              "#sk-container-id-15 div.sk-toggleable__content.fitted {\n",
              "  /* fitted */\n",
              "  background-color: var(--sklearn-color-fitted-level-0);\n",
              "}\n",
              "\n",
              "#sk-container-id-15 div.sk-toggleable__content pre {\n",
              "  margin: 0.2em;\n",
              "  border-radius: 0.25em;\n",
              "  color: var(--sklearn-color-text);\n",
              "  /* unfitted */\n",
              "  background-color: var(--sklearn-color-unfitted-level-0);\n",
              "}\n",
              "\n",
              "#sk-container-id-15 div.sk-toggleable__content.fitted pre {\n",
              "  /* unfitted */\n",
              "  background-color: var(--sklearn-color-fitted-level-0);\n",
              "}\n",
              "\n",
              "#sk-container-id-15 input.sk-toggleable__control:checked~div.sk-toggleable__content {\n",
              "  /* Expand drop-down */\n",
              "  max-height: 200px;\n",
              "  max-width: 100%;\n",
              "  overflow: auto;\n",
              "}\n",
              "\n",
              "#sk-container-id-15 input.sk-toggleable__control:checked~label.sk-toggleable__label-arrow:before {\n",
              "  content: \"▾\";\n",
              "}\n",
              "\n",
              "/* Pipeline/ColumnTransformer-specific style */\n",
              "\n",
              "#sk-container-id-15 div.sk-label input.sk-toggleable__control:checked~label.sk-toggleable__label {\n",
              "  color: var(--sklearn-color-text);\n",
              "  background-color: var(--sklearn-color-unfitted-level-2);\n",
              "}\n",
              "\n",
              "#sk-container-id-15 div.sk-label.fitted input.sk-toggleable__control:checked~label.sk-toggleable__label {\n",
              "  background-color: var(--sklearn-color-fitted-level-2);\n",
              "}\n",
              "\n",
              "/* Estimator-specific style */\n",
              "\n",
              "/* Colorize estimator box */\n",
              "#sk-container-id-15 div.sk-estimator input.sk-toggleable__control:checked~label.sk-toggleable__label {\n",
              "  /* unfitted */\n",
              "  background-color: var(--sklearn-color-unfitted-level-2);\n",
              "}\n",
              "\n",
              "#sk-container-id-15 div.sk-estimator.fitted input.sk-toggleable__control:checked~label.sk-toggleable__label {\n",
              "  /* fitted */\n",
              "  background-color: var(--sklearn-color-fitted-level-2);\n",
              "}\n",
              "\n",
              "#sk-container-id-15 div.sk-label label.sk-toggleable__label,\n",
              "#sk-container-id-15 div.sk-label label {\n",
              "  /* The background is the default theme color */\n",
              "  color: var(--sklearn-color-text-on-default-background);\n",
              "}\n",
              "\n",
              "/* On hover, darken the color of the background */\n",
              "#sk-container-id-15 div.sk-label:hover label.sk-toggleable__label {\n",
              "  color: var(--sklearn-color-text);\n",
              "  background-color: var(--sklearn-color-unfitted-level-2);\n",
              "}\n",
              "\n",
              "/* Label box, darken color on hover, fitted */\n",
              "#sk-container-id-15 div.sk-label.fitted:hover label.sk-toggleable__label.fitted {\n",
              "  color: var(--sklearn-color-text);\n",
              "  background-color: var(--sklearn-color-fitted-level-2);\n",
              "}\n",
              "\n",
              "/* Estimator label */\n",
              "\n",
              "#sk-container-id-15 div.sk-label label {\n",
              "  font-family: monospace;\n",
              "  font-weight: bold;\n",
              "  display: inline-block;\n",
              "  line-height: 1.2em;\n",
              "}\n",
              "\n",
              "#sk-container-id-15 div.sk-label-container {\n",
              "  text-align: center;\n",
              "}\n",
              "\n",
              "/* Estimator-specific */\n",
              "#sk-container-id-15 div.sk-estimator {\n",
              "  font-family: monospace;\n",
              "  border: 1px dotted var(--sklearn-color-border-box);\n",
              "  border-radius: 0.25em;\n",
              "  box-sizing: border-box;\n",
              "  margin-bottom: 0.5em;\n",
              "  /* unfitted */\n",
              "  background-color: var(--sklearn-color-unfitted-level-0);\n",
              "}\n",
              "\n",
              "#sk-container-id-15 div.sk-estimator.fitted {\n",
              "  /* fitted */\n",
              "  background-color: var(--sklearn-color-fitted-level-0);\n",
              "}\n",
              "\n",
              "/* on hover */\n",
              "#sk-container-id-15 div.sk-estimator:hover {\n",
              "  /* unfitted */\n",
              "  background-color: var(--sklearn-color-unfitted-level-2);\n",
              "}\n",
              "\n",
              "#sk-container-id-15 div.sk-estimator.fitted:hover {\n",
              "  /* fitted */\n",
              "  background-color: var(--sklearn-color-fitted-level-2);\n",
              "}\n",
              "\n",
              "/* Specification for estimator info (e.g. \"i\" and \"?\") */\n",
              "\n",
              "/* Common style for \"i\" and \"?\" */\n",
              "\n",
              ".sk-estimator-doc-link,\n",
              "a:link.sk-estimator-doc-link,\n",
              "a:visited.sk-estimator-doc-link {\n",
              "  float: right;\n",
              "  font-size: smaller;\n",
              "  line-height: 1em;\n",
              "  font-family: monospace;\n",
              "  background-color: var(--sklearn-color-background);\n",
              "  border-radius: 1em;\n",
              "  height: 1em;\n",
              "  width: 1em;\n",
              "  text-decoration: none !important;\n",
              "  margin-left: 1ex;\n",
              "  /* unfitted */\n",
              "  border: var(--sklearn-color-unfitted-level-1) 1pt solid;\n",
              "  color: var(--sklearn-color-unfitted-level-1);\n",
              "}\n",
              "\n",
              ".sk-estimator-doc-link.fitted,\n",
              "a:link.sk-estimator-doc-link.fitted,\n",
              "a:visited.sk-estimator-doc-link.fitted {\n",
              "  /* fitted */\n",
              "  border: var(--sklearn-color-fitted-level-1) 1pt solid;\n",
              "  color: var(--sklearn-color-fitted-level-1);\n",
              "}\n",
              "\n",
              "/* On hover */\n",
              "div.sk-estimator:hover .sk-estimator-doc-link:hover,\n",
              ".sk-estimator-doc-link:hover,\n",
              "div.sk-label-container:hover .sk-estimator-doc-link:hover,\n",
              ".sk-estimator-doc-link:hover {\n",
              "  /* unfitted */\n",
              "  background-color: var(--sklearn-color-unfitted-level-3);\n",
              "  color: var(--sklearn-color-background);\n",
              "  text-decoration: none;\n",
              "}\n",
              "\n",
              "div.sk-estimator.fitted:hover .sk-estimator-doc-link.fitted:hover,\n",
              ".sk-estimator-doc-link.fitted:hover,\n",
              "div.sk-label-container:hover .sk-estimator-doc-link.fitted:hover,\n",
              ".sk-estimator-doc-link.fitted:hover {\n",
              "  /* fitted */\n",
              "  background-color: var(--sklearn-color-fitted-level-3);\n",
              "  color: var(--sklearn-color-background);\n",
              "  text-decoration: none;\n",
              "}\n",
              "\n",
              "/* Span, style for the box shown on hovering the info icon */\n",
              ".sk-estimator-doc-link span {\n",
              "  display: none;\n",
              "  z-index: 9999;\n",
              "  position: relative;\n",
              "  font-weight: normal;\n",
              "  right: .2ex;\n",
              "  padding: .5ex;\n",
              "  margin: .5ex;\n",
              "  width: min-content;\n",
              "  min-width: 20ex;\n",
              "  max-width: 50ex;\n",
              "  color: var(--sklearn-color-text);\n",
              "  box-shadow: 2pt 2pt 4pt #999;\n",
              "  /* unfitted */\n",
              "  background: var(--sklearn-color-unfitted-level-0);\n",
              "  border: .5pt solid var(--sklearn-color-unfitted-level-3);\n",
              "}\n",
              "\n",
              ".sk-estimator-doc-link.fitted span {\n",
              "  /* fitted */\n",
              "  background: var(--sklearn-color-fitted-level-0);\n",
              "  border: var(--sklearn-color-fitted-level-3);\n",
              "}\n",
              "\n",
              ".sk-estimator-doc-link:hover span {\n",
              "  display: block;\n",
              "}\n",
              "\n",
              "/* \"?\"-specific style due to the `<a>` HTML tag */\n",
              "\n",
              "#sk-container-id-15 a.estimator_doc_link {\n",
              "  float: right;\n",
              "  font-size: 1rem;\n",
              "  line-height: 1em;\n",
              "  font-family: monospace;\n",
              "  background-color: var(--sklearn-color-background);\n",
              "  border-radius: 1rem;\n",
              "  height: 1rem;\n",
              "  width: 1rem;\n",
              "  text-decoration: none;\n",
              "  /* unfitted */\n",
              "  color: var(--sklearn-color-unfitted-level-1);\n",
              "  border: var(--sklearn-color-unfitted-level-1) 1pt solid;\n",
              "}\n",
              "\n",
              "#sk-container-id-15 a.estimator_doc_link.fitted {\n",
              "  /* fitted */\n",
              "  border: var(--sklearn-color-fitted-level-1) 1pt solid;\n",
              "  color: var(--sklearn-color-fitted-level-1);\n",
              "}\n",
              "\n",
              "/* On hover */\n",
              "#sk-container-id-15 a.estimator_doc_link:hover {\n",
              "  /* unfitted */\n",
              "  background-color: var(--sklearn-color-unfitted-level-3);\n",
              "  color: var(--sklearn-color-background);\n",
              "  text-decoration: none;\n",
              "}\n",
              "\n",
              "#sk-container-id-15 a.estimator_doc_link.fitted:hover {\n",
              "  /* fitted */\n",
              "  background-color: var(--sklearn-color-fitted-level-3);\n",
              "}\n",
              "</style><div id=\"sk-container-id-15\" class=\"sk-top-container\"><div class=\"sk-text-repr-fallback\"><pre>KNeighborsClassifier(n_neighbors=3)</pre><b>In a Jupyter environment, please rerun this cell to show the HTML representation or trust the notebook. <br />On GitHub, the HTML representation is unable to render, please try loading this page with nbviewer.org.</b></div><div class=\"sk-container\" hidden><div class=\"sk-item\"><div class=\"sk-estimator fitted sk-toggleable\"><input class=\"sk-toggleable__control sk-hidden--visually\" id=\"sk-estimator-id-15\" type=\"checkbox\" checked><label for=\"sk-estimator-id-15\" class=\"sk-toggleable__label fitted sk-toggleable__label-arrow fitted\">&nbsp;&nbsp;KNeighborsClassifier<a class=\"sk-estimator-doc-link fitted\" rel=\"noreferrer\" target=\"_blank\" href=\"https://scikit-learn.org/1.5/modules/generated/sklearn.neighbors.KNeighborsClassifier.html\">?<span>Documentation for KNeighborsClassifier</span></a><span class=\"sk-estimator-doc-link fitted\">i<span>Fitted</span></span></label><div class=\"sk-toggleable__content fitted\"><pre>KNeighborsClassifier(n_neighbors=3)</pre></div> </div></div></div></div>"
            ]
          },
          "metadata": {},
          "execution_count": 591
        }
      ],
      "source": [
        "knn.fit(X_train_razdel, y_train)"
      ]
    },
    {
      "cell_type": "code",
      "execution_count": 592,
      "id": "v63TbgFHAFx1",
      "metadata": {
        "id": "v63TbgFHAFx1"
      },
      "outputs": [],
      "source": [
        "y_pred_razdel = knn.predict(X_test_razdel)"
      ]
    },
    {
      "cell_type": "markdown",
      "id": "t60bWVqmBVdg",
      "metadata": {
        "id": "t60bWVqmBVdg"
      },
      "source": [
        "### Сравним результаты"
      ]
    },
    {
      "cell_type": "code",
      "execution_count": 593,
      "id": "bCejsGrD7JUh",
      "metadata": {
        "colab": {
          "base_uri": "https://localhost:8080/"
        },
        "id": "bCejsGrD7JUh",
        "outputId": "a3cc13a6-023a-4d9c-c135-dad439bb655c"
      },
      "outputs": [
        {
          "output_type": "stream",
          "name": "stdout",
          "text": [
            "              precision    recall  f1-score   support\n",
            "\n",
            "         0.0       0.79      0.51      0.62      2906\n",
            "         1.0       0.42      0.72      0.53      1418\n",
            "\n",
            "    accuracy                           0.58      4324\n",
            "   macro avg       0.60      0.61      0.57      4324\n",
            "weighted avg       0.67      0.58      0.59      4324\n",
            "\n"
          ]
        }
      ],
      "source": [
        "print(classification_report(y_test, y_pred_default, zero_division=0))"
      ]
    },
    {
      "cell_type": "code",
      "execution_count": 594,
      "id": "-vq40A3uAIXg",
      "metadata": {
        "colab": {
          "base_uri": "https://localhost:8080/"
        },
        "id": "-vq40A3uAIXg",
        "outputId": "38bc8f7b-4903-4a99-9ab4-b1f6b579f0b1"
      },
      "outputs": [
        {
          "output_type": "stream",
          "name": "stdout",
          "text": [
            "              precision    recall  f1-score   support\n",
            "\n",
            "         0.0       0.76      0.65      0.70      2906\n",
            "         1.0       0.45      0.58      0.51      1418\n",
            "\n",
            "    accuracy                           0.63      4324\n",
            "   macro avg       0.60      0.61      0.60      4324\n",
            "weighted avg       0.66      0.63      0.64      4324\n",
            "\n"
          ]
        }
      ],
      "source": [
        "print(classification_report(y_test, y_pred_razdel, zero_division=0))"
      ]
    },
    {
      "cell_type": "markdown",
      "id": "JWAR505FDsO2",
      "metadata": {
        "id": "JWAR505FDsO2"
      },
      "source": [
        "Классификатор с векторайзером на razdel.tokenize лучше не пропускает токсичные комментарии, см. precision, т.е. для удаления токсичных комментариев лучше использовать его (например, чтобы не \"наказывать\" за на самом деле нетоксичные комментарии). Хоть и точность не самая лучшая (можно повысить препроцессингом/посмотреть стемминг и тд, но в задании не было таких требований). По recall, если же нам важно отловить как можно больше токсичных комментариев, лучше использовать векторайзер со встроенным токенизатором.\n",
        "Если важны оба, и нам важно, какой векторайзер \"в целом\" лучше -- смотрим, где лучше F мера. Таким образом, лучший векторайзер с токенизатором из razdel."
      ]
    },
    {
      "cell_type": "markdown",
      "id": "91b9076e",
      "metadata": {
        "id": "91b9076e"
      },
      "source": [
        "## Задание 2 (3 балла)"
      ]
    },
    {
      "cell_type": "markdown",
      "id": "14e25357",
      "metadata": {
        "id": "14e25357"
      },
      "source": [
        "Обучите 2 любых разных классификатора из семинара. Предскажите токсичность для текстов из тестовой выборки (используйте одну и ту же выборку для обоих классификаторов) и найдите 10 самых токсичных для каждого из классификаторов. Сравните получаемые тексты - какие тексты совпадают, какие отличаются, правда ли тексты токсичные?"
      ]
    },
    {
      "cell_type": "markdown",
      "id": "7de962ad",
      "metadata": {
        "id": "7de962ad"
      },
      "source": [
        "Требования к моделям:   \n",
        "а) один классификатор должен использовать CountVectorizer, другой TfidfVectorizer  \n",
        "б) у векторазера должны быть вручную заданы как минимум 5 параметров (можно ставить разные параметры tfidfvectorizer и countvectorizer)  \n",
        "в) у классификатора должно быть задано вручную как минимум 2 параметра (по возможности)  \n",
        "г)  f1 мера каждого из классификаторов должна быть минимум 0.75  \n",
        "\n",
        "*random_seed не считается за параметр"
      ]
    },
    {
      "cell_type": "code",
      "execution_count": 595,
      "id": "-GQ9v_o0Kp3k",
      "metadata": {
        "colab": {
          "base_uri": "https://localhost:8080/"
        },
        "id": "-GQ9v_o0Kp3k",
        "outputId": "e3fc1cfb-dd2d-4c8c-9c5e-1c3fb0cc0161"
      },
      "outputs": [
        {
          "output_type": "stream",
          "name": "stderr",
          "text": [
            "[nltk_data] Downloading package stopwords to /root/nltk_data...\n",
            "[nltk_data]   Package stopwords is already up-to-date!\n"
          ]
        }
      ],
      "source": [
        "import nltk\n",
        "nltk.download('stopwords')\n",
        "from nltk.corpus import stopwords\n",
        "russian_stopwords = stopwords.words(\"russian\")"
      ]
    },
    {
      "cell_type": "code",
      "execution_count": 596,
      "id": "EWqRsNTgrMFJ",
      "metadata": {
        "colab": {
          "base_uri": "https://localhost:8080/"
        },
        "id": "EWqRsNTgrMFJ",
        "outputId": "778c8ebc-308a-48ae-842f-f56707841fb1"
      },
      "outputs": [
        {
          "output_type": "stream",
          "name": "stdout",
          "text": [
            "Requirement already satisfied: pymystem3 in /usr/local/lib/python3.10/dist-packages (0.2.0)\n",
            "Requirement already satisfied: requests in /usr/local/lib/python3.10/dist-packages (from pymystem3) (2.32.3)\n",
            "Requirement already satisfied: charset-normalizer<4,>=2 in /usr/local/lib/python3.10/dist-packages (from requests->pymystem3) (3.4.0)\n",
            "Requirement already satisfied: idna<4,>=2.5 in /usr/local/lib/python3.10/dist-packages (from requests->pymystem3) (3.10)\n",
            "Requirement already satisfied: urllib3<3,>=1.21.1 in /usr/local/lib/python3.10/dist-packages (from requests->pymystem3) (2.2.3)\n",
            "Requirement already satisfied: certifi>=2017.4.17 in /usr/local/lib/python3.10/dist-packages (from requests->pymystem3) (2024.8.30)\n"
          ]
        }
      ],
      "source": [
        "!pip install pymystem3"
      ]
    },
    {
      "cell_type": "code",
      "execution_count": 597,
      "id": "Ky-G0ltcrTDb",
      "metadata": {
        "id": "Ky-G0ltcrTDb"
      },
      "outputs": [],
      "source": [
        "from pymystem3 import Mystem\n",
        "import string"
      ]
    },
    {
      "cell_type": "code",
      "execution_count": 598,
      "id": "BS0ru8OzrTNC",
      "metadata": {
        "id": "BS0ru8OzrTNC"
      },
      "outputs": [],
      "source": [
        "mystem = Mystem(disambiguation=True)"
      ]
    },
    {
      "cell_type": "code",
      "execution_count": 599,
      "id": "MdRihP4WX9t6",
      "metadata": {
        "id": "MdRihP4WX9t6"
      },
      "outputs": [],
      "source": [
        "def custom_tokenizer(smth):\n",
        "  smth = smth.translate(str.maketrans('', '', string.punctuation))\n",
        "  tokens = list(mystem.lemmatize(smth))\n",
        "  return tokens"
      ]
    },
    {
      "cell_type": "markdown",
      "id": "AkDz9714NjMI",
      "metadata": {
        "id": "AkDz9714NjMI"
      },
      "source": [
        "CountVectorizer + LogisticRegression"
      ]
    },
    {
      "cell_type": "code",
      "execution_count": 600,
      "id": "SOQSljlkX7Pj",
      "metadata": {
        "id": "SOQSljlkX7Pj"
      },
      "outputs": [],
      "source": [
        "cvec = CountVectorizer(tokenizer=custom_tokenizer,\n",
        "                       token_pattern=None,\n",
        "                       stop_words=russian_stopwords,\n",
        "                       lowercase=True,\n",
        "                       ngram_range=(1, 2),\n",
        "                       max_df=1.0,\n",
        "                       min_df=0.001\n",
        "                       )"
      ]
    },
    {
      "cell_type": "code",
      "execution_count": 601,
      "id": "5_YSnZCTRmI4",
      "metadata": {
        "colab": {
          "base_uri": "https://localhost:8080/"
        },
        "id": "5_YSnZCTRmI4",
        "outputId": "560067ad-d114-44ae-ae6e-30e49dfcfbac"
      },
      "outputs": [
        {
          "output_type": "stream",
          "name": "stderr",
          "text": [
            "/usr/local/lib/python3.10/dist-packages/sklearn/feature_extraction/text.py:406: UserWarning: Your stop_words may be inconsistent with your preprocessing. Tokenizing the stop words generated tokens ['\\n', 'весь', 'свой', 'это'] not in stop_words.\n",
            "  warnings.warn(\n"
          ]
        }
      ],
      "source": [
        "X_train_cvlog = cvec.fit_transform(X_train)\n",
        "X_test_cvlog = cvec.transform(X_test)"
      ]
    },
    {
      "cell_type": "code",
      "execution_count": 602,
      "id": "EopqTY6jRp2s",
      "metadata": {
        "id": "EopqTY6jRp2s"
      },
      "outputs": [],
      "source": [
        "logreg = LogisticRegression(C=0.1,\n",
        "                          penalty='l2',\n",
        "                          max_iter=1000)"
      ]
    },
    {
      "cell_type": "code",
      "execution_count": 603,
      "id": "4uU1khjjR8OV",
      "metadata": {
        "id": "4uU1khjjR8OV"
      },
      "outputs": [],
      "source": [
        "logreg.fit(X_train_cvlog, y_train)\n",
        "preds_cvlog = logreg.predict(X_test_cvlog)"
      ]
    },
    {
      "cell_type": "markdown",
      "id": "sgwFk8AON0M2",
      "metadata": {
        "id": "sgwFk8AON0M2"
      },
      "source": [
        "TfidfVectorizer + NaiveBayes"
      ]
    },
    {
      "cell_type": "code",
      "execution_count": 604,
      "id": "PjA-R23pMrg7",
      "metadata": {
        "id": "PjA-R23pMrg7"
      },
      "outputs": [],
      "source": [
        "tfidf = TfidfVectorizer(tokenizer=custom_tokenizer,\n",
        "                        token_pattern=None,\n",
        "                        stop_words=russian_stopwords,\n",
        "                        lowercase=True,\n",
        "                        max_features=1000,\n",
        "                        ngram_range=(1, 1),\n",
        "                        max_df=0.4,\n",
        "                        min_df=5)"
      ]
    },
    {
      "cell_type": "code",
      "execution_count": 605,
      "id": "745bd58f",
      "metadata": {
        "colab": {
          "base_uri": "https://localhost:8080/"
        },
        "id": "745bd58f",
        "outputId": "a2100964-1394-47d6-bb62-ea009dc8c95f"
      },
      "outputs": [
        {
          "output_type": "stream",
          "name": "stderr",
          "text": [
            "/usr/local/lib/python3.10/dist-packages/sklearn/feature_extraction/text.py:406: UserWarning: Your stop_words may be inconsistent with your preprocessing. Tokenizing the stop words generated tokens ['\\n', 'весь', 'свой', 'это'] not in stop_words.\n",
            "  warnings.warn(\n"
          ]
        }
      ],
      "source": [
        "X_train_mnbtf = tfidf.fit_transform(X_train)\n",
        "X_test_mnbtf = tfidf.transform(X_test)"
      ]
    },
    {
      "cell_type": "code",
      "execution_count": 606,
      "id": "BZBqqt4K83dN",
      "metadata": {
        "id": "BZBqqt4K83dN"
      },
      "outputs": [],
      "source": [
        "mnb = MultinomialNB(alpha=0.1,\n",
        "                    force_alpha=False,\n",
        "                    fit_prior=False)"
      ]
    },
    {
      "cell_type": "code",
      "execution_count": 607,
      "id": "90311fac",
      "metadata": {
        "id": "90311fac"
      },
      "outputs": [],
      "source": [
        "mnb.fit(X_train_mnbtf, y_train)\n",
        "preds_mnbtf = mnb.predict(X_test_mnbtf)"
      ]
    },
    {
      "cell_type": "markdown",
      "id": "xLBhJKJ08mpo",
      "metadata": {
        "id": "xLBhJKJ08mpo"
      },
      "source": [
        "### Сравнение результатов"
      ]
    },
    {
      "cell_type": "code",
      "execution_count": 608,
      "id": "DqegNPjwSIcu",
      "metadata": {
        "colab": {
          "base_uri": "https://localhost:8080/"
        },
        "id": "DqegNPjwSIcu",
        "outputId": "d52ce831-6655-4f08-8eba-426bea6ecbe8"
      },
      "outputs": [
        {
          "output_type": "stream",
          "name": "stdout",
          "text": [
            "              precision    recall  f1-score   support\n",
            "\n",
            "         0.0       0.84      0.94      0.89      2906\n",
            "         1.0       0.85      0.62      0.72      1418\n",
            "\n",
            "    accuracy                           0.84      4324\n",
            "   macro avg       0.84      0.78      0.80      4324\n",
            "weighted avg       0.84      0.84      0.83      4324\n",
            "\n"
          ]
        }
      ],
      "source": [
        "print(classification_report(y_test, preds_cvlog))"
      ]
    },
    {
      "cell_type": "code",
      "execution_count": 609,
      "id": "dq4Q4KNWjHWe",
      "metadata": {
        "colab": {
          "base_uri": "https://localhost:8080/"
        },
        "id": "dq4Q4KNWjHWe",
        "outputId": "8d4d9f30-f7b9-4b97-ef53-203a60530299"
      },
      "outputs": [
        {
          "output_type": "stream",
          "name": "stdout",
          "text": [
            "              precision    recall  f1-score   support\n",
            "\n",
            "         0.0       0.85      0.86      0.86      2906\n",
            "         1.0       0.71      0.69      0.70      1418\n",
            "\n",
            "    accuracy                           0.81      4324\n",
            "   macro avg       0.78      0.78      0.78      4324\n",
            "weighted avg       0.80      0.81      0.81      4324\n",
            "\n"
          ]
        }
      ],
      "source": [
        "print(classification_report(y_test, preds_mnbtf))"
      ]
    },
    {
      "cell_type": "markdown",
      "id": "fEbj0Kmq8-qG",
      "metadata": {
        "id": "fEbj0Kmq8-qG"
      },
      "source": [
        "Naive Bayes в целом довольно мощный инструмент для текстовой классификации, и он показывает вполне хороший результат, но его все же лучше использовать для мультиклассовой разметки, в то время как логистическая регрессия лучший инструмент для 2 классов."
      ]
    },
    {
      "cell_type": "markdown",
      "id": "_q7lOn2z9_Og",
      "metadata": {
        "id": "_q7lOn2z9_Og"
      },
      "source": [
        "### Сравнение наиболее токсичных текстов"
      ]
    },
    {
      "cell_type": "code",
      "execution_count": 610,
      "id": "76hjW0NJABoT",
      "metadata": {
        "id": "76hjW0NJABoT"
      },
      "outputs": [],
      "source": [
        "proba_cvlog = logreg.predict_proba(X_test_cvlog)"
      ]
    },
    {
      "cell_type": "code",
      "execution_count": 611,
      "id": "zkYih2TXLioZ",
      "metadata": {
        "id": "zkYih2TXLioZ"
      },
      "outputs": [],
      "source": [
        "def get_most_toxic(x, y):\n",
        "  merged_list = [(x[i], y[i][1]) for i in range(0, len(x))]\n",
        "  sorted_list = sorted(merged_list, key=lambda x: x[1])\n",
        "  return sorted_list[-10:]"
      ]
    },
    {
      "cell_type": "code",
      "execution_count": 612,
      "id": "G62Mu7qDQVNF",
      "metadata": {
        "colab": {
          "base_uri": "https://localhost:8080/"
        },
        "id": "G62Mu7qDQVNF",
        "outputId": "ee571735-a5f4-45f2-ccea-b2de94c3184d"
      },
      "outputs": [
        {
          "output_type": "execute_result",
          "data": {
            "text/plain": [
              "[('моча сюда не заходит И как привлекать их внимание? Флешмоб организовать что-ли? Если будешь надоедать моче борьбой с поехавшим, то сам будешь не сильно отличаться от поехавшего. Спейсачерам просто пора научиться игнорировать этого идиота и просто бампать другие треды, вместо того чтобы отвечать шизику. Всё равно никто не хочет с ним говорить, но у него реально в голове иллюзия создается, что он какой-то интересный человек, хотя по сути ему на лицо ссут, а он думает что с ним нормально общаются. Я думаю с ним в жизни никто не общается и даже когда ему на лицо ссут, банят, посылают нахуй, он думает что это общение и радуется как ребенок.\\n',\n",
              "  0.9999984415091223),\n",
              " ('Пошла нахуй свинья. Хохла на штык! Хороший хохол - дохлый хохол. Убей хохла, убей!\\n',\n",
              "  0.9999987435280309),\n",
              " ('лахтадырые и ольгинцы (Лахта, Ольгино) это которые провластные комменты пишут, мол у пендосов еще хуже, в европе пидоры. В рунете дохуя еще киберсотенцев - это хохляцкие ципсо, у них несколько этих самых ципсо, 72-е и 74-е в основном на дваче. Пишут по-русски, как правило от лица русских, создают вбросы, фейкньюс и так далее. Пишут какие же хохлы молодцы, их уже в европу взяли, нам надо им Крым отдать вместе с Кубанью и покаяться. Им американцы еще денежкой помогают, они работают в их интересах и сходят за русских. Хотя часто палятся, пишут через дефис, буква е вместо э , и т.д. Ну есть еще редакторы соцсетей из ФБК - это самые дно, тупые малолетние студентики мечтающие о борьбе против системы, они, как првило, даже забесплатно работают, волонтеры, короче. Пишут как в рашке хуево жить, банду путина долой, и т.д. Их называют окатышами.\\n',\n",
              "  0.9999999188785692),\n",
              " ('Как известно, у Укр ины (т.е. окр ины), слепленной по пьяни на коленке во 2-м десятилетии XX в., нет истории до XX столетия. Все земли, которые сейчас занимает Укр ина, это русские, румынские, польские и венгерские земли. Напоминаем, что укр инство это сугубо левацкая, антиконсервативная местечково-хуторская идеология, направленная, как и прочие левацкие идеи, на разделение больших наций и поддержание диктата интернацистов. Сторонники бандеровцев (леваков, выступавших за бесклассовое общество и борьбу с капитализмом) и карлика-душителя котов Степана Бандеры, который, как известно, боролся с расизмом, поддерживал Идель-Урал и называл побратимами исламских борцов за свободу из Азербайджана, не пользуются симпатиями у правых европейцев. И это правильно. Попытки заявить о некой отдельной нации неких украинцев это манипуляции, созданные с целью оторвать от русских часть их этнических земель и ослабить в будущем Россию. Только так, чудовищной ложью и тотальной пропагандой, фейковая нация укр инцев , слепленная советскими кукловодами из русских Юга и Киевщины, галичан, поляков, советских румын, славянизированных гуцулов, закарпатских венгров, евреев, татар и многонациональных советских новиопов (а ля Бабченко), может обрести жизнь на русских этнических землях. Разумеется, нет никакого народа укр инцев , как бы одно соседнее failed state ни пыталось их вывести из русских путём обмана, коверканья истории и откровенной фальсификации. Нынешний эксперимент по созданию некой украинской нации можно сравнить разве что с советским экспериментом по созданию нации советской на основании таких же мифов, фейков и откровенного бреда. И маниакальное желание снести все памятники выродку Ленину (Бланку) вас не должно обнадёживать. На смену ему устанавливают памятники такого же левацкого дегенерата-кошкодава Бандеры, чьи руки по локоть в славянской (прежде всего, польской) крови. Заместо совковой лжи про Великую революцию Октября пришла точно такая же наглая ложь про Великую революц ю Г дност абстрагируйтесь от фигуры блогера и посмотрите видео Чем в итоге завершился советский эксперимент, мы все знаем. Ждём закономерного итога эксперимента эльфийского (простите, укр инского ). Разумеется, зомбированные люди будут цепляться до последнего за свои мифы про отельный народ и чужих московитов , но всё это наваждение рано или поздно сгинет, как сгинул Совок со своей мощной идеологией, мифами и фейками.',\n",
              "  0.9999999816916113),\n",
              " ('Так ты не по теме гомофорса давай, а в общем. Нахуя ты машешь банхамером? Это не лично твоя доска - не нравится, как общаются некоторые аноны - пили свой сайт и там наводи собственные порядки. Сейчас все выглядит так, что ты встав с утра не с той ноги, начинаешь раздавать баны, увидев там некий намек на срач и пытаясь искусственно зарегулировать доску под какое-то свое виденье того, как доска должна выглядить. Системность следования правилам раздела, отсутствие избирательного отношения или фаворитизма по отношению к тому или иному форсу, - залог стабильного постинга на честной доске. Что ты несешь, шизофреник задроченный? Честная доска? Ты таблеток принял? Кто тебе вообще дал ограничивать право на форс других людей, к тому же относительно фентези сука. Это игра, здесь все выдуманное, але. И вообще, что ты имеешь против гомиков, говна кусок? Ты уже не стесняешься и решил открыто ссать всем обитателям tes в лицо? надоели и стали больно уж натужными, или форсед по-другому. Лично тебе? Повторюсь, создавай свой сайт. Поэтому аноны, упорствующие в гомофорсе, могут и будут забанены на средние сроки - неделю или две. Вообще охуел, чушок. Залетит такое быдло с вконтактов и пикабу, возьмет модераторку и давай из своих туповатых взглядов раздавать баны на право и на лево. Особо упорствующие могут попасть под пермач А я считаю, что тебя должны снять с этой доски. Абу, обрати внимание. Это ебанейший аутист. Таким вообще никакой власти нельзя доверять, это неполноценные люди - даже на доске про компьютерную игру. Совсем поехал, дружок.\\n',\n",
              "  0.9999999924137196),\n",
              " ('Все согласны, блядь. Всем по полному ебучему завтраку, подводит итог Бегби. Рентон не верит своим ушам. Ему хочется послать Бегби на хуй. Но он перебарывает этот порыв и только медленно качает головой: Я не ем мяса, Франко. баное вегетарианство. баный пиздёж. Ты должен есть мясо. баный торчок заботится, на хуй, о том, что он вводит в свой в организм! Я угораю, бля! Просто я не люблю мяса, отвечает Рентон, чувствуя себя полным дураком, и все начинают хихикать. Только не пизди мне о том, что тебе жалко ёбаных животных. Вспомни тех ёбаных собак и кошек, в которых мы с тобой, на хуй, стреляли из духовых ружбаек! А ещё ёбаных голубей, которых мы жгли живьём. Этот чувак делал ебучие шутихи типа как фейерверки из белых мышей. Мне не жалко животных. Просто я не могу их есть, Рентон пожимает плечами, смущённый тем, что Келли узнала о его подростковых зверствах. Бессердечные ублюдки. Не представляю, как можно выстрелить в собаку, ехидничает Элисон, качая головой. А я не представляю себе, как можно убить и съесть свинью, Рентон показывает на бекон и сосиску у неё на тарелке. Это разные вещи. Картошка озирается вокруг: Это, э, это самое Рентс поступает правильно, но только типа как неправильно объясняет. Мы никогда, это самое, не научимся любить друг друга, если не будем заботиться о тех, кто слабее нас, это самое, животных там, и всё такое но хорошо, что Рентс вегетарианец это самое, если ты можешь воздерживаться это самое Бегби неуклюже трясётся всем телом и жестом заставляет Картошку замолчать. Остальные смеются. Рентон, благодарный Картошке за попытку поддержать его, вмешивается, чтобы перевести огонь на себя. Дело не в воздержании. Просто я терпеть не могу мяса. Меня от него тошнит. Вот и всё. И всё равно я говорю, блядь, что ты хочешь всё, на хуй, пересрать. Почему? Потому что я так сказал, блядь, вот почему, на хуй! шипит Бегби, показывая на себя. Рентон опять пожимает плечами. Спорить дальше нет смысла. Самые эгоистичные люди - это вегетарианцы, да.\\n',\n",
              "  0.9999999997411007),\n",
              " ('Ну давай разберём всё тобой написанное. Бляядь, вы действительно думаете вы лучше пидорашек? Ну в целом, всё что живёт в рашке - затронуто говномидасом, но никто тут это не признает. сейчас воспитывают массу хороших кодеров В соседнем треде обоссали уже. Иди обтекай. Вы унижаете русских детей в школе Я учился в рашке и у нас был класс, который состоял онли из русачков. Думаешь, что то изменилось? Чурки тебе говна в жопу залили и заставили русачков в классе кошмарить омежных русачков? Я не люблю выражаться фразами нациков, но вы воистину столетия просто сидели в горах и ебали баранов, вас даже народ-пидор смог захватить. Плоховато ты знаешь историю. Когда русня пришла на Кавказ, тут всё уже было поделено османами и персами. А потом РИ наебала персов и постоянно нападала на османов высасывая причины из пальца, в принципе, русачки, что от них ещё было ожидать. В прошлом вы (чеченцы, даги и прочие сорта) были просто дикарями...А если говорить о среднеазиатах, которые бугуртят с оккупации, то вы были обычными нищими кочевниками Очередной акт незнания истории. Например у кавказцев по факту у народов отвественных за этногенез дагов и азеров уже был Дербент, а русачков даже в планах не было. Почитай историю Кавказа и Средней Азии, там были и локальные империи и нагибы округи и прочее и прочее. Называют русских пидорашками, славщитом. Говоришь это так, будто бы в этом что то плохое. У меня знакомые po рашеры irl, которые являются русскими и которые ссут на русню с ещё большей колокольни чем я Сейчас вас все боятся потому, что если пидорашка сделает в вас пару дырок, защищая себя, то его посадят на бутылку, а если вы убьёте пидорашку, то вам нихуя не будет. Может потому что в рашке мочить с волыны ножа человека, который идёт на тебя с кулаками - превышение пределов самообороны? Кто виноват в том, что русня настолько вырожденческая, что один чеченский доходяга ставит на колени группу русачков? Ты думаешь, будь руснявая гопота менее вырожденческая, то так же людей не кошмарила? Кто виноват, что вы морозитесь или даёте по съебатору, когда видите, как вашего славянского друга избивают унижают? Да чего уж там, тот митинг вспомните, где жирик, какого то парня на колени поставил и все вокруг стоят и снимают, словно стадо руснявых баранов. Зуб даю, в той толпе стояли его друзья и знакомые. Лично для меня это пиздец, особенно проигрываю, когда там не какой нибудь братуха-борцуха, а смарчёк чеченский. Никогда бы не бросил и не бросал друга в таком пиздеце и не важно, какой нации был друг, а какой нападавший. Вся ваша проблема не том, что вы слабками, не в том, что большинство русачков еблом похож на свинью, не в том, что за тысячу лет существования не смогли построить нормальную цивилизацию и другим не давали. Проблема в обыкновенной ошибке выжившего, вы видите кавказское быдло гопника, потому что оно в среднем сильнее, напористее, агрессивнее и образ кавказца, как лица которое представляет опасность выжигается у вас в мозгах, при этом не хотите замечать, что у вас, целые города набитые руснявыми АУЕшниками, потому что один среднестатистический руснявый гопник ауешник быдлойд сосёт у одного среднестатистического чуркобесского гопника быдлойда. В конечном итоге русачков в станице кущевской ебал кто? Другие русачки. В школу приезжали и выберали лолей на поёбку кто? Другие русачки. Сжигал русачков кто? Другие русачки. Всё вскрылось совершенно случайно. Сколько таких станиц, деревень и городов по всей рашке? аз-кун\\n',\n",
              "  0.9999999999991003),\n",
              " ('На одном из симпозиумов встретились четыре лингвиста: англичанин, немец, итальянец и русский. Речь зашла о языках. Начали спорить, а чей язык красивее, лучше, богаче, и какому языку принадлежит будущее? Англичанин сказал: Англия страна великих завоевателей, мореплавателей и путешественников, которые разнесли славу её языка по всем уголкам всего мира. Английский язык язык Шекспира, Диккенса, Байрона несомненно, лучший язык в мире . Ничего подобного , заявил немец, Наш язык язык науки и физики, медицины и техники. Язык Канта и Гегеля, язык, на котором написано лучшее произведение мировой поэзии Фауст Гёте . Вы оба неправы , вступил в спор итальянец, Подумайте, весь мир, всё человечество любит музыку, песни, романсы, оперы! На каком языке звучат лучшие любовные романсы и гениальные оперы? На языке солнечной Италии ! Русский долго молчал, скромно слушал и, наконец, промолвил: Конечно, я мог также, как каждый из вас, сказать, что русский язык язык Пушкина, Толстого, Тургенева, Чехова превосходит все языки мира. Но я не пойду по вашему пути. Скажите, могли бы вы на своих языках составить небольшой рассказ с завязкой, с последовательным развитием сюжета, чтобы при этом все слова рассказа начинались с одной и той же буквы? Это очень озадачило собеседников и все трое заявили: Нет, на наших языках это невозможно . Тогда русский отвечает: А вот на нашем языке это вполне возможно, и я сейчас это вам докажу. Назовите любую букву . Немец ответил: Всё равно. Буква П , например . Прекрасно, вот вам рассказ на эту букву , ответил русский. Пётр Петрович Петухов, поручик пятьдесят пятого Подольского пехотного полка, получил по почте письмо, полное приятных пожеланий. Приезжайте, писала прелестная Полина Павловна Перепёлкина, поговорим, помечтаем, потанцуем, погуляем, посетим полузабытый, полузаросший пруд, порыбачим. Приезжайте, Пётр Петрович, поскорее погостить . Петухову предложение понравилось. Прикинул: приеду. Прихватил полустёртый полевой плащ, подумал: пригодится. Поезд прибыл после полудня. Принял Петра Петровича почтеннейший папа Полины Павловны, Павел Пантелеймонович. Пожалуйста, Пётр Петрович, присаживайтесь поудобнее , проговорил папаша. Подошёл плешивенький племянник, представился: Порфирий Платонович Поликарпов. Просим, просим . Появилась прелестная Полина. Полные плечи прикрывал прозрачный персидский платок. Поговорили, пошутили, пригласили пообедать. Подали пельмени, плов, пикули, печёнку, паштет, пирожки, пирожное, пол-литра померанцевой. Плотно пообедали. Пётр Петрович почувствовал приятное пресыщение. После приёма пищи, после плотного перекуса Полина Павловна пригласила Петра Петровича прогуляться по парку. Перед парком простирался полузабытый полузаросший пруд. Прокатились под парусами. После плавания по пруду пошли погулять по парку. Присядем , предложила Полина Павловна. Присели. Полина Павловна придвинулась поближе. Посидели, помолчали. Прозвучал первый поцелуй. Пётр Петрович притомился, предложил полежать, подстелил полустёртый полевой плащ, подумал: пригодился. Полежали, повалялись, повлюблялись. Пётр Петрович проказник, прохвост , привычно проговорила Полина Павловна. Поженим, поженим! , прошептал плешивенький племянник. Поженим, поженим , пробасил подошедший папаша. Пётр Петрович побледнел, пошатнулся, потом побежал прочь. Побежав, подумал: Полина Петровна прекрасная партия, полноте париться . Перед Петром Петровичем промелькнула перспектива получить прекрасное поместье. Поспешил послать предложение. Полина Павловна приняла предложение, позже поженились. Приятели приходили поздравлять, приносили подарки. Передавая пакет, приговаривали: Прекрасная пара . Собеседники-лингвисты, услышав рассказ, вынуждены были признать, что русский язык самый лучший и самый богатый язык в мире.\\n',\n",
              "  0.9999999999998048),\n",
              " ('В Киеве на вокзале Мен було рок в 19, коли мене перший раз мав в зад хлопець рок в п д 30. Я тод перш рази став заходити на вокзал Ки в-Пасажирський в туалети - де були каб ни з д рками написи на ст нах. Так як досв ду ще не було н якого, то як знайомиться не уявляв. Сам перший природно не п дходив. А видивлявся на написи. дрочив св й член стоячи в каб нц . Хлопець був у сус дн й каб нц , в н побачив це, хитнув мен головою, запрошуючи п ти з ним. А так як н кого б льше в той момент не було, а був уже веч р, над на щось нше не було -все ж п шов за ним. У мене вже тод з явилася молофья - я вже спускав. Так як трохи ран ше ще не було, при дрочц робив це до при много стану - коли просто ставало дуже добре - але з хуя н чого не вид лялося. А до цього мен вже к лька раз в смоктали член хлопц мужики, я спускав м в рот, знав як це при мно. Ми прийшли б ля вокзалу кудись в кущ . В н розстебнув мен мотню, д став м й член став дрочити. А в той час нав ть це - коли хтось чужий рукою просто всього лише дрочив мен - було все одно дуже при мно. забирало. Бо коли тоб дрочать чужою рукою в дитинств - це вже щось: в д цього балд ш дуже. В н, ймов рно, здогадуючись, що перед ним зовс м новачок не намагався нав ть мен св й дати в руку: Так в н мене зав в , а пот м попросив повернутися: Я запитав нав що, справд не розум ючи нав що - а в н сказав треба так. я як теля повернувся п дкоряючись команд дорослого. В н приспустив мен штани, труси приставив до дерева у якого ми стояли, трохи нагнувши мене. А сам встав ззаду. По звуках я зрозум в, що в н розст ба соб свою мотню д ста св й член. В н притулився до мо поп сво м хуем, в д чого я здригнувся, але в н взяв мене за м й член знову став дрочити. А ншою рукою водити по стегнах з внутр шньо сторони. П д ймаючись в д кол н до поп - це посилювало кайф в д дрочк , я мл в, в н це теж в дчував, вже спок йно став тертися сво м хуем мен по поп . Пот м в н перестав дрочити мен , я почув як в н послинив св й член мою д рочку приставив мен св й член, в дсунув мене в д дерева трохи, пригнув мене почав засовували член в мене. Я стояв нагнувшись, упершись руками в дерево, н живий, н мертвий - перший раз в житт хлопець в мене засовував св й хуй! Я боявся - як все буде, що буде з мною, як це. Мен пощастило, звичайно, для першого разу, що у нього був маленький тонкий хуй. Тому н яких проблем у нього з всуванням його хуя в мою св жу попку не було. Оск льки мен не було боляче або непри мно я стояв не с паючись. Чекаючи як що буде дал :. В н засунув св й член весь в мене. т льки коли в н встромив його до к нця - було в дчуття що в н у щось уперся. Але не боляче зовс м. треба сказати чесно, що було при мно в дчувати, коли яйця його доторкнулися до мо попки, до д рочки, коли весь член був уже всередин не .. Це при мне в дчуття, коли умоглядно уявля ш що в тебе чийсь член засунуть: Це було мабуть нав ть при мн ше н ж все нше - в дчувати його яйця б ля очка. Коли весь член вже там. коли в н пот м став й бати мене, я намагався щоб част ше яйця його впиралися в попу мен , нав ть нод насаджувався сам глибше на його член, до упору. Але показувати що мен щось при мно тод здавалося ще не зручним - б льший час я просто стояв обхопивши дерево руками, а в н вставляв член в мене. Хоча особливого кайфу я ще тод не в дчував - було в дчуття - що просто в мене встромляв хлопець св й член ходив там. Так в н мав мене, продовжуючи одночасно весь цей час одн ю рукою дрочить мен - п дтримуючи в мен бажання: - ось в д цього мен було при мно. Природно. Це був його розрахунок. Я досить швидко в д дрочк чужою рукою спустив, в дразу з скочив з його члена. Але в дчув що у мене щось липкою ззаду на стегнах: Що щось тече по стегнах з очка. ось це мене засмутило сильно. вбило - я здогадався зрозум в що в н спустив в мене. Запитав, - Ти що ск нчив у мене? в н сказав - так. запитав мене - а ти що перший раз це робив? я мало не плачучи в д образи сказав - що так, перший раз: поставив йому дурне питання - нав що ти в мене спустив? Я не припускав цього, думав що в н просто посует ться в мене св й хуй все, а тут мен стало не по соб : було огидно, - особливо п сля того як сам пустив, - що на мен чужа гидота , як тод сприймав чужу малофю . Та тим б льше на сво му т л . Але справа була зроблена: хлопця 19 рок в видрали в дупу! спустили сперму йому в очко! В струнку, пружну, н жну попочку з н жною д рочкою, засунувши в не перший раз член! У перший момент було огидно в д того що щось липке, спочатку тепле, ст кало по стегнах, а пот м застигло так: (а так як не готувався до цього, то витерти було н чим:) Тод було прикро, не за те що ви бав, а що не попередивши, спустив в мене. Так як тод сперма сприймалася як щось мерзенне, тим б льше на соб . Пот м згадував про це вже з та мним насолодою, нав ть бажанням, щоб це повторилося: я поб г швидко з цього м сця, скор ше в д нього, а липка р дина на стегнах весь час нагадувала, що мене т льки що ви бли в жопу. Слава Укра н !',\n",
              "  1.0),\n",
              " ('Блеаадь, как же обидно когда создаешь тред, пародируешь речь ватников, случайно употребив слово из скрипта, и он скрывается у всех. Пересоздаю. Я много лет тут сижу с вами и обсераю пидорашек хоть я и сам один из них , смеюсь над их смертями, делаю фотожабы с обезьянами. Я-то думал это делают русские русофобы и украинцы, которых процентов 10, поэтому не относился как к чему-то иному как самокритике, самоиронии или справедливому негодованию из-за войны на Донбассе (в конце концов, я считаю украинцев своими братьями и их бугурт небезосновательным). Но меня нахуй осенило когда сначала вернули значки, а потом произошел расстрел мечети в НЗ. Тут до кучи блядских муслимов и они делают это вместе с нами (я думал они слишком беспросветно тупы для того, чтобы интересоваться политикой). Называют русских пидорашками, славщитом. Бляядь, вы действительно думаете вы лучше пидорашек? И вообще славян? Хорошо, я согласен, что кавказские мужчины часто выглядят лучше русских. Но в остальном вы намного хуже даже пидорашек, которые живут окруженные говном и не охуевают, когда с утра, выходя из подъезда на работу, вступают в десятисантиметровую грязь, считая это нормой; которые не имеют никакой солидарности ни по какому признаку, ненавидят друг друга априори, даже своих детей бросают как ёбаные негры, которые скорее сдадут тебя начальству за маячащее вознаграждение (которого им не дадут), если попытаешься подбить людей на забастовку из-за невыплаты зарплаты за полгода; трусливый и терпеливый скот, который барина превозносит и делит людей на касты по признаку наличия и крутости жоповозки; пиздлявые уебки, которые превозносят свой уебищный совок, КОТОРЫЙ ИЗОБРЕЛ ВСЕ В МИРЕ А АМЕРИКАНЦЫ УКРАЛИ!!11, но по факту выясняется, что совок сам практически нихуя не построил и не модернизировал, всё либо по западным проектам с согласия запада, либо с помощью технологического шпионажа. Воистину народ-гной, народ-пидор, народ-мразь, самый подлый народ в мире. Но вы даже на фоне пидорашек выглядите микробами, вы просто ёбаные ничтожества, причем я не пытаюсь вас оскорбить, мои слова действительно отражают вложенный в них изначальный смысл, вы ничто. Да, пидорашки именно такие, какими я описал их выше, они уберхуевые, но они днище цивилизованных народов, тогда как вас к этим цивилизованным народам даже отнести нельзя. Пидорашки хоть что-то изобрели, а если не изобрели, то смогли спиздить и воссоздать технологии и не просто какую-нибудь открывалку банок, а ядерное оружие и энергетику, создали ценящуюся в мире литературу, создали пусть и хуёвую, милитаризованную, построенную на лжи и крови, угнетении и унижении собственных граждан и в конце концов развалившуюся, но сверхдержаву, сделали массу географических открытий и захватили полмира, сейчас воспитывают массу хороших кодеров (правда они скорее воспитываются не благодаря, а вопреки, когда видят какой пиздец вокруг и находят из него такой выход). Не говоря уж об остальных славянах, которых вы тут презрительно называете славщитом и чистильщиками британских туалетов. А по факту поймите, мы-то конечно говно, по сравнению со странами первого мира, с Китаем, ЮК и Японией, даже со странами Южной Америки. Но вы-то блядь даже среди рашкинских регионов самое дно. В прошлом вы (чеченцы, даги и прочие сорта) были просто дикарями, которые нападали на русские караваны и только поэтому вас решили выебать и зохватить. А если говорить о среднеазиатах, которые бугуртят с оккупации, то вы были обычными нищими кочевниками, подтиравшимися камнем и пьющими верблюжью мочу, не имеющими названий народами. Сейчас вас все боятся потому, что если пидорашка сделает в вас пару дырок, защищая себя, то его посадят на бутылку, а если вы убьёте пидорашку, то вам нихуя не будет. И есть мнение, что это сделано специально, чтобы русский воспитывался униженным рабом. Вы унижаете русских детей в школе, потому что вы агрессивные обезьяны, не способные в диалог и возгорающиеся с малейшей искры, и пусть мне тут кто-нибудь заикнется про протопоповскую хуету, дети в школе должны учиться, вдохновляться и выбирать будущую профессию, а не бороться за выживание и дебильный статус в иерархии. И не слушайте дебилов из b , унижение и избиение слабых не делает вас лучше тех, кого вы унижаете, делает защита. Я не люблю выражаться фразами нациков, но вы воистину столетия просто сидели в горах и ебали баранов, вас даже народ-пидор смог захватить. Я знаю, что есть много армянских ученых, музыкантов, известных людей всех сортов, получивших признание в странах первого мира. Я знаю про охуенную грузинскую культуру (которую вы, судя по всему, нагло спиздили в свое время). Но где блядь чеченские я знаю, что вас тут особенно много, поэтому акцентирую внимание именно на вас среди всех муслимских народов СНГ , дагестанские ученые? Открыли дверь? Где государства, культуры? Почему в среднеазиатских парашах работы нет вообще и они все едут уже не в рашку, а в азиатские страны работать заграницу? Хоть что-то есть в вас достойное упоминания, кроме наглости и агрессии? Арийцы, блядь? Самая чистая раса, о чем любят похвастаться чеченцы? Пик 2, вот такие арийцы. Помесь арабов турков, славян и других европеоидов. Алсо, Володин долбит, Пыня хуйло, рашка бантустан, русня народ-гной.\\n',\n",
              "  1.0)]"
            ]
          },
          "metadata": {},
          "execution_count": 612
        }
      ],
      "source": [
        " log_toxic = get_most_toxic(X_test, proba_cvlog)\n",
        " log_toxic"
      ]
    },
    {
      "cell_type": "code",
      "execution_count": 613,
      "id": "GrrHIYwY_chE",
      "metadata": {
        "id": "GrrHIYwY_chE"
      },
      "outputs": [],
      "source": [
        "proba_mnbtf = mnb.predict_proba(X_test_mnbtf)"
      ]
    },
    {
      "cell_type": "code",
      "execution_count": 614,
      "id": "9KRw8YGtFM4-",
      "metadata": {
        "colab": {
          "base_uri": "https://localhost:8080/"
        },
        "id": "9KRw8YGtFM4-",
        "outputId": "b10495fb-6660-4a94-dbb1-125d328ed750"
      },
      "outputs": [
        {
          "output_type": "execute_result",
          "data": {
            "text/plain": [
              "[('Двачую этого. Свиньи уже в наглую пиздят что их тут нет и что они не срут в по мойке\\n',\n",
              "  0.9985533434410686),\n",
              " ('Сука, как же я обосрался с этого шерлока, до слёз блять\\n',\n",
              "  0.9986211864294432),\n",
              " ('мне поебать на его финансы и кто он. Не пизди, шлюха. Выкладывай своё ебло, мы поржем.\\n',\n",
              "  0.9986585288817517),\n",
              " ('Блядь, хохлы, вы бы хоть с проксей писали, няши тупые.\\n',\n",
              "  0.9987527126280894),\n",
              " ('Все, едем в пендостан ебать тупых пендосских шлюх.\\n', 0.9987745152706767),\n",
              " ('БЕЛАРУСЬ, БЛЯТЬ, БЕЛАРУСЬ. СПИДОРСВИН, БЛЯТЬ. НЕПРОБИВАЕМАЯ ХОХЛИНА, СУКА. Какие-же хохлы дененераты, пиздец просто.\\n',\n",
              "  0.9989900493239645),\n",
              " ('Ты охуела, мразь? Я же тебя найду блять. Гридин не свинья, ты понял, петух? НЕ СМЕЙ НАЗЫВАТЬ КУЗЬМУ СВИНЬЕЙ ДЭБИЛ ГОРОХОВЫЙ!\\n',\n",
              "  0.9992794731901933),\n",
              " ('Пошла нахуй свинья. Хохла на штык! Хороший хохол - дохлый хохол. Убей хохла, убей!\\n',\n",
              "  0.9994918125204185),\n",
              " ('Пидорашек выселить, а не хохлов Ты сам себе противоречишь, дурачок.\\n',\n",
              "  0.9996357391070707),\n",
              " ('Какие же хохлы новозеландцы дегенераты.\\n', 0.9997965830472509)]"
            ]
          },
          "metadata": {},
          "execution_count": 614
        }
      ],
      "source": [
        " mnbtf_toxic = get_most_toxic(X_test, proba_mnbtf)\n",
        " mnbtf_toxic"
      ]
    },
    {
      "cell_type": "markdown",
      "id": "5KoNeusqR-lK",
      "metadata": {
        "id": "5KoNeusqR-lK"
      },
      "source": [
        "Пересечений текстов нет (неудивительно, тк логистическая регрессия поставила многим комментариям 1.0), в обоих случаях тексты токсичные, однако наиболее токсичные тексты нашел Naive Bayes."
      ]
    },
    {
      "cell_type": "markdown",
      "id": "6f228c3e",
      "metadata": {
        "id": "6f228c3e"
      },
      "source": [
        "## Задание 3 (4 балла - 1 балл за каждый классификатор)"
      ]
    },
    {
      "cell_type": "markdown",
      "id": "566929b7",
      "metadata": {
        "id": "566929b7"
      },
      "source": [
        "Для классификаторов Logistic Regression, Decision Trees, Naive Bayes, RandomForest найдите способ извлечь важность признаков для предсказания токсичного класса. Сопоставьте полученные числа со словами (или нграммами) в словаре и найдите топ - 5 \"токсичных\" слов для каждого из классификаторов.\n",
        "\n",
        "Важное требование: в топе не должно быть стоп-слов. Для этого вам нужно будет правильным образом настроить векторизацию.\n",
        "Также как и в предыдущем задании у классификаторов должно быть задано вручную как минимум 2 параметра (по возможности, f1 мера каждого из классификаторов должна быть минимум 0.75"
      ]
    },
    {
      "cell_type": "code",
      "execution_count": 615,
      "id": "pPDn-ab_TdkV",
      "metadata": {
        "id": "pPDn-ab_TdkV"
      },
      "outputs": [],
      "source": [
        "import re\n",
        "def custom_tokenizer(smth):\n",
        "  smth = re.sub(r'[^\\w\\s]+|[\\d]+', r'',smth)\n",
        "  smth = smth.translate(str.maketrans('', '', string.punctuation))\n",
        "  tokens = list(mystem.lemmatize(smth))\n",
        "  tokens = [i for i in tokens if i not in {' ', '\\n', '  '}]\n",
        "  return tokens"
      ]
    },
    {
      "cell_type": "code",
      "execution_count": 616,
      "id": "TuE2D2ZNZ4wS",
      "metadata": {
        "id": "TuE2D2ZNZ4wS"
      },
      "outputs": [],
      "source": [
        "X_train, X_test, y_train, y_test = train_test_split(data.comment.tolist(), data.toxic.tolist(), test_size=0.3, random_state=42)\n",
        "# X_train_for_cvec = [custom_tokenizer(i) for i in X_train]\n",
        "# X_test_for_cvec = [custom_tokenizer(i) for i in X_test]"
      ]
    },
    {
      "cell_type": "code",
      "execution_count": 617,
      "id": "nIwAIvRqYJ24",
      "metadata": {
        "id": "nIwAIvRqYJ24"
      },
      "outputs": [],
      "source": [
        "cvec = CountVectorizer(tokenizer=custom_tokenizer,\n",
        "                       token_pattern=None,\n",
        "                       stop_words=russian_stopwords,\n",
        "                       lowercase=True,\n",
        "                       ngram_range=(1, 2),\n",
        "                       max_df=1.0,\n",
        "                       min_df=0.001\n",
        "                       )"
      ]
    },
    {
      "cell_type": "code",
      "execution_count": 618,
      "id": "bfg9dTWDYLkj",
      "metadata": {
        "colab": {
          "base_uri": "https://localhost:8080/"
        },
        "id": "bfg9dTWDYLkj",
        "outputId": "36f69681-8899-4f30-9768-e66d1abc5870"
      },
      "outputs": [
        {
          "output_type": "stream",
          "name": "stderr",
          "text": [
            "/usr/local/lib/python3.10/dist-packages/sklearn/feature_extraction/text.py:406: UserWarning: Your stop_words may be inconsistent with your preprocessing. Tokenizing the stop words generated tokens ['весь', 'свой', 'это'] not in stop_words.\n",
            "  warnings.warn(\n"
          ]
        }
      ],
      "source": [
        "X_train_cv = cvec.fit_transform(X_train)\n",
        "X_test_cv = cvec.transform(X_test)"
      ]
    },
    {
      "cell_type": "code",
      "execution_count": 619,
      "id": "81f86878",
      "metadata": {
        "id": "81f86878"
      },
      "outputs": [],
      "source": [
        "classifiers = {'MultinomialNB': MultinomialNB(alpha=0.1),\n",
        "               'DecisionTreeClassifier': DecisionTreeClassifier(max_depth=10000,\n",
        "                                                                criterion=\"log_loss\",\n",
        "                                                                class_weight='balanced'),\n",
        "               'LogisticRegression': LogisticRegression(C=0.1,\n",
        "                                                        penalty='l2',\n",
        "                                                        max_iter=1000),\n",
        "               'RandomForestClassifier': RandomForestClassifier(n_estimators=1000,\n",
        "                                                                max_depth=10000)}"
      ]
    },
    {
      "cell_type": "code",
      "execution_count": 620,
      "id": "15af4e1f",
      "metadata": {
        "id": "15af4e1f"
      },
      "outputs": [],
      "source": [
        "from sklearn.metrics import f1_score\n",
        "import numpy as np\n",
        "\n",
        "def get_toxic(k, v):\n",
        "  if k == 'MultinomialNB':\n",
        "    feature_probas = v.feature_log_prob_[1]\n",
        "  if k == 'DecisionTreeClassifier':\n",
        "    feature_probas = v.feature_importances_\n",
        "  elif k == 'RandomForestClassifier':\n",
        "    feature_probas = v.feature_importances_\n",
        "  elif k == 'LogisticRegression':\n",
        "    feature_probas = v.coef_[0]\n",
        "  return feature_probas"
      ]
    },
    {
      "cell_type": "code",
      "execution_count": 621,
      "id": "eAf8_n6YWhYq",
      "metadata": {
        "id": "eAf8_n6YWhYq"
      },
      "outputs": [],
      "source": [
        "def get_most_toxic(feature_probs, cvec):\n",
        "  feature_names = cvec.get_feature_names_out()\n",
        "  feature_probs = list(feature_probs)\n",
        "  merged_list = [(feature_names[i], feature_probs[i]) for i in range(0, len(feature_names))]\n",
        "  sorted_list = sorted(merged_list, key=lambda x: x[1])\n",
        "  return sorted_list[-5:]"
      ]
    },
    {
      "cell_type": "code",
      "execution_count": 622,
      "id": "Kph13REZKQBC",
      "metadata": {
        "colab": {
          "base_uri": "https://localhost:8080/"
        },
        "id": "Kph13REZKQBC",
        "outputId": "58a1b7fd-bdab-4149-b74c-13e580a5a18c"
      },
      "outputs": [
        {
          "output_type": "stream",
          "name": "stdout",
          "text": [
            "\n",
            "MultinomialNB : 0.7487609607319863,\n",
            "('человек', -4.7369706089170265)\n",
            "('просто', -4.713449336386332)\n",
            "('свой', -4.461360314728199)\n",
            "('весь', -4.3748760263393045)\n",
            "('это', -3.5659423398971084)\n",
            "\n",
            "DecisionTreeClassifier : 0.6487883683360258,\n",
            "('это', 0.011159094390809959)\n",
            "('тупой', 0.011390086356310268)\n",
            "('твой', 0.011922345591039751)\n",
            "('год', 0.016076487140025245)\n",
            "('хохол', 0.020351661231020845)\n",
            "\n",
            "LogisticRegression : 0.6712983065566652,\n",
            "('русский', 1.1157974242372881)\n",
            "('тупой', 1.2101488966295366)\n",
            "('дебил', 1.2505350070804986)\n",
            "('хохлов', 1.2515009698235882)\n",
            "('хохол', 1.7926202871422294)\n",
            "\n",
            "RandomForestClassifier : 0.7142857142857143,\n",
            "('тупой', 0.009057990572498304)\n",
            "('хохлов', 0.009560001027919447)\n",
            "('год', 0.01054014500100382)\n",
            "('русский', 0.010568879271957045)\n",
            "('хохол', 0.018615758810921028)\n"
          ]
        }
      ],
      "source": [
        "for k, v in classifiers.items():\n",
        "  model = v\n",
        "  model.fit(X_train_cv, y_train)\n",
        "  y_pred_v = model.predict(X_test_cv)\n",
        "  f1 = f1_score(y_test, y_pred_v)\n",
        "  most_toxic = get_most_toxic(get_toxic(k, v), cvec)\n",
        "  print(f'\\n{k} : {f1},')\n",
        "  [print(i) for i in most_toxic]"
      ]
    },
    {
      "cell_type": "markdown",
      "source": [
        "Перепробовала параметры, которые были ранее, почему-то все модели стали показывать результаты хуже..."
      ],
      "metadata": {
        "id": "CVywvQzD1jMP"
      },
      "id": "CVywvQzD1jMP"
    },
    {
      "cell_type": "code",
      "execution_count": 622,
      "id": "uQRue5WjUq9D",
      "metadata": {
        "id": "uQRue5WjUq9D"
      },
      "outputs": [],
      "source": []
    }
  ],
  "metadata": {
    "colab": {
      "provenance": []
    },
    "kernelspec": {
      "display_name": "Python 3 (ipykernel)",
      "language": "python",
      "name": "python3"
    },
    "language_info": {
      "codemirror_mode": {
        "name": "ipython",
        "version": 3
      },
      "file_extension": ".py",
      "mimetype": "text/x-python",
      "name": "python",
      "nbconvert_exporter": "python",
      "pygments_lexer": "ipython3",
      "version": "3.8.14"
    }
  },
  "nbformat": 4,
  "nbformat_minor": 5
}